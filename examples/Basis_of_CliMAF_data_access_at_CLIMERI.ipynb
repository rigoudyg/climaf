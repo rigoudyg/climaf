{
 "cells": [
  {
   "cell_type": "code",
   "execution_count": 1,
   "metadata": {},
   "outputs": [
    {
     "data": {
      "text/html": [
       "<img src=\"https://vesg.ipsl.upmc.fr/thredds/fileServer/IPSLFS/jservon/CliMAF_Notebooks_html/CliMAF-logo-small.png\"/>"
      ],
      "text/plain": [
       "<IPython.core.display.Image object>"
      ]
     },
     "execution_count": 1,
     "metadata": {},
     "output_type": "execute_result"
    }
   ],
   "source": [
    "from IPython.display import Image\n",
    "Image(url='https://vesg.ipsl.upmc.fr/thredds/fileServer/IPSLFS/jservon/CliMAF_Notebooks_html/CliMAF-logo-small.png') "
   ]
  },
  {
   "cell_type": "markdown",
   "metadata": {},
   "source": [
    "### A science-oriented framework to ease the analysis of climate model simulations\n",
    "##### WP5 ANR Convergence\n",
    "##### Development team: Stéphane Sénési (CNRM-GAME), Gaëlle Rigoudy (CNRM-GAME), Jérôme Servonnat (LSCE-IPSL), Ludivine Vignon (CNRM-GAME), Laurent Franchisteguy (CNRM-GAME), Patrick Brockmann (LSCE-IPSL)\n",
    "##### Beta-testing: Olivier Marti (LSCE-IPSL), Marie-Pierre Moine (CERFACS), Emilia Sanchez-Gomez (CERFACS)\n",
    "##   \n",
    "##### contact: climaf@meteo.fr\n",
    "##### users list: climaf-users@meteo.fr"
   ]
  },
  {
   "cell_type": "markdown",
   "metadata": {},
   "source": [
    "The goals of CliMAF are to provide the scientists with simplified and science-oriented means for :\n",
    "- accessing both model and references data\n",
    "- pre-tretament (period and geographical selections, regridding, averaging like seasonal mean computations...)\n",
    "- plotting  maps, cross-sections and time series\n",
    "- building  atlases\n",
    "- plugging personal scripts in an atlas or in an analysis workflow\n",
    "- sharing such scripts\n",
    "- handlling ensembles (multi-model, multi-realization)\n",
    "CliMAF provides full managment of the outputs by handling the naming of the output files; it also stores the information on \"how I obtained this file\" under the form of an expression called CRS (CliMAF Reference Syntax) that allows checking for the existing files and avoid recomputing the same files twice (or more)."
   ]
  },
  {
   "cell_type": "markdown",
   "metadata": {},
   "source": [
    "#  \n",
    "#   "
   ]
  },
  {
   "cell_type": "markdown",
   "metadata": {},
   "source": [
    "# Access to CMIP data at CLIMERI, and much more\n",
    "In this notebook we will see:\n",
    "- 1. A simple example with a CMIP5 dataset \n",
    "- 2. Explore an archive with the .explore() built-in method\n",
    "- 3. the CMIP6 archive\n",
    "- 4. use the magical CMIP5_extent project to extend the CMIP5 historical runs with a bit of scenario\n",
    "- 5. CORDEX\n",
    "- 6. libIGCM simulations\n",
    "- 7. some references\n",
    "#  "
   ]
  },
  {
   "cell_type": "markdown",
   "metadata": {},
   "source": [
    "## First, import climaf"
   ]
  },
  {
   "cell_type": "code",
   "execution_count": 2,
   "metadata": {},
   "outputs": [
    {
     "name": "stderr",
     "output_type": "stream",
     "text": [
      "CliMAF version = 1.2.13\n"
     ]
    },
    {
     "name": "stdout",
     "output_type": "stream",
     "text": [
      "CliMAF install => /ciclad-home/jservon/Evaluation/CliMAF/climaf_installs/climaf_V1.2.13_post\n",
      "python => /modfs/modtools/miniconda2/envs/analyse_2.7/bin/python\n",
      "---\n",
      "Required softwares to run CliMAF => you are using the following versions/installations:\n",
      "ncl 6.3.0 => /opt/ncl-6.3.0/bin/ncl\n",
      "cdo 1.9.6 => /opt/nco/1.9/bin/cdo\n",
      "nco (ncks) 4.5.2 => /opt/nco-4.5.2/bin/ncks\n",
      "ncdump fichier => /modfs/modtools/miniconda2/envs/analyse_2.7/bin/ncdump\n",
      "Check stamping requirements\n",
      "nco (ncatted) found -> /opt/nco-4.5.2/bin/ncatted\n",
      "convert found -> /usr/bin/convert\n",
      "pdftk found -> /usr/bin/pdftk\n",
      "exiv2 found -> /ciclad-home/jservon/Evaluation/CliMAF/climaf_installs/climaf_V1.2.13_post/bin/exiv2\n",
      "---\n"
     ]
    },
    {
     "name": "stderr",
     "output_type": "stream",
     "text": [
      "Cache directory set to : /data/jservon/climafcache_test (use $CLIMAF_CACHE if set) \n",
      "Cache directory for remote data set to : /data/jservon/climafcache_test/remote_data (use $CLIMAF_REMOTE_CACHE if set) \n",
      "warning  : When defining temp_penalty : duplicate declaration for input #0\n",
      "warning  : When defining cquantile : duplicate declaration for input #0\n",
      "warning  : When defining cquantile : duplicate declaration for input #0\n",
      "Available macros read from ~/.climaf.macros are : []\n"
     ]
    }
   ],
   "source": [
    "from climaf.api import *"
   ]
  },
  {
   "cell_type": "markdown",
   "metadata": {},
   "source": [
    "## And set verbosity ('critical' -> minimum ; 'debug' -> maximum)"
   ]
  },
  {
   "cell_type": "code",
   "execution_count": 3,
   "metadata": {},
   "outputs": [],
   "source": [
    "clog('critical') # min verbosity = critical < warning < info < debug = max verbosity"
   ]
  },
  {
   "cell_type": "markdown",
   "metadata": {},
   "source": [
    "### ... and dont' forget to open the documentation in case you have questions.\n",
    "\n",
    "### http://climaf.readthedocs.org/\n",
    "\n",
    "### -> Use the \"Quick search\" space to search for what you are interested in, it is really powerfull!\n",
    "#  \n",
    "#  "
   ]
  },
  {
   "cell_type": "markdown",
   "metadata": {},
   "source": [
    "## 1. Access to CMIP5 data: simple example"
   ]
  },
  {
   "cell_type": "markdown",
   "metadata": {},
   "source": [
    "#### CliMAF dataset: access with ds()\n",
    "#### One simulation/realization/member of a model, one variable, frequency/time step, and one period\n",
    "#### -> if we want to work on multiple datasets at the same time, i.e. an ensemble, we will work with CliMAF ensembles (more details in Working_with_CliMAF_ensembles.ipynb)"
   ]
  },
  {
   "cell_type": "code",
   "execution_count": 4,
   "metadata": {},
   "outputs": [
    {
     "name": "stdout",
     "output_type": "stream",
     "text": [
      "/bdd/CMIP5/output/CNRM-CERFACS/CNRM-CM5/historical/mon/ocean/Omon/r1i1p1/latest/tos/tos_Omon_CNRM-CM5_historical_r1i1p1_198001-198912.nc\n"
     ]
    },
    {
     "data": {
      "text/plain": [
       "{'domain': 'global',\n",
       " 'experiment': 'historical',\n",
       " 'frequency': 'monthly',\n",
       " 'model': 'CNRM-CM5',\n",
       " 'period': 1980-1981,\n",
       " 'project': 'CMIP5',\n",
       " 'realization': 'r1i1p1',\n",
       " 'realm': '*',\n",
       " 'root': '/bdd',\n",
       " 'simulation': '',\n",
       " 'table': '*',\n",
       " 'variable': 'tos',\n",
       " 'version': 'latest'}"
      ]
     },
     "execution_count": 4,
     "metadata": {},
     "output_type": "execute_result"
    }
   ],
   "source": [
    "# -- We use ds() to get the dataset\n",
    "dat_cmip5 = ds(project='CMIP5',\n",
    "               model='CNRM-CM5',\n",
    "               variable='tos',\n",
    "               experiment='historical',\n",
    "               period='1980-1981',\n",
    "               frequency='monthly',\n",
    "               )\n",
    "summary(dat_cmip5)\n",
    "# -- summary() gives the list of files found by ds() and the pairs 'facets':'values' associated with the request\n",
    "# -> The user can then refine the request to select only one file"
   ]
  },
  {
   "cell_type": "markdown",
   "metadata": {},
   "source": [
    "#### and we have our dataset.\n",
    "#### But that was the simple case. Let's now see what happens when CliMAF finds multiple datasets."
   ]
  },
  {
   "cell_type": "markdown",
   "metadata": {},
   "source": [
    "## 2. Exploring the archive with the great built-in method '.explore'\n",
    "\n",
    "#### As you can see above, some of the keys have the value '*'.\n",
    "#### CliMAF offers a great way to explore your data archive: the ds().explore() built-in method.\n",
    "https://climaf.readthedocs.io/en/master/functions_data.html#cdataset-explore-explore-data-and-periods-and-match-joker-attributes\n",
    "#### Here is how it works.\n"
   ]
  },
  {
   "cell_type": "markdown",
   "metadata": {},
   "source": [
    "### 2.1 ds().explore('choices')\n",
    "#### ds().explore('choices') returns a dictionary with the keys having '*' as value.\n",
    "#### For each key, CliMAF returns the values matching the key in the archive\n",
    "#### In the first simple case, we have only one value for 'realm' and 'table'. dat_cmip5 can be used as a CliMAF dataset."
   ]
  },
  {
   "cell_type": "code",
   "execution_count": 5,
   "metadata": {},
   "outputs": [
    {
     "data": {
      "text/plain": [
       "{'realm': 'ocean', 'table': 'Omon'}"
      ]
     },
     "execution_count": 5,
     "metadata": {},
     "output_type": "execute_result"
    }
   ],
   "source": [
    "# -> in this case, \n",
    "dat_cmip5.explore('choices')"
   ]
  },
  {
   "cell_type": "markdown",
   "metadata": {},
   "source": [
    "### But we can also use '*' to explore the archive:\n",
    "### for instance, we can see all the variables available for our request with variable='*' :"
   ]
  },
  {
   "cell_type": "code",
   "execution_count": 6,
   "metadata": {},
   "outputs": [
    {
     "data": {
      "text/plain": [
       "{'realm': ['atmos', 'land', 'ocean', 'ocnBgchem', 'seaIce'],\n",
       " 'table': ['Amon', 'Lmon', 'OImon', 'Omon'],\n",
       " 'variable': ['calc',\n",
       "  'clivi',\n",
       "  'clt',\n",
       "  'clwvi',\n",
       "  'dfe',\n",
       "  'dissic',\n",
       "  'dissoc',\n",
       "  'evap',\n",
       "  'evs',\n",
       "  'evspsbl',\n",
       "  'fgco2',\n",
       "  'fgo2',\n",
       "  'hfds',\n",
       "  'hfls',\n",
       "  'hfss',\n",
       "  'hur',\n",
       "  'hurs',\n",
       "  'hus',\n",
       "  'huss',\n",
       "  'masso',\n",
       "  'mrfso',\n",
       "  'mrro',\n",
       "  'mrros',\n",
       "  'mrso',\n",
       "  'mrsos',\n",
       "  'msftbarot',\n",
       "  'msftmyz',\n",
       "  'nh4',\n",
       "  'no3',\n",
       "  'o2',\n",
       "  'pbo',\n",
       "  'po4',\n",
       "  'pr',\n",
       "  'prc',\n",
       "  'prsn',\n",
       "  'prw',\n",
       "  'ps',\n",
       "  'psl',\n",
       "  'rhopoto',\n",
       "  'rlds',\n",
       "  'rldscs',\n",
       "  'rlus',\n",
       "  'rlut',\n",
       "  'rlutcs',\n",
       "  'rsds',\n",
       "  'rsdscs',\n",
       "  'rsdt',\n",
       "  'rsntds',\n",
       "  'rsus',\n",
       "  'rsuscs',\n",
       "  'rsut',\n",
       "  'rsutcs',\n",
       "  'rtmt',\n",
       "  'sbl',\n",
       "  'sfcWind',\n",
       "  'si',\n",
       "  'sic',\n",
       "  'sim',\n",
       "  'sit',\n",
       "  'snc',\n",
       "  'snd',\n",
       "  'so',\n",
       "  'soga',\n",
       "  'sos',\n",
       "  'ssi',\n",
       "  'ta',\n",
       "  'talk',\n",
       "  'tas',\n",
       "  'tasmax',\n",
       "  'tasmin',\n",
       "  'tauu',\n",
       "  'tauuo',\n",
       "  'tauv',\n",
       "  'tauvo',\n",
       "  'thetao',\n",
       "  'thetaoga',\n",
       "  'tmelt',\n",
       "  'tos',\n",
       "  'tossq',\n",
       "  'tran',\n",
       "  'ts',\n",
       "  'tsice',\n",
       "  'tsl',\n",
       "  'ua',\n",
       "  'uas',\n",
       "  'umo',\n",
       "  'uo',\n",
       "  'va',\n",
       "  'vas',\n",
       "  'vmo',\n",
       "  'vo',\n",
       "  'volo',\n",
       "  'wap',\n",
       "  'wfo',\n",
       "  'wfonocorr',\n",
       "  'wmo',\n",
       "  'wmosq',\n",
       "  'zg',\n",
       "  'zos',\n",
       "  'zosga',\n",
       "  'zossga',\n",
       "  'zossq',\n",
       "  'zostoga']}"
      ]
     },
     "execution_count": 6,
     "metadata": {},
     "output_type": "execute_result"
    }
   ],
   "source": [
    "# -- We use ds() to get the dataset\n",
    "dat_cmip5 = ds(project='CMIP5',\n",
    "               model='CNRM-CM5',\n",
    "               variable='*',\n",
    "               experiment='historical',\n",
    "               period='1980-1981',\n",
    "               frequency='monthly',\n",
    "               )\n",
    "dat_cmip5.explore('choices')"
   ]
  },
  {
   "cell_type": "markdown",
   "metadata": {},
   "source": [
    "### Here we see that we have the list of all the variables, but also all the 'realm' and 'table'.\n",
    "### We could narrow down the request by specifying the table, like table='Amon' :"
   ]
  },
  {
   "cell_type": "code",
   "execution_count": 7,
   "metadata": {},
   "outputs": [
    {
     "data": {
      "text/plain": [
       "{'realm': 'atmos',\n",
       " 'variable': ['clivi',\n",
       "  'clt',\n",
       "  'clwvi',\n",
       "  'evspsbl',\n",
       "  'hfls',\n",
       "  'hfss',\n",
       "  'hur',\n",
       "  'hurs',\n",
       "  'hus',\n",
       "  'huss',\n",
       "  'pr',\n",
       "  'prc',\n",
       "  'prsn',\n",
       "  'prw',\n",
       "  'ps',\n",
       "  'psl',\n",
       "  'rlds',\n",
       "  'rldscs',\n",
       "  'rlus',\n",
       "  'rlut',\n",
       "  'rlutcs',\n",
       "  'rsds',\n",
       "  'rsdscs',\n",
       "  'rsdt',\n",
       "  'rsus',\n",
       "  'rsuscs',\n",
       "  'rsut',\n",
       "  'rsutcs',\n",
       "  'rtmt',\n",
       "  'sbl',\n",
       "  'sfcWind',\n",
       "  'ta',\n",
       "  'tas',\n",
       "  'tasmax',\n",
       "  'tasmin',\n",
       "  'tauu',\n",
       "  'tauv',\n",
       "  'ts',\n",
       "  'ua',\n",
       "  'uas',\n",
       "  'va',\n",
       "  'vas',\n",
       "  'wap',\n",
       "  'zg']}"
      ]
     },
     "execution_count": 7,
     "metadata": {},
     "output_type": "execute_result"
    }
   ],
   "source": [
    "dat_cmip5 = ds(project='CMIP5',\n",
    "               model='CNRM-CM5',\n",
    "               variable='*',\n",
    "               experiment='historical',\n",
    "               period='1980-1981',\n",
    "               frequency='monthly',\n",
    "               table='Amon'\n",
    "               )\n",
    "dat_cmip5.explore('choices')"
   ]
  },
  {
   "cell_type": "markdown",
   "metadata": {},
   "source": [
    "#### Note that you could also use summary(), that will make use of .explore('choices') and provide you with the same result:"
   ]
  },
  {
   "cell_type": "code",
   "execution_count": 8,
   "metadata": {},
   "outputs": [
    {
     "name": "stdout",
     "output_type": "stream",
     "text": [
      "Multiple available values for attribute \"variable\" that is set to \"*\" in your ds() call:  ['clivi', 'clt', 'clwvi', 'evspsbl', 'hfls', 'hfss', 'hur', 'hurs', 'hus', 'huss', 'pr', 'prc', 'prsn', 'prw', 'ps', 'psl', 'rlds', 'rldscs', 'rlus', 'rlut', 'rlutcs', 'rsds', 'rsdscs', 'rsdt', 'rsus', 'rsuscs', 'rsut', 'rsutcs', 'rtmt', 'sbl', 'sfcWind', 'ta', 'tas', 'tasmax', 'tasmin', 'tauu', 'tauv', 'ts', 'ua', 'uas', 'va', 'vas', 'wap', 'zg']\n",
      "Specify one of them (within ds() or with cdef())\n"
     ]
    },
    {
     "data": {
      "text/plain": [
       "{'domain': 'global',\n",
       " 'experiment': 'historical',\n",
       " 'frequency': 'monthly',\n",
       " 'model': 'CNRM-CM5',\n",
       " 'period': 1980-1981,\n",
       " 'project': 'CMIP5',\n",
       " 'realization': 'r1i1p1',\n",
       " 'realm': '*',\n",
       " 'root': '/bdd',\n",
       " 'simulation': '',\n",
       " 'table': 'Amon',\n",
       " 'variable': '*',\n",
       " 'version': 'latest'}"
      ]
     },
     "execution_count": 8,
     "metadata": {},
     "output_type": "execute_result"
    }
   ],
   "source": [
    "summary(dat_cmip5)"
   ]
  },
  {
   "cell_type": "markdown",
   "metadata": {},
   "source": [
    "### This short demonstration shows you how to explore your archive (any CliMAF project).\n",
    "### Once you have narrowed down your request so that dat_cmip5 points to only one dataset, you can automatically replace the '*' with the unique values found by CliMAF with ds().explore('resolve'):"
   ]
  },
  {
   "cell_type": "code",
   "execution_count": 9,
   "metadata": {},
   "outputs": [
    {
     "data": {
      "text/plain": [
       "\"ds('CMIP5%%tos%1980-1981%global%/bdd%CNRM-CM5%*%historical%r1i1p1%monthly%*%latest')\""
      ]
     },
     "execution_count": 9,
     "metadata": {},
     "output_type": "execute_result"
    }
   ],
   "source": [
    "dat_cmip5 = ds(project='CMIP5',\n",
    "               model='CNRM-CM5',\n",
    "               variable='tos',\n",
    "               experiment='historical',\n",
    "               period='1980-1981',\n",
    "               frequency='monthly'\n",
    "               )\n",
    "dat_cmip5.crs"
   ]
  },
  {
   "cell_type": "code",
   "execution_count": 10,
   "metadata": {},
   "outputs": [
    {
     "name": "stdout",
     "output_type": "stream",
     "text": [
      "/bdd/CMIP5/output/CNRM-CERFACS/CNRM-CM5/historical/mon/ocean/Omon/r1i1p1/latest/tos/tos_Omon_CNRM-CM5_historical_r1i1p1_198001-198912.nc\n"
     ]
    },
    {
     "data": {
      "text/plain": [
       "{'domain': 'global',\n",
       " 'experiment': 'historical',\n",
       " 'frequency': 'monthly',\n",
       " 'model': 'CNRM-CM5',\n",
       " 'period': 1980-1981,\n",
       " 'project': 'CMIP5',\n",
       " 'realization': 'r1i1p1',\n",
       " 'realm': 'ocean',\n",
       " 'root': '/bdd',\n",
       " 'simulation': '',\n",
       " 'table': 'Omon',\n",
       " 'variable': 'tos',\n",
       " 'version': 'latest'}"
      ]
     },
     "execution_count": 10,
     "metadata": {},
     "output_type": "execute_result"
    }
   ],
   "source": [
    "dat_cmip5 = dat_cmip5.explore('resolve')\n",
    "\n",
    "summary(dat_cmip5)"
   ]
  },
  {
   "cell_type": "markdown",
   "metadata": {},
   "source": [
    "### As you can see, the '*' have been replaced in request dictionary.\n",
    "### This way the CliMAF Reference Syntax will be more precisely specified. It avoids potential overlap between CliMAF objects defined with '*' -> unequivocal CliMAF object"
   ]
  },
  {
   "cell_type": "code",
   "execution_count": 11,
   "metadata": {},
   "outputs": [
    {
     "data": {
      "text/plain": [
       "\"ds('CMIP5%%tos%1980-1981%global%/bdd%CNRM-CM5%Omon%historical%r1i1p1%monthly%ocean%latest')\""
      ]
     },
     "execution_count": 11,
     "metadata": {},
     "output_type": "execute_result"
    }
   ],
   "source": [
    "dat_cmip5.crs"
   ]
  },
  {
   "cell_type": "markdown",
   "metadata": {},
   "source": [
    "### ==> If you are now willing to set model='*'  to build a multi-model ensemble with .explore(), go to the next notebook: Working_with_CliMAF_ensembles.ipynb\n",
    "####  "
   ]
  },
  {
   "cell_type": "markdown",
   "metadata": {},
   "source": [
    "## 3. Explore CMIP6 data\n",
    "###  \n",
    "### Important info concerning CMIP6: use 'table' and not 'frequency' to specify the frequency with the CMIP6 CliMAF project. Here is the list of tables for CMIP6:\n",
    "https://github.com/WCRP-CMIP/CMIP6_CVs/blob/master/CMIP6_table_id.json\n",
    "\n",
    "Basically, a table is a combination of the realm considered (A for atmosphere, O for ocean, SI for Sea Ice, etc.) and the frequency (mon for monthly, day for daily, etc.)\n",
    "###  \n",
    "### At the same time, we illustrate the use of period='*' to get the full period available"
   ]
  },
  {
   "cell_type": "code",
   "execution_count": 12,
   "metadata": {},
   "outputs": [
    {
     "data": {
      "text/plain": [
       "{'grid': 'gr',\n",
       " 'institute': 'CNRM-CERFACS',\n",
       " 'mip': 'CMIP',\n",
       " 'period': [1850-2014],\n",
       " 'realization': 'r1i1p1f2'}"
      ]
     },
     "execution_count": 12,
     "metadata": {},
     "output_type": "execute_result"
    }
   ],
   "source": [
    "dat_cmip6 = ds(project='CMIP6', variable='pr', period='*', table='Amon', model='CNRM-CM6-1')\n",
    "dat_cmip6.explore('choices')"
   ]
  },
  {
   "cell_type": "markdown",
   "metadata": {},
   "source": [
    "### CliMAF found data covering the period '1850-2014' for your request; you can specify your own period now that you know what is available, or use dat_cmip6 as is to use the full available period"
   ]
  },
  {
   "cell_type": "markdown",
   "metadata": {},
   "source": [
    "### One value per wildcard: use explore('resolve') to make a well-defined object"
   ]
  },
  {
   "cell_type": "code",
   "execution_count": 13,
   "metadata": {},
   "outputs": [
    {
     "name": "stdout",
     "output_type": "stream",
     "text": [
      "/bdd/CMIP6/CMIP/CNRM-CERFACS/CNRM-CM6-1/historical/r1i1p1f2/Amon/pr/gr/latest/pr_Amon_CNRM-CM6-1_historical_r1i1p1f2_gr_185001-201412.nc\n"
     ]
    },
    {
     "data": {
      "text/plain": [
       "{'domain': 'global',\n",
       " 'experiment': 'historical',\n",
       " 'grid': 'gr',\n",
       " 'institute': 'CNRM-CERFACS',\n",
       " 'mip': 'CMIP',\n",
       " 'model': 'CNRM-CM6-1',\n",
       " 'period': 1850-2014,\n",
       " 'project': 'CMIP6',\n",
       " 'realization': 'r1i1p1f2',\n",
       " 'root': '/bdd',\n",
       " 'simulation': '',\n",
       " 'table': 'Amon',\n",
       " 'variable': 'pr',\n",
       " 'version': 'latest'}"
      ]
     },
     "execution_count": 13,
     "metadata": {},
     "output_type": "execute_result"
    }
   ],
   "source": [
    "ok_dat_cmip6 = dat_cmip6.explore('resolve')\n",
    "summary(ok_dat_cmip6)"
   ]
  },
  {
   "cell_type": "markdown",
   "metadata": {},
   "source": [
    "### Same request but with realization='*' (default value is r1i1p1f1)"
   ]
  },
  {
   "cell_type": "code",
   "execution_count": 14,
   "metadata": {},
   "outputs": [
    {
     "data": {
      "text/plain": [
       "{'grid': 'gr',\n",
       " 'institute': 'CNRM-CERFACS',\n",
       " 'mip': 'CMIP',\n",
       " 'period': [1850-2014],\n",
       " 'realization': ['r10i1p1f2',\n",
       "  'r11i1p1f2',\n",
       "  'r12i1p1f2',\n",
       "  'r13i1p1f2',\n",
       "  'r14i1p1f2',\n",
       "  'r15i1p1f2',\n",
       "  'r16i1p1f2',\n",
       "  'r17i1p1f2',\n",
       "  'r18i1p1f2',\n",
       "  'r19i1p1f2',\n",
       "  'r1i1p1f2',\n",
       "  'r20i1p1f2',\n",
       "  'r21i1p1f2',\n",
       "  'r22i1p1f2',\n",
       "  'r24i1p1f2',\n",
       "  'r25i1p1f2',\n",
       "  'r26i1p1f2',\n",
       "  'r27i1p1f2',\n",
       "  'r28i1p1f2',\n",
       "  'r2i1p1f2',\n",
       "  'r30i1p1f2',\n",
       "  'r3i1p1f2',\n",
       "  'r4i1p1f2',\n",
       "  'r5i1p1f2',\n",
       "  'r6i1p1f2',\n",
       "  'r7i1p1f2',\n",
       "  'r8i1p1f2',\n",
       "  'r9i1p1f2']}"
      ]
     },
     "execution_count": 14,
     "metadata": {},
     "output_type": "execute_result"
    }
   ],
   "source": [
    "dat_cmip6 = ds(project='CMIP6', variable='pr', period='*', table='Amon', model='CNRM-CM6-1', realization='*')\n",
    "\n",
    "dat_cmip6.explore('choices')"
   ]
  },
  {
   "cell_type": "markdown",
   "metadata": {},
   "source": [
    "### You can now build an ensemble from this request\n",
    "### Carry on with Working_with_CliMAF_ensembles.ipynb and CMIP6_analysis_with_CliMAF.ipynb if you want to learn more about ensembles\n",
    "#  "
   ]
  },
  {
   "cell_type": "markdown",
   "metadata": {},
   "source": [
    "## Geographical region selection from ds()\n",
    "### for all the data requests with ds(), you can specify a geographical domain:\n",
    "### --> domain = domain=[latmin,latmax,lonmin,lonmax]\n",
    "### Warning: it is really effective on regular grids (based on cdo sellonlatbox)\n",
    "### --> For irregular grids, it is recommended to regrid first an then use CliMAF llbox()"
   ]
  },
  {
   "cell_type": "code",
   "execution_count": 15,
   "metadata": {},
   "outputs": [
    {
     "data": {
      "image/png": "[encoded data removed]",
      "text/plain": [
       "<IPython.core.display.Image object>"
      ]
     },
     "execution_count": 15,
     "metadata": {},
     "output_type": "execute_result"
    }
   ],
   "source": [
    "test = ds(project='CMIP5',\n",
    "               model='CNRM-CM5',\n",
    "               variable='tas',\n",
    "               experiment='historical',\n",
    "               period='1980-1981',\n",
    "               frequency='monthly',\n",
    "               domain=[20,80,-80,40] # or domain='20,80,-80,40'\n",
    "        )\n",
    "\n",
    "implot(test)"
   ]
  },
  {
   "cell_type": "markdown",
   "metadata": {},
   "source": [
    "#  \n",
    "## 4. The magical CMIP5_extent\n",
    "### This project allows you to get a CMIP5 historical run with an extension from a scenario if you want a period extending after 2005"
   ]
  },
  {
   "cell_type": "code",
   "execution_count": 16,
   "metadata": {},
   "outputs": [
    {
     "name": "stdout",
     "output_type": "stream",
     "text": [
      "/bdd/CMIP5/output/IPSL/IPSL-CM5A-MR/historical/mon/atmos/Amon/r1i1p1/latest/tas/tas_Amon_IPSL-CM5A-MR_historical_r1i1p1_185001-200512.nc\n",
      "/bdd/CMIP5/output/IPSL/IPSL-CM5A-MR/rcp85/mon/atmos/Amon/r1i1p1/latest/tas/tas_Amon_IPSL-CM5A-MR_rcp85_r1i1p1_200601-210012.nc\n"
     ]
    },
    {
     "data": {
      "text/plain": [
       "{'domain': 'global',\n",
       " 'experiment': 'historical',\n",
       " 'extent_experiment': 'rcp85',\n",
       " 'frequency': 'mon',\n",
       " 'model': 'IPSL-CM5A-MR',\n",
       " 'period': 1990-2010,\n",
       " 'project': 'CMIP5_extent',\n",
       " 'realization': 'r1i1p1',\n",
       " 'realm': 'atmos',\n",
       " 'root': '/bdd',\n",
       " 'simulation': '',\n",
       " 'table': 'Amon',\n",
       " 'variable': 'tas',\n",
       " 'version': 'latest'}"
      ]
     },
     "execution_count": 16,
     "metadata": {},
     "output_type": "execute_result"
    }
   ],
   "source": [
    "req_cmip5_extent = ds(project='CMIP5_extent', variable='tas', experiment='historical',\n",
    "                      model='IPSL-CM5A-MR', period='1990-2010', table='Amon', version='latest')\n",
    "\n",
    "req_cmip5_extent.explore('choices')\n",
    "ok_req_cmip5_extent = req_cmip5_extent.explore('resolve')\n",
    "\n",
    "summary(ok_req_cmip5_extent)"
   ]
  },
  {
   "cell_type": "markdown",
   "metadata": {},
   "source": [
    "### Same with all the models!"
   ]
  },
  {
   "cell_type": "code",
   "execution_count": 17,
   "metadata": {},
   "outputs": [
    {
     "name": "stdout",
     "output_type": "stream",
     "text": [
      "Keys - values:\n",
      "{'domain': 'global', 'realm': 'atmos', 'version': 'latest', 'period': 1990-2010, 'simulation': '', 'project': 'CMIP5_extent', 'experiment': 'historical', 'frequency': 'mon', 'realization': 'r1i1p1', 'variable': 'tas', 'table': 'Amon', 'model': 'ACCESS1-0', 'root': '/bdd', 'extent_experiment': 'rcp85'}\n",
      "-- Ensemble members:\n",
      "ACCESS1-0\n",
      "/bdd/CMIP5/output/CSIRO-BOM/ACCESS1-0/historical/mon/atmos/Amon/r1i1p1/latest/tas/tas_Amon_ACCESS1-0_historical_r1i1p1_185001-200512.nc\n",
      "/bdd/CMIP5/output/CSIRO-BOM/ACCESS1-0/rcp85/mon/atmos/Amon/r1i1p1/latest/tas/tas_Amon_ACCESS1-0_rcp85_r1i1p1_200601-210012.nc\n",
      "--\n",
      "ACCESS1-3\n",
      "/bdd/CMIP5/output/CSIRO-BOM/ACCESS1-3/historical/mon/atmos/Amon/r1i1p1/latest/tas/tas_Amon_ACCESS1-3_historical_r1i1p1_185001-200512.nc\n",
      "/bdd/CMIP5/output/CSIRO-BOM/ACCESS1-3/rcp85/mon/atmos/Amon/r1i1p1/latest/tas/tas_Amon_ACCESS1-3_rcp85_r1i1p1_200601-210012.nc\n",
      "--\n",
      "BNU-ESM\n",
      "/bdd/CMIP5/output/BNU/BNU-ESM/historical/mon/atmos/Amon/r1i1p1/latest/tas/tas_Amon_BNU-ESM_historical_r1i1p1_185001-200512.nc\n",
      "/bdd/CMIP5/output/BNU/BNU-ESM/rcp85/mon/atmos/Amon/r1i1p1/latest/tas/tas_Amon_BNU-ESM_rcp85_r1i1p1_200601-210012.nc\n",
      "--\n",
      "CCSM4\n",
      "/bdd/CMIP5/output/NCAR/CCSM4/historical/mon/atmos/Amon/r1i1p1/latest/tas/tas_Amon_CCSM4_historical_r1i1p1_185001-200512.nc\n",
      "/bdd/CMIP5/output/NCAR/CCSM4/rcp85/mon/atmos/Amon/r1i1p1/latest/tas/tas_Amon_CCSM4_rcp85_r1i1p1_200601-210012.nc\n",
      "--\n",
      "CESM1-BGC\n",
      "/bdd/CMIP5/output/NSF-DOE-NCAR/CESM1-BGC/historical/mon/atmos/Amon/r1i1p1/latest/tas/tas_Amon_CESM1-BGC_historical_r1i1p1_185001-200512.nc\n",
      "/bdd/CMIP5/output/NSF-DOE-NCAR/CESM1-BGC/rcp85/mon/atmos/Amon/r1i1p1/latest/tas/tas_Amon_CESM1-BGC_rcp85_r1i1p1_200601-210012.nc\n",
      "--\n",
      "CESM1-CAM5\n",
      "/bdd/CMIP5/output/NSF-DOE-NCAR/CESM1-CAM5/historical/mon/atmos/Amon/r1i1p1/latest/tas/tas_Amon_CESM1-CAM5_historical_r1i1p1_185001-200512.nc\n",
      "/bdd/CMIP5/output/NSF-DOE-NCAR/CESM1-CAM5/rcp85/mon/atmos/Amon/r1i1p1/latest/tas/tas_Amon_CESM1-CAM5_rcp85_r1i1p1_200601-210012.nc\n",
      "--\n",
      "CMCC-CESM\n",
      "/bdd/CMIP5/output/CMCC/CMCC-CESM/historical/mon/atmos/Amon/r1i1p1/latest/tas/tas_Amon_CMCC-CESM_historical_r1i1p1_199001-199412.nc\n",
      "/bdd/CMIP5/output/CMCC/CMCC-CESM/historical/mon/atmos/Amon/r1i1p1/latest/tas/tas_Amon_CMCC-CESM_historical_r1i1p1_199501-199912.nc\n",
      "/bdd/CMIP5/output/CMCC/CMCC-CESM/historical/mon/atmos/Amon/r1i1p1/latest/tas/tas_Amon_CMCC-CESM_historical_r1i1p1_200001-200412.nc\n",
      "/bdd/CMIP5/output/CMCC/CMCC-CESM/historical/mon/atmos/Amon/r1i1p1/latest/tas/tas_Amon_CMCC-CESM_historical_r1i1p1_200501-200512.nc\n",
      "/bdd/CMIP5/output/CMCC/CMCC-CESM/rcp85/mon/atmos/Amon/r1i1p1/latest/tas/tas_Amon_CMCC-CESM_rcp85_r1i1p1_200601-201512.nc\n",
      "--\n",
      "CMCC-CM\n",
      "/bdd/CMIP5/output/CMCC/CMCC-CM/historical/mon/atmos/Amon/r1i1p1/latest/tas/tas_Amon_CMCC-CM_historical_r1i1p1_199001-199912.nc\n",
      "/bdd/CMIP5/output/CMCC/CMCC-CM/historical/mon/atmos/Amon/r1i1p1/latest/tas/tas_Amon_CMCC-CM_historical_r1i1p1_200001-200512.nc\n",
      "/bdd/CMIP5/output/CMCC/CMCC-CM/rcp85/mon/atmos/Amon/r1i1p1/latest/tas/tas_Amon_CMCC-CM_rcp85_r1i1p1_200601-201012.nc\n",
      "--\n",
      "CMCC-CMS\n",
      "/bdd/CMIP5/output/CMCC/CMCC-CMS/historical/mon/atmos/Amon/r1i1p1/latest/tas/tas_Amon_CMCC-CMS_historical_r1i1p1_199001-199912.nc\n",
      "/bdd/CMIP5/output/CMCC/CMCC-CMS/historical/mon/atmos/Amon/r1i1p1/latest/tas/tas_Amon_CMCC-CMS_historical_r1i1p1_200001-200512.nc\n",
      "/bdd/CMIP5/output/CMCC/CMCC-CMS/rcp85/mon/atmos/Amon/r1i1p1/latest/tas/tas_Amon_CMCC-CMS_rcp85_r1i1p1_200601-200912.nc\n",
      "/bdd/CMIP5/output/CMCC/CMCC-CMS/rcp85/mon/atmos/Amon/r1i1p1/latest/tas/tas_Amon_CMCC-CMS_rcp85_r1i1p1_201001-201912.nc\n",
      "--\n",
      "CNRM-CM5\n",
      "/bdd/CMIP5/output/CNRM-CERFACS/CNRM-CM5/historical/mon/atmos/Amon/r1i1p1/latest/tas/tas_Amon_CNRM-CM5_historical_r1i1p1_195001-200512.nc\n",
      "/bdd/CMIP5/output/CNRM-CERFACS/CNRM-CM5/rcp85/mon/atmos/Amon/r1i1p1/latest/tas/tas_Amon_CNRM-CM5_rcp85_r1i1p1_200601-205512.nc\n",
      "--\n",
      "CSIRO-Mk3-6-0\n",
      "/bdd/CMIP5/output/CSIRO-QCCCE/CSIRO-Mk3-6-0/historical/mon/atmos/Amon/r1i1p1/latest/tas/tas_Amon_CSIRO-Mk3-6-0_historical_r1i1p1_185001-200512.nc\n",
      "/bdd/CMIP5/output/CSIRO-QCCCE/CSIRO-Mk3-6-0/rcp85/mon/atmos/Amon/r1i1p1/latest/tas/tas_Amon_CSIRO-Mk3-6-0_rcp85_r1i1p1_200601-210012.nc\n",
      "--\n",
      "CanESM2\n",
      "/bdd/CMIP5/output/CCCma/CanESM2/historical/mon/atmos/Amon/r1i1p1/latest/tas/tas_Amon_CanESM2_historical_r1i1p1_185001-200512.nc\n",
      "/bdd/CMIP5/output/CCCma/CanESM2/rcp85/mon/atmos/Amon/r1i1p1/latest/tas/tas_Amon_CanESM2_rcp85_r1i1p1_200601-210012.nc\n",
      "--\n",
      "EC-EARTH\n",
      "/bdd/CMIP5/output/ICHEC/EC-EARTH/rcp85/mon/atmos/Amon/r1i1p1/latest/tas/tas_Amon_EC-EARTH_rcp85_r1i1p1_200601-200912.nc\n",
      "/bdd/CMIP5/output/ICHEC/EC-EARTH/rcp85/mon/atmos/Amon/r1i1p1/latest/tas/tas_Amon_EC-EARTH_rcp85_r1i1p1_201001-201912.nc\n",
      "--\n",
      "FGOALS-g2\n",
      "/bdd/CMIP5/output/LASG-CESS/FGOALS-g2/rcp85/mon/atmos/Amon/r1i1p1/latest/tas/tas_Amon_FGOALS-g2_rcp85_r1i1p1_200601-201512.nc\n",
      "--\n",
      "FIO-ESM\n",
      "/bdd/CMIP5/output/FIO/FIO-ESM/historical/mon/atmos/Amon/r1i1p1/latest/tas/tas_Amon_FIO-ESM_historical_r1i1p1_185001-200512.nc\n",
      "/bdd/CMIP5/output/FIO/FIO-ESM/rcp85/mon/atmos/Amon/r1i1p1/latest/tas/tas_Amon_FIO-ESM_rcp85_r1i1p1_200601-210012.nc\n",
      "--\n",
      "GFDL-CM3\n",
      "/bdd/CMIP5/output/NOAA-GFDL/GFDL-CM3/historical/mon/atmos/Amon/r1i1p1/latest/tas/tas_Amon_GFDL-CM3_historical_r1i1p1_199001-199412.nc\n",
      "/bdd/CMIP5/output/NOAA-GFDL/GFDL-CM3/historical/mon/atmos/Amon/r1i1p1/latest/tas/tas_Amon_GFDL-CM3_historical_r1i1p1_199501-199912.nc\n",
      "/bdd/CMIP5/output/NOAA-GFDL/GFDL-CM3/historical/mon/atmos/Amon/r1i1p1/latest/tas/tas_Amon_GFDL-CM3_historical_r1i1p1_200001-200412.nc\n",
      "/bdd/CMIP5/output/NOAA-GFDL/GFDL-CM3/historical/mon/atmos/Amon/r1i1p1/latest/tas/tas_Amon_GFDL-CM3_historical_r1i1p1_200501-200512.nc\n",
      "/bdd/CMIP5/output/NOAA-GFDL/GFDL-CM3/rcp85/mon/atmos/Amon/r1i1p1/latest/tas/tas_Amon_GFDL-CM3_rcp85_r1i1p1_200601-201012.nc\n",
      "--\n",
      "GFDL-ESM2G\n",
      "/bdd/CMIP5/output/NOAA-GFDL/GFDL-ESM2G/historical/mon/atmos/Amon/r1i1p1/latest/tas/tas_Amon_GFDL-ESM2G_historical_r1i1p1_198601-199012.nc\n",
      "/bdd/CMIP5/output/NOAA-GFDL/GFDL-ESM2G/historical/mon/atmos/Amon/r1i1p1/latest/tas/tas_Amon_GFDL-ESM2G_historical_r1i1p1_199101-199512.nc\n",
      "/bdd/CMIP5/output/NOAA-GFDL/GFDL-ESM2G/historical/mon/atmos/Amon/r1i1p1/latest/tas/tas_Amon_GFDL-ESM2G_historical_r1i1p1_199601-200012.nc\n",
      "/bdd/CMIP5/output/NOAA-GFDL/GFDL-ESM2G/historical/mon/atmos/Amon/r1i1p1/latest/tas/tas_Amon_GFDL-ESM2G_historical_r1i1p1_200101-200512.nc\n",
      "/bdd/CMIP5/output/NOAA-GFDL/GFDL-ESM2G/rcp85/mon/atmos/Amon/r1i1p1/latest/tas/tas_Amon_GFDL-ESM2G_rcp85_r1i1p1_200601-201012.nc\n",
      "--\n",
      "GFDL-ESM2M\n",
      "/bdd/CMIP5/output/NOAA-GFDL/GFDL-ESM2M/historical/mon/atmos/Amon/r1i1p1/latest/tas/tas_Amon_GFDL-ESM2M_historical_r1i1p1_198601-199012.nc\n",
      "/bdd/CMIP5/output/NOAA-GFDL/GFDL-ESM2M/historical/mon/atmos/Amon/r1i1p1/latest/tas/tas_Amon_GFDL-ESM2M_historical_r1i1p1_199101-199512.nc\n",
      "/bdd/CMIP5/output/NOAA-GFDL/GFDL-ESM2M/historical/mon/atmos/Amon/r1i1p1/latest/tas/tas_Amon_GFDL-ESM2M_historical_r1i1p1_199601-200012.nc\n",
      "/bdd/CMIP5/output/NOAA-GFDL/GFDL-ESM2M/historical/mon/atmos/Amon/r1i1p1/latest/tas/tas_Amon_GFDL-ESM2M_historical_r1i1p1_200101-200512.nc\n",
      "/bdd/CMIP5/output/NOAA-GFDL/GFDL-ESM2M/rcp85/mon/atmos/Amon/r1i1p1/latest/tas/tas_Amon_GFDL-ESM2M_rcp85_r1i1p1_200601-201012.nc\n",
      "--\n",
      "GISS-E2-H\n",
      "/bdd/CMIP5/output/NASA-GISS/GISS-E2-H/historical/mon/atmos/Amon/r1i1p1/latest/tas/tas_Amon_GISS-E2-H_historical_r1i1p1_195101-200512.nc\n",
      "/bdd/CMIP5/output/NASA-GISS/GISS-E2-H/rcp85/mon/atmos/Amon/r1i1p1/latest/tas/tas_Amon_GISS-E2-H_rcp85_r1i1p1_200601-205012.nc\n",
      "--\n",
      "GISS-E2-H-CC\n",
      "/bdd/CMIP5/output/NASA-GISS/GISS-E2-H-CC/historical/mon/atmos/Amon/r1i1p1/latest/tas/tas_Amon_GISS-E2-H-CC_historical_r1i1p1_195101-201012.nc\n",
      "/bdd/CMIP5/output/NASA-GISS/GISS-E2-H-CC/rcp85/mon/atmos/Amon/r1i1p1/latest/tas/tas_Amon_GISS-E2-H-CC_rcp85_r1i1p1_200601-205012.nc\n",
      "--\n",
      "GISS-E2-R\n",
      "/bdd/CMIP5/output/NASA-GISS/GISS-E2-R/historical/mon/atmos/Amon/r1i1p1/latest/tas/tas_Amon_GISS-E2-R_historical_r1i1p1_197601-200012.nc\n",
      "/bdd/CMIP5/output/NASA-GISS/GISS-E2-R/historical/mon/atmos/Amon/r1i1p1/latest/tas/tas_Amon_GISS-E2-R_historical_r1i1p1_200101-200512.nc\n",
      "/bdd/CMIP5/output/NASA-GISS/GISS-E2-R/rcp85/mon/atmos/Amon/r1i1p1/latest/tas/tas_Amon_GISS-E2-R_rcp85_r1i1p1_200601-202512.nc\n",
      "--\n",
      "GISS-E2-R-CC\n",
      "/bdd/CMIP5/output/NASA-GISS/GISS-E2-R-CC/historical/mon/atmos/Amon/r1i1p1/latest/tas/tas_Amon_GISS-E2-R-CC_historical_r1i1p1_197601-200012.nc\n",
      "/bdd/CMIP5/output/NASA-GISS/GISS-E2-R-CC/historical/mon/atmos/Amon/r1i1p1/latest/tas/tas_Amon_GISS-E2-R-CC_historical_r1i1p1_200101-201012.nc\n",
      "/bdd/CMIP5/output/NASA-GISS/GISS-E2-R-CC/rcp85/mon/atmos/Amon/r1i1p1/latest/tas/tas_Amon_GISS-E2-R-CC_rcp85_r1i1p1_200601-202512.nc\n",
      "--\n",
      "HadGEM2-AO\n"
     ]
    },
    {
     "name": "stdout",
     "output_type": "stream",
     "text": [
      "/bdd/CMIP5/output/NIMR-KMA/HadGEM2-AO/historical/mon/atmos/Amon/r1i1p1/latest/tas/tas_Amon_HadGEM2-AO_historical_r1i1p1_186001-200512.nc\n",
      "/bdd/CMIP5/output/NIMR-KMA/HadGEM2-AO/rcp85/mon/atmos/Amon/r1i1p1/latest/tas/tas_Amon_HadGEM2-AO_rcp85_r1i1p1_200601-210012.nc\n",
      "--\n",
      "HadGEM2-CC\n",
      "/bdd/CMIP5/output/MOHC/HadGEM2-CC/historical/mon/atmos/Amon/r1i1p1/latest/tas/tas_Amon_HadGEM2-CC_historical_r1i1p1_198412-200511.nc\n",
      "/bdd/CMIP5/output/MOHC/HadGEM2-CC/rcp85/mon/atmos/Amon/r1i1p1/latest/tas/tas_Amon_HadGEM2-CC_rcp85_r1i1p1_200512-203011.nc\n",
      "--\n",
      "HadGEM2-ES\n",
      "/bdd/CMIP5/output/MOHC/HadGEM2-ES/historical/mon/atmos/Amon/r1i1p1/latest/tas/tas_Amon_HadGEM2-ES_historical_r1i1p1_198412-200511.nc\n",
      "/bdd/CMIP5/output/MOHC/HadGEM2-ES/rcp85/mon/atmos/Amon/r1i1p1/latest/tas/tas_Amon_HadGEM2-ES_rcp85_r1i1p1_200512-203011.nc\n",
      "--\n",
      "IPSL-CM5A-LR\n",
      "/bdd/CMIP5/output/IPSL/IPSL-CM5A-LR/historical/mon/atmos/Amon/r1i1p1/latest/tas/tas_Amon_IPSL-CM5A-LR_historical_r1i1p1_185001-200512.nc\n",
      "/bdd/CMIP5/output/IPSL/IPSL-CM5A-LR/rcp85/mon/atmos/Amon/r1i1p1/latest/tas/tas_Amon_IPSL-CM5A-LR_rcp85_r1i1p1_200601-230012.nc\n",
      "--\n",
      "IPSL-CM5A-MR\n",
      "/bdd/CMIP5/output/IPSL/IPSL-CM5A-MR/historical/mon/atmos/Amon/r1i1p1/latest/tas/tas_Amon_IPSL-CM5A-MR_historical_r1i1p1_185001-200512.nc\n",
      "/bdd/CMIP5/output/IPSL/IPSL-CM5A-MR/rcp85/mon/atmos/Amon/r1i1p1/latest/tas/tas_Amon_IPSL-CM5A-MR_rcp85_r1i1p1_200601-210012.nc\n",
      "--\n",
      "IPSL-CM5B-LR\n",
      "/bdd/CMIP5/output/IPSL/IPSL-CM5B-LR/historical/mon/atmos/Amon/r1i1p1/latest/tas/tas_Amon_IPSL-CM5B-LR_historical_r1i1p1_185001-200512.nc\n",
      "/bdd/CMIP5/output/IPSL/IPSL-CM5B-LR/rcp85/mon/atmos/Amon/r1i1p1/latest/tas/tas_Amon_IPSL-CM5B-LR_rcp85_r1i1p1_200601-210012.nc\n",
      "--\n",
      "MIROC-ESM\n",
      "/bdd/CMIP5/output/MIROC/MIROC-ESM/historical/mon/atmos/Amon/r1i1p1/latest/tas/tas_Amon_MIROC-ESM_historical_r1i1p1_185001-200512.nc\n",
      "/bdd/CMIP5/output/MIROC/MIROC-ESM/rcp85/mon/atmos/Amon/r1i1p1/latest/tas/tas_Amon_MIROC-ESM_rcp85_r1i1p1_200601-210012.nc\n",
      "--\n",
      "MIROC-ESM-CHEM\n",
      "/bdd/CMIP5/output/MIROC/MIROC-ESM-CHEM/historical/mon/atmos/Amon/r1i1p1/latest/tas/tas_Amon_MIROC-ESM-CHEM_historical_r1i1p1_185001-200512.nc\n",
      "/bdd/CMIP5/output/MIROC/MIROC-ESM-CHEM/rcp85/mon/atmos/Amon/r1i1p1/latest/tas/tas_Amon_MIROC-ESM-CHEM_rcp85_r1i1p1_200601-210012.nc\n",
      "--\n",
      "MIROC5\n",
      "/bdd/CMIP5/output/MIROC/MIROC5/historical/mon/atmos/Amon/r1i1p1/latest/tas/tas_Amon_MIROC5_historical_r1i1p1_185001-201212.nc\n",
      "/bdd/CMIP5/output/MIROC/MIROC5/rcp85/mon/atmos/Amon/r1i1p1/latest/tas/tas_Amon_MIROC5_rcp85_r1i1p1_200601-210012.nc\n",
      "--\n",
      "MPI-ESM-LR\n",
      "/bdd/CMIP5/output/MPI-M/MPI-ESM-LR/historical/mon/atmos/Amon/r1i1p1/latest/tas/tas_Amon_MPI-ESM-LR_historical_r1i1p1_185001-200512.nc\n",
      "/bdd/CMIP5/output/MPI-M/MPI-ESM-LR/rcp85/mon/atmos/Amon/r1i1p1/latest/tas/tas_Amon_MPI-ESM-LR_rcp85_r1i1p1_200601-210012.nc\n",
      "--\n",
      "MPI-ESM-MR\n",
      "/bdd/CMIP5/output/MPI-M/MPI-ESM-MR/historical/mon/atmos/Amon/r1i1p1/latest/tas/tas_Amon_MPI-ESM-MR_historical_r1i1p1_185001-200512.nc\n",
      "/bdd/CMIP5/output/MPI-M/MPI-ESM-MR/rcp85/mon/atmos/Amon/r1i1p1/latest/tas/tas_Amon_MPI-ESM-MR_rcp85_r1i1p1_200601-210012.nc\n",
      "--\n",
      "MRI-CGCM3\n",
      "/bdd/CMIP5/output/MRI/MRI-CGCM3/historical/mon/atmos/Amon/r1i1p1/latest/tas/tas_Amon_MRI-CGCM3_historical_r1i1p1_185001-200512.nc\n",
      "/bdd/CMIP5/output/MRI/MRI-CGCM3/rcp85/mon/atmos/Amon/r1i1p1/latest/tas/tas_Amon_MRI-CGCM3_rcp85_r1i1p1_200601-210012.nc\n",
      "--\n",
      "MRI-ESM1\n",
      "/bdd/CMIP5/output/MRI/MRI-ESM1/historical/mon/atmos/Amon/r1i1p1/latest/tas/tas_Amon_MRI-ESM1_historical_r1i1p1_185101-200512.nc\n",
      "/bdd/CMIP5/output/MRI/MRI-ESM1/rcp85/mon/atmos/Amon/r1i1p1/latest/tas/tas_Amon_MRI-ESM1_rcp85_r1i1p1_200601-210012.nc\n",
      "--\n",
      "NorESM1-M\n",
      "/bdd/CMIP5/output/NCC/NorESM1-M/historical/mon/atmos/Amon/r1i1p1/latest/tas/tas_Amon_NorESM1-M_historical_r1i1p1_185001-200512.nc\n",
      "/bdd/CMIP5/output/NCC/NorESM1-M/rcp85/mon/atmos/Amon/r1i1p1/latest/tas/tas_Amon_NorESM1-M_rcp85_r1i1p1_200601-210012.nc\n",
      "--\n",
      "NorESM1-ME\n",
      "/bdd/CMIP5/output/NCC/NorESM1-ME/historical/mon/atmos/Amon/r1i1p1/latest/tas/tas_Amon_NorESM1-ME_historical_r1i1p1_185001-200512.nc\n",
      "/bdd/CMIP5/output/NCC/NorESM1-ME/rcp85/mon/atmos/Amon/r1i1p1/latest/tas/tas_Amon_NorESM1-ME_rcp85_r1i1p1_200601-204412.nc\n",
      "--\n",
      "bcc-csm1-1\n",
      "/bdd/CMIP5/output/BCC/bcc-csm1-1/rcp85/mon/atmos/Amon/r1i1p1/latest/tas/tas_Amon_bcc-csm1-1_rcp85_r1i1p1_200601-209912.nc\n",
      "--\n",
      "bcc-csm1-1-m\n",
      "/bdd/CMIP5/output/BCC/bcc-csm1-1-m/historical/mon/atmos/Amon/r1i1p1/latest/tas/tas_Amon_bcc-csm1-1-m_historical_r1i1p1_185001-201212.nc\n",
      "/bdd/CMIP5/output/BCC/bcc-csm1-1-m/rcp85/mon/atmos/Amon/r1i1p1/latest/tas/tas_Amon_bcc-csm1-1-m_rcp85_r1i1p1_200601-209912.nc\n",
      "--\n",
      "inmcm4\n",
      "/bdd/CMIP5/output/INM/inmcm4/historical/mon/atmos/Amon/r1i1p1/latest/tas/tas_Amon_inmcm4_historical_r1i1p1_185001-200512.nc\n",
      "/bdd/CMIP5/output/INM/inmcm4/rcp85/mon/atmos/Amon/r1i1p1/latest/tas/tas_Amon_inmcm4_rcp85_r1i1p1_200601-210012.nc\n",
      "--\n"
     ]
    }
   ],
   "source": [
    "req_cmip5_extent = ds(project='CMIP5_extent', variable='tas', experiment='historical',\n",
    "                      model='*', period='1990-2010', table='Amon', version='latest')\n",
    "\n",
    "ens_cmip5_extent = req_cmip5_extent.explore('ensemble')\n",
    "summary(ens_cmip5_extent)"
   ]
  },
  {
   "cell_type": "markdown",
   "metadata": {},
   "source": [
    "### Safety step: check the consistency between request and actual available period with check_time_consistency_CMIP()"
   ]
  },
  {
   "cell_type": "code",
   "execution_count": 18,
   "metadata": {},
   "outputs": [
    {
     "name": "stdout",
     "output_type": "stream",
     "text": [
      "ACCESS1-0\n",
      "ACCESS1-3\n",
      "FGOALS-g2\n",
      "period not covered for  FGOALS-g2\n",
      "FIO-ESM\n",
      "CMCC-CMS\n",
      "MIROC-ESM\n",
      "HadGEM2-AO\n",
      "CMCC-CM\n",
      "HadGEM2-ES\n",
      "MRI-ESM1\n",
      "MPI-ESM-MR\n",
      "CSIRO-Mk3-6-0\n",
      "CESM1-BGC\n",
      "inmcm4\n",
      "CanESM2\n",
      "GISS-E2-R-CC\n",
      "BNU-ESM\n",
      "IPSL-CM5B-LR\n",
      "GFDL-ESM2G\n",
      "EC-EARTH\n",
      "period not covered for  EC-EARTH\n",
      "GFDL-ESM2M\n",
      "CCSM4\n",
      "NorESM1-M\n",
      "IPSL-CM5A-MR\n",
      "IPSL-CM5A-LR\n",
      "GFDL-CM3\n",
      "CNRM-CM5\n",
      "GISS-E2-H\n",
      "MIROC-ESM-CHEM\n",
      "MRI-CGCM3\n",
      "NorESM1-ME\n",
      "MIROC5\n",
      "GISS-E2-R\n",
      "HadGEM2-CC\n",
      "GISS-E2-H-CC\n",
      "CMCC-CESM\n",
      "bcc-csm1-1-m\n",
      "MPI-ESM-LR\n",
      "bcc-csm1-1\n",
      "period not covered for  bcc-csm1-1\n",
      "CESM1-CAM5\n"
     ]
    }
   ],
   "source": [
    "# -- ok_ens_cmip5_extent will be the checked ensemble\n",
    "ok_ens_cmip5_extent = ens_cmip5_extent.copy()\n",
    "\n",
    "for elt in ens_cmip5_extent:\n",
    "    print elt\n",
    "    if not check_time_consistency_CMIP(ens_cmip5_extent[elt]):\n",
    "        print 'period not covered for ',elt\n",
    "        ok_ens_cmip5_extent.pop(elt)"
   ]
  },
  {
   "cell_type": "markdown",
   "metadata": {},
   "source": [
    "### Check that the time check actually worked:"
   ]
  },
  {
   "cell_type": "code",
   "execution_count": 19,
   "metadata": {},
   "outputs": [
    {
     "name": "stdout",
     "output_type": "stream",
     "text": [
      "bcc-csm1-1-m\n",
      "ACCESS1-0\n",
      "ACCESS1-3\n",
      "MIROC5\n",
      "FIO-ESM\n",
      "CMCC-CMS\n",
      "MIROC-ESM\n",
      "HadGEM2-ES\n",
      "CMCC-CM\n",
      "MPI-ESM-MR\n",
      "CSIRO-Mk3-6-0\n",
      "CESM1-BGC\n",
      "inmcm4\n",
      "CanESM2\n",
      "GISS-E2-R-CC\n",
      "BNU-ESM\n",
      "IPSL-CM5B-LR\n",
      "GFDL-ESM2G\n",
      "GFDL-ESM2M\n",
      "CCSM4\n",
      "NorESM1-M\n",
      "IPSL-CM5A-MR\n",
      "IPSL-CM5A-LR\n",
      "GFDL-CM3\n",
      "CNRM-CM5\n",
      "GISS-E2-H\n",
      "MIROC-ESM-CHEM\n",
      "NorESM1-ME\n",
      "HadGEM2-AO\n",
      "GISS-E2-R\n",
      "HadGEM2-CC\n",
      "GISS-E2-H-CC\n",
      "CMCC-CESM\n",
      "MRI-CGCM3\n",
      "MPI-ESM-LR\n",
      "MRI-ESM1\n",
      "CESM1-CAM5\n"
     ]
    }
   ],
   "source": [
    "for elt in ok_ens_cmip5_extent:\n",
    "    print elt\n",
    "    if not check_time_consistency_CMIP(ok_ens_cmip5_extent[elt]):\n",
    "        print 'period not covered for ',elt"
   ]
  },
  {
   "cell_type": "code",
   "execution_count": 20,
   "metadata": {},
   "outputs": [
    {
     "name": "stdout",
     "output_type": "stream",
     "text": [
      "Keys - values:\n",
      "{'domain': 'global', 'realm': 'atmos', 'version': 'latest', 'period': 1990-2010, 'simulation': '', 'project': 'CMIP5_extent', 'experiment': 'historical', 'frequency': 'mon', 'realization': 'r1i1p1', 'variable': 'tas', 'table': 'Amon', 'model': 'bcc-csm1-1-m', 'root': '/bdd', 'extent_experiment': 'rcp85'}\n",
      "-- Ensemble members:\n",
      "ACCESS1-0\n",
      "/bdd/CMIP5/output/CSIRO-BOM/ACCESS1-0/historical/mon/atmos/Amon/r1i1p1/latest/tas/tas_Amon_ACCESS1-0_historical_r1i1p1_185001-200512.nc\n",
      "/bdd/CMIP5/output/CSIRO-BOM/ACCESS1-0/rcp85/mon/atmos/Amon/r1i1p1/latest/tas/tas_Amon_ACCESS1-0_rcp85_r1i1p1_200601-210012.nc\n",
      "--\n",
      "ACCESS1-3\n",
      "/bdd/CMIP5/output/CSIRO-BOM/ACCESS1-3/historical/mon/atmos/Amon/r1i1p1/latest/tas/tas_Amon_ACCESS1-3_historical_r1i1p1_185001-200512.nc\n",
      "/bdd/CMIP5/output/CSIRO-BOM/ACCESS1-3/rcp85/mon/atmos/Amon/r1i1p1/latest/tas/tas_Amon_ACCESS1-3_rcp85_r1i1p1_200601-210012.nc\n",
      "--\n",
      "BNU-ESM\n",
      "/bdd/CMIP5/output/BNU/BNU-ESM/historical/mon/atmos/Amon/r1i1p1/latest/tas/tas_Amon_BNU-ESM_historical_r1i1p1_185001-200512.nc\n",
      "/bdd/CMIP5/output/BNU/BNU-ESM/rcp85/mon/atmos/Amon/r1i1p1/latest/tas/tas_Amon_BNU-ESM_rcp85_r1i1p1_200601-210012.nc\n",
      "--\n",
      "CCSM4\n",
      "/bdd/CMIP5/output/NCAR/CCSM4/historical/mon/atmos/Amon/r1i1p1/latest/tas/tas_Amon_CCSM4_historical_r1i1p1_185001-200512.nc\n",
      "/bdd/CMIP5/output/NCAR/CCSM4/rcp85/mon/atmos/Amon/r1i1p1/latest/tas/tas_Amon_CCSM4_rcp85_r1i1p1_200601-210012.nc\n",
      "--\n",
      "CESM1-BGC\n",
      "/bdd/CMIP5/output/NSF-DOE-NCAR/CESM1-BGC/historical/mon/atmos/Amon/r1i1p1/latest/tas/tas_Amon_CESM1-BGC_historical_r1i1p1_185001-200512.nc\n",
      "/bdd/CMIP5/output/NSF-DOE-NCAR/CESM1-BGC/rcp85/mon/atmos/Amon/r1i1p1/latest/tas/tas_Amon_CESM1-BGC_rcp85_r1i1p1_200601-210012.nc\n",
      "--\n",
      "CESM1-CAM5\n",
      "/bdd/CMIP5/output/NSF-DOE-NCAR/CESM1-CAM5/historical/mon/atmos/Amon/r1i1p1/latest/tas/tas_Amon_CESM1-CAM5_historical_r1i1p1_185001-200512.nc\n",
      "/bdd/CMIP5/output/NSF-DOE-NCAR/CESM1-CAM5/rcp85/mon/atmos/Amon/r1i1p1/latest/tas/tas_Amon_CESM1-CAM5_rcp85_r1i1p1_200601-210012.nc\n",
      "--\n",
      "CMCC-CESM\n",
      "/bdd/CMIP5/output/CMCC/CMCC-CESM/historical/mon/atmos/Amon/r1i1p1/latest/tas/tas_Amon_CMCC-CESM_historical_r1i1p1_199001-199412.nc\n",
      "/bdd/CMIP5/output/CMCC/CMCC-CESM/historical/mon/atmos/Amon/r1i1p1/latest/tas/tas_Amon_CMCC-CESM_historical_r1i1p1_199501-199912.nc\n",
      "/bdd/CMIP5/output/CMCC/CMCC-CESM/historical/mon/atmos/Amon/r1i1p1/latest/tas/tas_Amon_CMCC-CESM_historical_r1i1p1_200001-200412.nc\n",
      "/bdd/CMIP5/output/CMCC/CMCC-CESM/historical/mon/atmos/Amon/r1i1p1/latest/tas/tas_Amon_CMCC-CESM_historical_r1i1p1_200501-200512.nc\n",
      "/bdd/CMIP5/output/CMCC/CMCC-CESM/rcp85/mon/atmos/Amon/r1i1p1/latest/tas/tas_Amon_CMCC-CESM_rcp85_r1i1p1_200601-201512.nc\n",
      "--\n",
      "CMCC-CM\n",
      "/bdd/CMIP5/output/CMCC/CMCC-CM/historical/mon/atmos/Amon/r1i1p1/latest/tas/tas_Amon_CMCC-CM_historical_r1i1p1_199001-199912.nc\n",
      "/bdd/CMIP5/output/CMCC/CMCC-CM/historical/mon/atmos/Amon/r1i1p1/latest/tas/tas_Amon_CMCC-CM_historical_r1i1p1_200001-200512.nc\n",
      "/bdd/CMIP5/output/CMCC/CMCC-CM/rcp85/mon/atmos/Amon/r1i1p1/latest/tas/tas_Amon_CMCC-CM_rcp85_r1i1p1_200601-201012.nc\n",
      "--\n",
      "CMCC-CMS\n",
      "/bdd/CMIP5/output/CMCC/CMCC-CMS/historical/mon/atmos/Amon/r1i1p1/latest/tas/tas_Amon_CMCC-CMS_historical_r1i1p1_199001-199912.nc\n",
      "/bdd/CMIP5/output/CMCC/CMCC-CMS/historical/mon/atmos/Amon/r1i1p1/latest/tas/tas_Amon_CMCC-CMS_historical_r1i1p1_200001-200512.nc\n",
      "/bdd/CMIP5/output/CMCC/CMCC-CMS/rcp85/mon/atmos/Amon/r1i1p1/latest/tas/tas_Amon_CMCC-CMS_rcp85_r1i1p1_200601-200912.nc\n",
      "/bdd/CMIP5/output/CMCC/CMCC-CMS/rcp85/mon/atmos/Amon/r1i1p1/latest/tas/tas_Amon_CMCC-CMS_rcp85_r1i1p1_201001-201912.nc\n",
      "--\n",
      "CNRM-CM5\n",
      "/bdd/CMIP5/output/CNRM-CERFACS/CNRM-CM5/historical/mon/atmos/Amon/r1i1p1/latest/tas/tas_Amon_CNRM-CM5_historical_r1i1p1_195001-200512.nc\n",
      "/bdd/CMIP5/output/CNRM-CERFACS/CNRM-CM5/rcp85/mon/atmos/Amon/r1i1p1/latest/tas/tas_Amon_CNRM-CM5_rcp85_r1i1p1_200601-205512.nc\n",
      "--\n",
      "CSIRO-Mk3-6-0\n",
      "/bdd/CMIP5/output/CSIRO-QCCCE/CSIRO-Mk3-6-0/historical/mon/atmos/Amon/r1i1p1/latest/tas/tas_Amon_CSIRO-Mk3-6-0_historical_r1i1p1_185001-200512.nc\n",
      "/bdd/CMIP5/output/CSIRO-QCCCE/CSIRO-Mk3-6-0/rcp85/mon/atmos/Amon/r1i1p1/latest/tas/tas_Amon_CSIRO-Mk3-6-0_rcp85_r1i1p1_200601-210012.nc\n",
      "--\n",
      "CanESM2\n",
      "/bdd/CMIP5/output/CCCma/CanESM2/historical/mon/atmos/Amon/r1i1p1/latest/tas/tas_Amon_CanESM2_historical_r1i1p1_185001-200512.nc\n",
      "/bdd/CMIP5/output/CCCma/CanESM2/rcp85/mon/atmos/Amon/r1i1p1/latest/tas/tas_Amon_CanESM2_rcp85_r1i1p1_200601-210012.nc\n",
      "--\n",
      "FIO-ESM\n",
      "/bdd/CMIP5/output/FIO/FIO-ESM/historical/mon/atmos/Amon/r1i1p1/latest/tas/tas_Amon_FIO-ESM_historical_r1i1p1_185001-200512.nc\n",
      "/bdd/CMIP5/output/FIO/FIO-ESM/rcp85/mon/atmos/Amon/r1i1p1/latest/tas/tas_Amon_FIO-ESM_rcp85_r1i1p1_200601-210012.nc\n",
      "--\n",
      "GFDL-CM3\n",
      "/bdd/CMIP5/output/NOAA-GFDL/GFDL-CM3/historical/mon/atmos/Amon/r1i1p1/latest/tas/tas_Amon_GFDL-CM3_historical_r1i1p1_199001-199412.nc\n",
      "/bdd/CMIP5/output/NOAA-GFDL/GFDL-CM3/historical/mon/atmos/Amon/r1i1p1/latest/tas/tas_Amon_GFDL-CM3_historical_r1i1p1_199501-199912.nc\n",
      "/bdd/CMIP5/output/NOAA-GFDL/GFDL-CM3/historical/mon/atmos/Amon/r1i1p1/latest/tas/tas_Amon_GFDL-CM3_historical_r1i1p1_200001-200412.nc\n",
      "/bdd/CMIP5/output/NOAA-GFDL/GFDL-CM3/historical/mon/atmos/Amon/r1i1p1/latest/tas/tas_Amon_GFDL-CM3_historical_r1i1p1_200501-200512.nc\n",
      "/bdd/CMIP5/output/NOAA-GFDL/GFDL-CM3/rcp85/mon/atmos/Amon/r1i1p1/latest/tas/tas_Amon_GFDL-CM3_rcp85_r1i1p1_200601-201012.nc\n",
      "--\n",
      "GFDL-ESM2G\n",
      "/bdd/CMIP5/output/NOAA-GFDL/GFDL-ESM2G/historical/mon/atmos/Amon/r1i1p1/latest/tas/tas_Amon_GFDL-ESM2G_historical_r1i1p1_198601-199012.nc\n",
      "/bdd/CMIP5/output/NOAA-GFDL/GFDL-ESM2G/historical/mon/atmos/Amon/r1i1p1/latest/tas/tas_Amon_GFDL-ESM2G_historical_r1i1p1_199101-199512.nc\n",
      "/bdd/CMIP5/output/NOAA-GFDL/GFDL-ESM2G/historical/mon/atmos/Amon/r1i1p1/latest/tas/tas_Amon_GFDL-ESM2G_historical_r1i1p1_199601-200012.nc\n",
      "/bdd/CMIP5/output/NOAA-GFDL/GFDL-ESM2G/historical/mon/atmos/Amon/r1i1p1/latest/tas/tas_Amon_GFDL-ESM2G_historical_r1i1p1_200101-200512.nc\n",
      "/bdd/CMIP5/output/NOAA-GFDL/GFDL-ESM2G/rcp85/mon/atmos/Amon/r1i1p1/latest/tas/tas_Amon_GFDL-ESM2G_rcp85_r1i1p1_200601-201012.nc\n",
      "--\n",
      "GFDL-ESM2M\n",
      "/bdd/CMIP5/output/NOAA-GFDL/GFDL-ESM2M/historical/mon/atmos/Amon/r1i1p1/latest/tas/tas_Amon_GFDL-ESM2M_historical_r1i1p1_198601-199012.nc\n",
      "/bdd/CMIP5/output/NOAA-GFDL/GFDL-ESM2M/historical/mon/atmos/Amon/r1i1p1/latest/tas/tas_Amon_GFDL-ESM2M_historical_r1i1p1_199101-199512.nc\n",
      "/bdd/CMIP5/output/NOAA-GFDL/GFDL-ESM2M/historical/mon/atmos/Amon/r1i1p1/latest/tas/tas_Amon_GFDL-ESM2M_historical_r1i1p1_199601-200012.nc\n",
      "/bdd/CMIP5/output/NOAA-GFDL/GFDL-ESM2M/historical/mon/atmos/Amon/r1i1p1/latest/tas/tas_Amon_GFDL-ESM2M_historical_r1i1p1_200101-200512.nc\n",
      "/bdd/CMIP5/output/NOAA-GFDL/GFDL-ESM2M/rcp85/mon/atmos/Amon/r1i1p1/latest/tas/tas_Amon_GFDL-ESM2M_rcp85_r1i1p1_200601-201012.nc\n",
      "--\n",
      "GISS-E2-H\n",
      "/bdd/CMIP5/output/NASA-GISS/GISS-E2-H/historical/mon/atmos/Amon/r1i1p1/latest/tas/tas_Amon_GISS-E2-H_historical_r1i1p1_195101-200512.nc\n",
      "/bdd/CMIP5/output/NASA-GISS/GISS-E2-H/rcp85/mon/atmos/Amon/r1i1p1/latest/tas/tas_Amon_GISS-E2-H_rcp85_r1i1p1_200601-205012.nc\n",
      "--\n",
      "GISS-E2-H-CC\n",
      "/bdd/CMIP5/output/NASA-GISS/GISS-E2-H-CC/historical/mon/atmos/Amon/r1i1p1/latest/tas/tas_Amon_GISS-E2-H-CC_historical_r1i1p1_195101-201012.nc\n",
      "/bdd/CMIP5/output/NASA-GISS/GISS-E2-H-CC/rcp85/mon/atmos/Amon/r1i1p1/latest/tas/tas_Amon_GISS-E2-H-CC_rcp85_r1i1p1_200601-205012.nc\n",
      "--\n",
      "GISS-E2-R\n",
      "/bdd/CMIP5/output/NASA-GISS/GISS-E2-R/historical/mon/atmos/Amon/r1i1p1/latest/tas/tas_Amon_GISS-E2-R_historical_r1i1p1_197601-200012.nc\n",
      "/bdd/CMIP5/output/NASA-GISS/GISS-E2-R/historical/mon/atmos/Amon/r1i1p1/latest/tas/tas_Amon_GISS-E2-R_historical_r1i1p1_200101-200512.nc\n",
      "/bdd/CMIP5/output/NASA-GISS/GISS-E2-R/rcp85/mon/atmos/Amon/r1i1p1/latest/tas/tas_Amon_GISS-E2-R_rcp85_r1i1p1_200601-202512.nc\n",
      "--\n",
      "GISS-E2-R-CC\n",
      "/bdd/CMIP5/output/NASA-GISS/GISS-E2-R-CC/historical/mon/atmos/Amon/r1i1p1/latest/tas/tas_Amon_GISS-E2-R-CC_historical_r1i1p1_197601-200012.nc\n",
      "/bdd/CMIP5/output/NASA-GISS/GISS-E2-R-CC/historical/mon/atmos/Amon/r1i1p1/latest/tas/tas_Amon_GISS-E2-R-CC_historical_r1i1p1_200101-201012.nc\n",
      "/bdd/CMIP5/output/NASA-GISS/GISS-E2-R-CC/rcp85/mon/atmos/Amon/r1i1p1/latest/tas/tas_Amon_GISS-E2-R-CC_rcp85_r1i1p1_200601-202512.nc\n",
      "--\n",
      "HadGEM2-AO\n",
      "/bdd/CMIP5/output/NIMR-KMA/HadGEM2-AO/historical/mon/atmos/Amon/r1i1p1/latest/tas/tas_Amon_HadGEM2-AO_historical_r1i1p1_186001-200512.nc\n",
      "/bdd/CMIP5/output/NIMR-KMA/HadGEM2-AO/rcp85/mon/atmos/Amon/r1i1p1/latest/tas/tas_Amon_HadGEM2-AO_rcp85_r1i1p1_200601-210012.nc\n",
      "--\n",
      "HadGEM2-CC\n",
      "/bdd/CMIP5/output/MOHC/HadGEM2-CC/historical/mon/atmos/Amon/r1i1p1/latest/tas/tas_Amon_HadGEM2-CC_historical_r1i1p1_198412-200511.nc\n",
      "/bdd/CMIP5/output/MOHC/HadGEM2-CC/rcp85/mon/atmos/Amon/r1i1p1/latest/tas/tas_Amon_HadGEM2-CC_rcp85_r1i1p1_200512-203011.nc\n",
      "--\n",
      "HadGEM2-ES\n",
      "/bdd/CMIP5/output/MOHC/HadGEM2-ES/historical/mon/atmos/Amon/r1i1p1/latest/tas/tas_Amon_HadGEM2-ES_historical_r1i1p1_198412-200511.nc\n",
      "/bdd/CMIP5/output/MOHC/HadGEM2-ES/rcp85/mon/atmos/Amon/r1i1p1/latest/tas/tas_Amon_HadGEM2-ES_rcp85_r1i1p1_200512-203011.nc\n",
      "--\n",
      "IPSL-CM5A-LR\n",
      "/bdd/CMIP5/output/IPSL/IPSL-CM5A-LR/historical/mon/atmos/Amon/r1i1p1/latest/tas/tas_Amon_IPSL-CM5A-LR_historical_r1i1p1_185001-200512.nc\n",
      "/bdd/CMIP5/output/IPSL/IPSL-CM5A-LR/rcp85/mon/atmos/Amon/r1i1p1/latest/tas/tas_Amon_IPSL-CM5A-LR_rcp85_r1i1p1_200601-230012.nc\n",
      "--\n",
      "IPSL-CM5A-MR\n",
      "/bdd/CMIP5/output/IPSL/IPSL-CM5A-MR/historical/mon/atmos/Amon/r1i1p1/latest/tas/tas_Amon_IPSL-CM5A-MR_historical_r1i1p1_185001-200512.nc\n",
      "/bdd/CMIP5/output/IPSL/IPSL-CM5A-MR/rcp85/mon/atmos/Amon/r1i1p1/latest/tas/tas_Amon_IPSL-CM5A-MR_rcp85_r1i1p1_200601-210012.nc\n",
      "--\n",
      "IPSL-CM5B-LR\n",
      "/bdd/CMIP5/output/IPSL/IPSL-CM5B-LR/historical/mon/atmos/Amon/r1i1p1/latest/tas/tas_Amon_IPSL-CM5B-LR_historical_r1i1p1_185001-200512.nc\n",
      "/bdd/CMIP5/output/IPSL/IPSL-CM5B-LR/rcp85/mon/atmos/Amon/r1i1p1/latest/tas/tas_Amon_IPSL-CM5B-LR_rcp85_r1i1p1_200601-210012.nc\n",
      "--\n",
      "MIROC-ESM\n",
      "/bdd/CMIP5/output/MIROC/MIROC-ESM/historical/mon/atmos/Amon/r1i1p1/latest/tas/tas_Amon_MIROC-ESM_historical_r1i1p1_185001-200512.nc\n",
      "/bdd/CMIP5/output/MIROC/MIROC-ESM/rcp85/mon/atmos/Amon/r1i1p1/latest/tas/tas_Amon_MIROC-ESM_rcp85_r1i1p1_200601-210012.nc\n",
      "--\n",
      "MIROC-ESM-CHEM\n",
      "/bdd/CMIP5/output/MIROC/MIROC-ESM-CHEM/historical/mon/atmos/Amon/r1i1p1/latest/tas/tas_Amon_MIROC-ESM-CHEM_historical_r1i1p1_185001-200512.nc\n",
      "/bdd/CMIP5/output/MIROC/MIROC-ESM-CHEM/rcp85/mon/atmos/Amon/r1i1p1/latest/tas/tas_Amon_MIROC-ESM-CHEM_rcp85_r1i1p1_200601-210012.nc\n",
      "--\n",
      "MIROC5\n",
      "/bdd/CMIP5/output/MIROC/MIROC5/historical/mon/atmos/Amon/r1i1p1/latest/tas/tas_Amon_MIROC5_historical_r1i1p1_185001-201212.nc\n",
      "/bdd/CMIP5/output/MIROC/MIROC5/rcp85/mon/atmos/Amon/r1i1p1/latest/tas/tas_Amon_MIROC5_rcp85_r1i1p1_200601-210012.nc\n",
      "--\n",
      "MPI-ESM-LR\n",
      "/bdd/CMIP5/output/MPI-M/MPI-ESM-LR/historical/mon/atmos/Amon/r1i1p1/latest/tas/tas_Amon_MPI-ESM-LR_historical_r1i1p1_185001-200512.nc\n",
      "/bdd/CMIP5/output/MPI-M/MPI-ESM-LR/rcp85/mon/atmos/Amon/r1i1p1/latest/tas/tas_Amon_MPI-ESM-LR_rcp85_r1i1p1_200601-210012.nc\n",
      "--\n",
      "MPI-ESM-MR\n",
      "/bdd/CMIP5/output/MPI-M/MPI-ESM-MR/historical/mon/atmos/Amon/r1i1p1/latest/tas/tas_Amon_MPI-ESM-MR_historical_r1i1p1_185001-200512.nc\n",
      "/bdd/CMIP5/output/MPI-M/MPI-ESM-MR/rcp85/mon/atmos/Amon/r1i1p1/latest/tas/tas_Amon_MPI-ESM-MR_rcp85_r1i1p1_200601-210012.nc\n",
      "--\n",
      "MRI-CGCM3\n",
      "/bdd/CMIP5/output/MRI/MRI-CGCM3/historical/mon/atmos/Amon/r1i1p1/latest/tas/tas_Amon_MRI-CGCM3_historical_r1i1p1_185001-200512.nc\n",
      "/bdd/CMIP5/output/MRI/MRI-CGCM3/rcp85/mon/atmos/Amon/r1i1p1/latest/tas/tas_Amon_MRI-CGCM3_rcp85_r1i1p1_200601-210012.nc\n",
      "--\n",
      "MRI-ESM1\n",
      "/bdd/CMIP5/output/MRI/MRI-ESM1/historical/mon/atmos/Amon/r1i1p1/latest/tas/tas_Amon_MRI-ESM1_historical_r1i1p1_185101-200512.nc\n",
      "/bdd/CMIP5/output/MRI/MRI-ESM1/rcp85/mon/atmos/Amon/r1i1p1/latest/tas/tas_Amon_MRI-ESM1_rcp85_r1i1p1_200601-210012.nc\n",
      "--\n",
      "NorESM1-M\n",
      "/bdd/CMIP5/output/NCC/NorESM1-M/historical/mon/atmos/Amon/r1i1p1/latest/tas/tas_Amon_NorESM1-M_historical_r1i1p1_185001-200512.nc\n",
      "/bdd/CMIP5/output/NCC/NorESM1-M/rcp85/mon/atmos/Amon/r1i1p1/latest/tas/tas_Amon_NorESM1-M_rcp85_r1i1p1_200601-210012.nc\n",
      "--\n",
      "NorESM1-ME\n",
      "/bdd/CMIP5/output/NCC/NorESM1-ME/historical/mon/atmos/Amon/r1i1p1/latest/tas/tas_Amon_NorESM1-ME_historical_r1i1p1_185001-200512.nc\n",
      "/bdd/CMIP5/output/NCC/NorESM1-ME/rcp85/mon/atmos/Amon/r1i1p1/latest/tas/tas_Amon_NorESM1-ME_rcp85_r1i1p1_200601-204412.nc\n",
      "--\n",
      "bcc-csm1-1-m\n",
      "/bdd/CMIP5/output/BCC/bcc-csm1-1-m/historical/mon/atmos/Amon/r1i1p1/latest/tas/tas_Amon_bcc-csm1-1-m_historical_r1i1p1_185001-201212.nc\n",
      "/bdd/CMIP5/output/BCC/bcc-csm1-1-m/rcp85/mon/atmos/Amon/r1i1p1/latest/tas/tas_Amon_bcc-csm1-1-m_rcp85_r1i1p1_200601-209912.nc\n",
      "--\n",
      "inmcm4\n",
      "/bdd/CMIP5/output/INM/inmcm4/historical/mon/atmos/Amon/r1i1p1/latest/tas/tas_Amon_inmcm4_historical_r1i1p1_185001-200512.nc\n",
      "/bdd/CMIP5/output/INM/inmcm4/rcp85/mon/atmos/Amon/r1i1p1/latest/tas/tas_Amon_inmcm4_rcp85_r1i1p1_200601-210012.nc\n",
      "--\n"
     ]
    }
   ],
   "source": [
    "summary(ok_ens_cmip5_extent)"
   ]
  },
  {
   "cell_type": "markdown",
   "metadata": {},
   "source": [
    "### --> You can start working!\n",
    "#  "
   ]
  },
  {
   "cell_type": "markdown",
   "metadata": {},
   "source": [
    "## -- More data access at CLIMERI through CliMAF"
   ]
  },
  {
   "cell_type": "markdown",
   "metadata": {},
   "source": [
    "### List the available projects with 'projects()'"
   ]
  },
  {
   "cell_type": "code",
   "execution_count": 21,
   "metadata": {},
   "outputs": [
    {
     "name": "stdout",
     "output_type": "stream",
     "text": [
      "-- Available projects:\n",
      "-- Project: CORDEX\n",
      "Facets => ${project}%${simulation}%${variable}%${period}%${domain}%${root}%${model}%${CORDEX_domain}%${model_version}%${frequency}%${driving_model}%${realization}%${experiment}%${version}%${institute}\n",
      "-- Project: ref_era5cerfacs\n",
      "Facets => ${project}%${simulation}%${variable}%${period}%${domain}%${frequency}%${product}%${obs_type}%${table}\n",
      "-- Project: IGCM_OUT\n",
      "Facets => ${project}%${simulation}%${variable}%${period}%${domain}%${root}%${login}%${model}%${status}%${experiment}%${DIR}%${OUT}%${ave_length}%${frequency}%${clim_period}%${clim_period_length}\n",
      "-- Project: CMIP6_extent\n",
      "Facets => ${project}%${simulation}%${variable}%${period}%${domain}%${root}%${model}%${institute}%${mip}%${table}%${experiment}%${extent_experiment}%${realization}%${grid}%${version}%${extent_version}\n",
      "-- Project: file\n",
      "Facets => ${project}|${simulation}|${variable}|${period}|${domain}|${model}|${path}\n",
      "-- Project: CORDEX_extent\n",
      "Facets => ${project}%${simulation}%${variable}%${period}%${domain}%${root}%${model}%${CORDEX_domain}%${model_version}%${frequency}%${driving_model}%${realization}%${experiment}%${extent_experiment}%${version}%${institute}\n",
      "-- Project: IPSL-CM6_historical-EXT\n",
      "Facets => ${project}%${simulation}%${variable}%${period}%${domain}%${root}%${model}%${institute}%${mip}%${table}%${experiment}%${realization}%${grid}%${version}\n",
      "-- Project: CLIM4ENERGY_BCCORDEX\n",
      "Facets => ${project}%${simulation}%${variable}%${period}%${domain}%${GCM}%${RCM}%${CORDEX_domain}%${correction_reference}%${frequency}%${version}%${institute}%${realization}%${experiment}\n",
      "-- Project: CMIP3\n",
      "Facets => ${project}%${simulation}%${variable}%${period}%${domain}%${root}%${model}%${realm}%${experiment}%${realization}%${frequency}\n",
      "-- Project: CMIP5-Adjust\n",
      "Facets => ${project}%${simulation}%${variable}%${period}%${domain}%${root}%${model}%${experiment}%${bias_correction}%${frequency}%${table}%${gr}%${realm}%${realization}%${experiment}%${version}\n",
      "-- Project: CMIP5\n",
      "Facets => ${project}%${simulation}%${variable}%${period}%${domain}%${root}%${model}%${table}%${experiment}%${realization}%${frequency}%${realm}%${version}\n",
      "-- Project: CMIP6\n",
      "Facets => ${project}%${simulation}%${variable}%${period}%${domain}%${root}%${model}%${institute}%${mip}%${table}%${experiment}%${realization}%${grid}%${version}\n",
      "-- Project: ref_climatos\n",
      "Facets => ${project}%${simulation}%${variable}%${period}%${domain}%${frequency}%${product}%${clim_period}%${table}%${obs_type}\n",
      "-- Project: CMIP6CERFACS\n",
      "Facets => ${project}%${simulation}%${variable}%${period}%${domain}%${model}%${institute}%${mip}%${table}%${realization}%${grid}\n",
      "-- Project: OCMIP5\n",
      "Facets => ${project}.${simulation}.${variable}.${period}.${domain}.${model}.${frequency}\n",
      "-- Project: ref_ts\n",
      "Facets => ${project}%${simulation}%${variable}%${period}%${domain}%${frequency}%${product}%${obs_type}%${table}\n",
      "-- Project: IGCM_CMIP6\n",
      "Facets => ${project}%${simulation}%${variable}%${period}%${domain}%${root}%${login}%${IPSL_MODEL}%${status}%${experiment}%${realm}%${frequency}%${table}%${model}%${realization}%${grid}\n",
      "-- Project: NEMO\n",
      "Facets => ${project}%${simulation}%${variable}%${period}%${domain}%${root}%${login}%${model}%${config}%${status}%${experiment}%${DIR}%${OUT}%${ave_length}%${frequency}%${clim_period}%${clim_period_length}\n",
      "-- Project: CAMIOBS\n",
      "Facets => ${project}_${simulation}_${variable}_${period}_${domain}_${product}\n",
      "-- Project: None\n",
      "Facets => ${project}.${simulation}.${variable}.${period}.${domain}\n",
      "-- Project: CMIP5_extent\n",
      "Facets => ${project}%${simulation}%${variable}%${period}%${domain}%${root}%${model}%${table}%${experiment}%${extent_experiment}%${realization}%${frequency}%${realm}%${version}\n",
      "-- Project: CORDEX-Adjust\n",
      "Facets => ${project}%${simulation}%${variable}%${period}%${domain}%${root}%${model}%${CORDEX_domain}%${bias_correction}%${frequency}%${driving_model}%${realization}%${experiment}%${version}%${institute}\n",
      "-- Project: example\n",
      "Facets => ${project}|${simulation}|${variable}|${period}|${domain}|${frequency}\n",
      "-- Project: E-OBS\n",
      "Facets => ${project}%${simulation}%${variable}%${period}%${domain}%${grid}%${frequency}\n"
     ]
    }
   ],
   "source": [
    "projects()"
   ]
  },
  {
   "cell_type": "markdown",
   "metadata": {},
   "source": [
    "## 5. Some examples with CORDEX"
   ]
  },
  {
   "cell_type": "markdown",
   "metadata": {},
   "source": [
    "### Let's start with a 'blank page': "
   ]
  },
  {
   "cell_type": "code",
   "execution_count": 22,
   "metadata": {},
   "outputs": [
    {
     "data": {
      "text/plain": [
       "{'CORDEX_domain': ['AFR-22', 'AFR-44', 'EUR-11', 'EUR-44', 'SAM-22', 'SAM-44'],\n",
       " 'driving_model': ['CCCma-CanESM2',\n",
       "  'CNRM-CERFACS-CNRM-CM5',\n",
       "  'CSIRO-QCCCE-CSIRO-Mk3-6-0',\n",
       "  'ECMWF-ERAINT',\n",
       "  'ICHEC-EC-EARTH',\n",
       "  'IPSL-IPSL-CM5A-LR',\n",
       "  'IPSL-IPSL-CM5A-MR',\n",
       "  'MIROC-MIROC5',\n",
       "  'MOHC-HadGEM2-ES',\n",
       "  'MPI-M-MPI-ESM-LR',\n",
       "  'MPI-M-MPI-ESM-MR',\n",
       "  'NCC-NorESM1-M',\n",
       "  'NOAA-GFDL-GFDL-ESM2G',\n",
       "  'NOAA-GFDL-GFDL-ESM2M'],\n",
       " 'experiment': ['evaluation', 'historical', 'rcp26', 'rcp45', 'rcp85'],\n",
       " 'institute': ['CLMcom',\n",
       "  'CLMcom-ETH',\n",
       "  'CLMcom-KIT',\n",
       "  'CNRM',\n",
       "  'DHMZ',\n",
       "  'DMI',\n",
       "  'ETH',\n",
       "  'GERICS',\n",
       "  'HMS',\n",
       "  'ICTP',\n",
       "  'IPSL',\n",
       "  'IPSL-INERIS',\n",
       "  'KNMI',\n",
       "  'MOHC',\n",
       "  'MPI-CSC',\n",
       "  'NUIM',\n",
       "  'RMIB-UGent',\n",
       "  'SMHI',\n",
       "  'UCAN',\n",
       "  'UQAM'],\n",
       " 'model': ['CLMcom-CCLM4-8-17',\n",
       "  'CLMcom-CCLM5-0-6',\n",
       "  'CLMcom-ETH-COSMO-crCLIM-v1-1',\n",
       "  'CLMcom-KIT-CCLM5-0-15',\n",
       "  'CNRM-ALADIN53',\n",
       "  'CNRM-ALADIN63',\n",
       "  'DHMZ-RegCM4-2',\n",
       "  'DMI-HIRHAM5',\n",
       "  'GERICS-REMO2009',\n",
       "  'GERICS-REMO2015',\n",
       "  'HMS-ALADIN52',\n",
       "  'ICTP-RegCM4-3',\n",
       "  'ICTP-RegCM4-6',\n",
       "  'ICTP-RegCM4-7',\n",
       "  'IPSL-INERIS-WRF331F',\n",
       "  'IPSL-WRF381P',\n",
       "  'KNMI-RACMO22E',\n",
       "  'KNMI-RACMO22T',\n",
       "  'MOHC-HadGEM3-RA',\n",
       "  'MOHC-HadREM3-GA7-05',\n",
       "  'MOHC-HadRM3P',\n",
       "  'MPI-CSC-REMO2009',\n",
       "  'NUIM-WRF341E',\n",
       "  'RMIB-UGent-ALARO-0',\n",
       "  'SMHI-RCA4',\n",
       "  'UCAN-WRF331G',\n",
       "  'UCAN-WRF341I',\n",
       "  'UQAM-CRCM5'],\n",
       " 'model_version': ['v0', 'v01', 'v1', 'v1a', 'v2', 'v3', 'v4']}"
      ]
     },
     "execution_count": 22,
     "metadata": {},
     "output_type": "execute_result"
    }
   ],
   "source": [
    "req_cordex = ds(project='CORDEX', variable='tas', frequency='daily', period='1980-2005',root='/bdd')\n",
    "\n",
    "req_cordex.explore('choices')"
   ]
  },
  {
   "cell_type": "markdown",
   "metadata": {},
   "source": [
    "### --> You now have all the possible choices + the list of keywords that need to be specified\n",
    "### Try to specify your data request yourself!\n",
    "### Important note: at the moment, ds() is not able to produce an ensemble on two keywords at the same time:\n",
    "### --> we thus have to build an ensemble by hand to deal with the GCM/RCM (driving_model/model) couples\n",
    "### --> See more details in the notebooks on 'handling ensembles' (part 2)\n",
    "### And also note that you have CORDEX-Adjust and CORDEX_extent available"
   ]
  },
  {
   "cell_type": "code",
   "execution_count": 23,
   "metadata": {},
   "outputs": [
    {
     "data": {
      "text/plain": [
       "{'driving_model': ['CCCma-CanESM2',\n",
       "  'CNRM-CERFACS-CNRM-CM5',\n",
       "  'CSIRO-QCCCE-CSIRO-Mk3-6-0',\n",
       "  'IPSL-IPSL-CM5A-MR',\n",
       "  'MIROC-MIROC5',\n",
       "  'MOHC-HadGEM2-ES',\n",
       "  'MPI-M-MPI-ESM-LR',\n",
       "  'NCC-NorESM1-M',\n",
       "  'NOAA-GFDL-GFDL-ESM2M'],\n",
       " 'institute': 'SMHI'}"
      ]
     },
     "execution_count": 23,
     "metadata": {},
     "output_type": "execute_result"
    }
   ],
   "source": [
    "# -- Example with CORDEX_extent and one RCM (model)\n",
    "cordex_extent = ds(project='CORDEX_extent', period='1990-2010', variable='tas', frequency='daily',\n",
    "                   model_version='v1', CORDEX_domain='EUR-44', model='SMHI-RCA4')\n",
    "\n",
    "cordex_extent.explore('choices')"
   ]
  },
  {
   "cell_type": "code",
   "execution_count": 24,
   "metadata": {},
   "outputs": [
    {
     "data": {
      "text/plain": [
       "{'CORDEX_domain': 'EUR-11',\n",
       " 'bias_correction': ['v1-IPSL-CDFT22s-MESAN-1989-2005',\n",
       "  'v1-LSCE-IPSL-CDFt-EOBS10-1971-2005',\n",
       "  'v1a-IPSL-CDFT22s-MESAN-1989-2005',\n",
       "  'v2-IPSL-CDFT22s-MESAN-1989-2005'],\n",
       " 'driving_model': ['CNRM-CERFACS-CNRM-CM5',\n",
       "  'ICHEC-EC-EARTH',\n",
       "  'IPSL-IPSL-CM5A-MR',\n",
       "  'MOHC-HadGEM2-ES',\n",
       "  'MPI-M-MPI-ESM-LR'],\n",
       " 'frequency': 'day',\n",
       " 'institute': ['CLMcom', 'IPSL-INERIS', 'KNMI', 'MPI-CSC', 'SMHI'],\n",
       " 'model': ['CLMcom-CCLM4-8-17',\n",
       "  'IPSL-INERIS-WRF331F',\n",
       "  'KNMI-RACMO22E',\n",
       "  'MPI-CSC-REMO2009',\n",
       "  'SMHI-RCA4'],\n",
       " 'period': [1951-2100]}"
      ]
     },
     "execution_count": 24,
     "metadata": {},
     "output_type": "execute_result"
    }
   ],
   "source": [
    "cordex_adjust = ds(project='CORDEX-Adjust', period='*', variable='tasmax')\n",
    "cordex_adjust.explore('choices')"
   ]
  },
  {
   "cell_type": "markdown",
   "metadata": {},
   "source": [
    "## 6. Example with libIGCM outputs: 'IGCM_OUT' project\n",
    "### You will easily recognize the keywords if you are used to work on libIGCM simulations!"
   ]
  },
  {
   "cell_type": "code",
   "execution_count": 25,
   "metadata": {},
   "outputs": [
    {
     "data": {
      "text/plain": [
       "{'clim_period': ['1800_1809',\n",
       "  '1810_1819',\n",
       "  '1820_1829',\n",
       "  '1830_1839',\n",
       "  '1840_1849',\n",
       "  '1850_1859',\n",
       "  '1860_1869',\n",
       "  '1870_1879',\n",
       "  '1880_1889',\n",
       "  '1890_1899'],\n",
       " 'clim_period_length': '',\n",
       " 'status': 'DEVT'}"
      ]
     },
     "execution_count": 25,
     "metadata": {},
     "output_type": "execute_result"
    }
   ],
   "source": [
    "req_ipsl = ds(project='IGCM_OUT',\n",
    "              login='p86denv',\n",
    "              model='IPSLCM6',\n",
    "              simulation='CM6013-pi-01',\n",
    "              experiment='piControl',\n",
    "              DIR='OCE',\n",
    "              frequency='seasonal',\n",
    "              clim_period='*',\n",
    "              variable='tos')\n",
    "req_ipsl.explore('choices')"
   ]
  },
  {
   "cell_type": "markdown",
   "metadata": {},
   "source": [
    "## 7. Some references (used by the C-ESM-EP for routine evaluation)"
   ]
  },
  {
   "cell_type": "markdown",
   "metadata": {},
   "source": [
    "### Pre-computed climatologies:"
   ]
  },
  {
   "cell_type": "code",
   "execution_count": 26,
   "metadata": {},
   "outputs": [
    {
     "name": "stdout",
     "output_type": "stream",
     "text": [
      "explore(\"choices\"):\n",
      "{'table': ['Amon', 'pcmdi-metrics'], 'product': ['Amon', 'GPCP', 'TRMM'], 'obs_type': ['GPCP', 'TRMM', 'pcmdi-metrics'], 'clim_period': ['197901-200909', '200001-200912']}\n",
      " -- \n",
      "Summary:\n",
      "Multiple available values for attribute \"table\" that is set to \"*\" in your ds() call:  ['Amon', 'pcmdi-metrics']\n",
      "Specify one of them (within ds() or with cdef())\n",
      "Multiple available values for attribute \"product\" that is set to \"*\" in your ds() call:  ['Amon', 'GPCP', 'TRMM']\n",
      "Specify one of them (within ds() or with cdef())\n",
      "Multiple available values for attribute \"obs_type\" that is set to \"*\" in your ds() call:  ['GPCP', 'TRMM', 'pcmdi-metrics']\n",
      "Specify one of them (within ds() or with cdef())\n",
      "Multiple available values for attribute \"clim_period\" that is set to \"*\" in your ds() call:  ['197901-200909', '200001-200912']\n",
      "Specify one of them (within ds() or with cdef())\n"
     ]
    },
    {
     "data": {
      "text/plain": [
       "{'clim_period': '*',\n",
       " 'domain': 'global',\n",
       " 'frequency': 'annual_cycle',\n",
       " 'obs_type': '*',\n",
       " 'period': fx,\n",
       " 'product': '*',\n",
       " 'project': 'ref_climatos',\n",
       " 'simulation': 'refproduct',\n",
       " 'table': '*',\n",
       " 'variable': 'pr'}"
      ]
     },
     "execution_count": 26,
     "metadata": {},
     "output_type": "execute_result"
    }
   ],
   "source": [
    "ref_climato = ds(project='ref_climatos', variable='pr')\n",
    "\n",
    "\n",
    "print 'explore(\"choices\"):'\n",
    "print ref_climato.explore('choices')\n",
    "print ' -- '\n",
    "print 'Summary:'\n",
    "summary(ref_climato)"
   ]
  },
  {
   "cell_type": "markdown",
   "metadata": {},
   "source": [
    "### And 'time series' references (with a temporal dimension)"
   ]
  },
  {
   "cell_type": "code",
   "execution_count": 27,
   "metadata": {},
   "outputs": [
    {
     "name": "stdout",
     "output_type": "stream",
     "text": [
      "explore(\"choices\"):\n",
      "{'table': 'Amon', 'product': ['CMAP-enhanced', 'CMAP-noreanal', 'DFS4.3', 'GPCC-2.2', 'GPCP', 'GPCP-2.3', 'MERRA', 'NCEP2'], 'period': [1958-2017], 'obs_type': ['observations', 'oceanforcing', 'reanalysis']}\n",
      " -- \n",
      "Summary:\n",
      "Multiple available values for attribute \"product\" that is set to \"*\" in your ds() call:  ['CMAP-enhanced', 'CMAP-noreanal', 'DFS4.3', 'GPCC-2.2', 'GPCP', 'GPCP-2.3', 'MERRA', 'NCEP2']\n",
      "Specify one of them (within ds() or with cdef())\n",
      "Multiple available values for attribute \"obs_type\" that is set to \"*\" in your ds() call:  ['observations', 'oceanforcing', 'reanalysis']\n",
      "Specify one of them (within ds() or with cdef())\n"
     ]
    },
    {
     "data": {
      "text/plain": [
       "{'domain': 'global',\n",
       " 'frequency': 'monthly',\n",
       " 'obs_type': '*',\n",
       " 'period': '*',\n",
       " 'product': '*',\n",
       " 'project': 'ref_ts',\n",
       " 'simulation': 'refproduct',\n",
       " 'table': '*',\n",
       " 'variable': 'pr'}"
      ]
     },
     "execution_count": 27,
     "metadata": {},
     "output_type": "execute_result"
    }
   ],
   "source": [
    "from climaf.api import *\n",
    "\n",
    "ref_ts = ds(project='ref_ts', variable='pr', period='*')\n",
    "\n",
    "print 'explore(\"choices\"):'\n",
    "print ref_ts.explore('choices')\n",
    "print ' -- '\n",
    "print 'Summary:'\n",
    "summary(ref_ts)"
   ]
  },
  {
   "cell_type": "markdown",
   "metadata": {},
   "source": [
    "### Tip: check the period available for each product: explore('choices', group_periods_on='product', operation=None)\n",
    "https://climaf.readthedocs.io/en/master/functions_data.html#cdataset-explore-explore-data-and-periods-and-match-joker-attributes"
   ]
  },
  {
   "cell_type": "code",
   "execution_count": 28,
   "metadata": {},
   "outputs": [
    {
     "data": {
      "text/plain": [
       "{'obs_type': ['observations', 'oceanforcing', 'reanalysis'],\n",
       " 'period': {'CMAP-enhanced': [197901-200909],\n",
       "  'CMAP-noreanal': [197901-200909],\n",
       "  'DFS4.3': [1958-2006],\n",
       "  'GPCC-2.2': [1979-2010],\n",
       "  'GPCP': [197901-201302],\n",
       "  'GPCP-2.3': [1979-2017],\n",
       "  'MERRA': [197901-201310],\n",
       "  'NCEP2': [1979-2011]},\n",
       " 'product': ['CMAP-enhanced',\n",
       "  'CMAP-noreanal',\n",
       "  'DFS4.3',\n",
       "  'GPCC-2.2',\n",
       "  'GPCP',\n",
       "  'GPCP-2.3',\n",
       "  'MERRA',\n",
       "  'NCEP2'],\n",
       " 'table': 'Amon'}"
      ]
     },
     "execution_count": 28,
     "metadata": {},
     "output_type": "execute_result"
    }
   ],
   "source": [
    "ref_ts.explore('choices', group_periods_on='product', operation=None)"
   ]
  },
  {
   "cell_type": "markdown",
   "metadata": {},
   "source": [
    "### Last example: E-OBS, a Climserv archive stored on /bdd"
   ]
  },
  {
   "cell_type": "code",
   "execution_count": 29,
   "metadata": {},
   "outputs": [
    {
     "data": {
      "text/plain": [
       "{'grid': ['0.22deg_rot', '0.25deg_reg', '0.44deg_rot', '0.50deg_reg'],\n",
       " 'period': [1950-2016],\n",
       " 'variable': ['pp',\n",
       "  'pp_stderr',\n",
       "  'rr',\n",
       "  'rr_stderr',\n",
       "  'tg',\n",
       "  'tg_stderr',\n",
       "  'tn',\n",
       "  'tn_stderr',\n",
       "  'tx',\n",
       "  'tx_stderr']}"
      ]
     },
     "execution_count": 29,
     "metadata": {},
     "output_type": "execute_result"
    }
   ],
   "source": [
    "eobs = ds(project='E-OBS')\n",
    "\n",
    "eobs.explore('choices')"
   ]
  },
  {
   "cell_type": "code",
   "execution_count": 30,
   "metadata": {},
   "outputs": [
    {
     "name": "stdout",
     "output_type": "stream",
     "text": [
      "Multiple available values for attribute \"variable\" that is set to \"*\" in your ds() call:  ['pp', 'pp_stderr', 'rr', 'rr_stderr', 'tg', 'tg_stderr', 'tn', 'tn_stderr', 'tx', 'tx_stderr']\n",
      "Specify one of them (within ds() or with cdef())\n",
      "Multiple available values for attribute \"grid\" that is set to \"*\" in your ds() call:  ['0.22deg_rot', '0.25deg_reg', '0.44deg_rot', '0.50deg_reg']\n",
      "Specify one of them (within ds() or with cdef())\n"
     ]
    },
    {
     "data": {
      "text/plain": [
       "{'domain': 'global',\n",
       " 'frequency': 'daily',\n",
       " 'grid': '*deg_*',\n",
       " 'period': '*',\n",
       " 'project': 'E-OBS',\n",
       " 'simulation': '',\n",
       " 'variable': '*'}"
      ]
     },
     "execution_count": 30,
     "metadata": {},
     "output_type": "execute_result"
    }
   ],
   "source": [
    "summary(eobs)"
   ]
  },
  {
   "cell_type": "markdown",
   "metadata": {},
   "source": [
    "## And see how to add your own data in Adding_access_to_my_own_data.ipynb"
   ]
  },
  {
   "cell_type": "markdown",
   "metadata": {},
   "source": [
    "#   \n",
    "## This was how to access data in CliMAF at CLIMERI!\n",
    "##  \n",
    "##  \n",
    "## -> go back to the other examples to see more on CliMAF\n"
   ]
  },
  {
   "cell_type": "code",
   "execution_count": null,
   "metadata": {},
   "outputs": [],
   "source": []
  }
 ],
 "metadata": {
  "kernelspec": {
   "display_name": "Python 2",
   "language": "python",
   "name": "python2"
  },
  "language_info": {
   "codemirror_mode": {
    "name": "ipython",
    "version": 2
   },
   "file_extension": ".py",
   "mimetype": "text/x-python",
   "name": "python",
   "nbconvert_exporter": "python",
   "pygments_lexer": "ipython2",
   "version": "2.7.15"
  }
 },
 "nbformat": 4,
 "nbformat_minor": 2
}
