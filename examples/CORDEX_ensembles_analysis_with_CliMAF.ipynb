{
 "cells": [
  {
   "cell_type": "code",
   "execution_count": 1,
   "metadata": {},
   "outputs": [
    {
     "data": {
      "text/html": [
       "<img src=\"https://vesg.ipsl.upmc.fr/thredds/fileServer/IPSLFS/jservon/CliMAF_Notebooks_html/CliMAF-logo-small.png\"/>"
      ],
      "text/plain": [
       "<IPython.core.display.Image object>"
      ]
     },
     "execution_count": 1,
     "metadata": {},
     "output_type": "execute_result"
    }
   ],
   "source": [
    "from IPython.display import Image\n",
    "Image(url='https://vesg.ipsl.upmc.fr/thredds/fileServer/IPSLFS/jservon/CliMAF_Notebooks_html/CliMAF-logo-small.png') "
   ]
  },
  {
   "cell_type": "markdown",
   "metadata": {},
   "source": [
    "### A science-oriented framework to ease the analysis of climate model simulations\n",
    "##### WP5 ANR Convergence\n",
    "##### Development team: Stéphane Sénési (CNRM-GAME), Gaëlle Rigoudy (CNRM-GAME), Jérôme Servonnat (LSCE-IPSL), Ludivine Vignon (CNRM-GAME), Laurent Franchisteguy (CNRM-GAME), Patrick Brockmann (LSCE-IPSL)\n",
    "##### Beta-testing: Olivier Marti (LSCE-IPSL), Marie-Pierre Moine (CERFACS), Emilia Sanchez-Gomez (CERFACS)\n",
    "##   \n",
    "##### contact: climaf@meteo.fr\n",
    "##### users list: climaf-users@meteo.fr"
   ]
  },
  {
   "cell_type": "markdown",
   "metadata": {},
   "source": [
    "# Working with CliMAF on CORDEX ensembles\n",
    "In this notebook we will see how to make a multi-model ensemble with CORDEX.\n",
    "Compared with CMIP5 and CMIP6, CORDEX datasets are defined not only by one model but by a GCM/RCM couple (driving_model/model).\n",
    "\n",
    "1. We will see how to make the most of CliMAF to work on those CORDEX ensembles.\n",
    "2. and we will see how to access the land/sea mask\n",
    "\n",
    "#  "
   ]
  },
  {
   "cell_type": "markdown",
   "metadata": {},
   "source": [
    "## First, import climaf"
   ]
  },
  {
   "cell_type": "code",
   "execution_count": 2,
   "metadata": {},
   "outputs": [
    {
     "name": "stderr",
     "output_type": "stream",
     "text": [
      "CliMAF version = 1.2.13\n"
     ]
    },
    {
     "name": "stdout",
     "output_type": "stream",
     "text": [
      "CliMAF install => /ciclad-home/jservon/Evaluation/CliMAF/climaf_installs/climaf_V1.2.13_post\n",
      "python => /modfs/modtools/miniconda2/envs/analyse_2.7/bin/python\n",
      "---\n",
      "Required softwares to run CliMAF => you are using the following versions/installations:\n",
      "ncl 6.3.0 => /opt/ncl-6.3.0/bin/ncl\n",
      "cdo 1.9.6 => /opt/nco/1.9/bin/cdo\n",
      "nco (ncks) 4.5.2 => /opt/nco-4.5.2/bin/ncks\n",
      "ncdump fichier => /modfs/modtools/miniconda2/envs/analyse_2.7/bin/ncdump\n",
      "Check stamping requirements\n",
      "nco (ncatted) found -> /opt/nco-4.5.2/bin/ncatted\n",
      "convert found -> /usr/bin/convert\n",
      "pdftk found -> /usr/bin/pdftk\n",
      "exiv2 found -> /ciclad-home/jservon/Evaluation/CliMAF/climaf_installs/climaf_V1.2.13_post/bin/exiv2\n",
      "---\n"
     ]
    },
    {
     "name": "stderr",
     "output_type": "stream",
     "text": [
      "Cache directory set to : /data/jservon/climafcache_test (use $CLIMAF_CACHE if set) \n",
      "Cache directory for remote data set to : /data/jservon/climafcache_test/remote_data (use $CLIMAF_REMOTE_CACHE if set) \n",
      "warning  : When defining temp_penalty : duplicate declaration for input #0\n",
      "warning  : When defining cquantile : duplicate declaration for input #0\n",
      "warning  : When defining cquantile : duplicate declaration for input #0\n",
      "Available macros read from ~/.climaf.macros are : []\n"
     ]
    }
   ],
   "source": [
    "from climaf.api import *"
   ]
  },
  {
   "cell_type": "markdown",
   "metadata": {},
   "source": [
    "## And set verbosity ('critical' -> minimum ; 'debug' -> maximum)"
   ]
  },
  {
   "cell_type": "code",
   "execution_count": 3,
   "metadata": {},
   "outputs": [],
   "source": [
    "clog('critical') # min verbosity = critical < warning < info < debug = max verbosity"
   ]
  },
  {
   "cell_type": "markdown",
   "metadata": {},
   "source": [
    "### ... and dont' forget to open the documentation in case you have questions.\n",
    "\n",
    "### http://climaf.readthedocs.org/\n",
    "\n",
    "### -> Use the \"Quick search\" space to search for what you are interested in, it is really powerfull!\n",
    "#  \n",
    "#  "
   ]
  },
  {
   "cell_type": "markdown",
   "metadata": {},
   "source": [
    "## 1. Make a CORDEX ensemble\n",
    "The specificity of CORDEX is that it works as GCM/RCM couples.\n",
    "We propose here a way to build a multi-model CORDEX ensemble"
   ]
  },
  {
   "cell_type": "code",
   "execution_count": 4,
   "metadata": {},
   "outputs": [
    {
     "name": "stdout",
     "output_type": "stream",
     "text": [
      "GCM =  CNRM-CERFACS-CNRM-CM5  RCM =  CLMcom-CCLM4-8-17\n",
      "GCM =  CNRM-CERFACS-CNRM-CM5  RCM =  CNRM-ALADIN53\n",
      "GCM =  CNRM-CERFACS-CNRM-CM5  RCM =  CNRM-ALADIN63\n",
      "GCM =  CNRM-CERFACS-CNRM-CM5  RCM =  DMI-HIRHAM5\n",
      "GCM =  CNRM-CERFACS-CNRM-CM5  RCM =  IPSL-WRF381P\n",
      "GCM =  CNRM-CERFACS-CNRM-CM5  RCM =  KNMI-RACMO22E\n",
      "GCM =  CNRM-CERFACS-CNRM-CM5  RCM =  RMIB-UGent-ALARO-0\n",
      "GCM =  CNRM-CERFACS-CNRM-CM5  RCM =  SMHI-RCA4\n",
      "GCM =  ICHEC-EC-EARTH  RCM =  CLMcom-CCLM4-8-17\n",
      "GCM =  ICHEC-EC-EARTH  RCM =  CLMcom-ETH-COSMO-crCLIM-v1-1\n",
      "GCM =  ICHEC-EC-EARTH  RCM =  DMI-HIRHAM5\n",
      "GCM =  ICHEC-EC-EARTH  RCM =  IPSL-WRF381P\n",
      "GCM =  ICHEC-EC-EARTH  RCM =  KNMI-RACMO22E\n",
      "GCM =  ICHEC-EC-EARTH  RCM =  MOHC-HadREM3-GA7-05\n",
      "GCM =  ICHEC-EC-EARTH  RCM =  SMHI-RCA4\n",
      "GCM =  IPSL-IPSL-CM5A-LR  RCM =  GERICS-REMO2015\n",
      "GCM =  IPSL-IPSL-CM5A-MR  RCM =  IPSL-WRF381P\n",
      "GCM =  IPSL-IPSL-CM5A-MR  RCM =  KNMI-RACMO22E\n",
      "GCM =  IPSL-IPSL-CM5A-MR  RCM =  SMHI-RCA4\n",
      "GCM =  MOHC-HadGEM2-ES  RCM =  CLMcom-CCLM4-8-17\n",
      "GCM =  MOHC-HadGEM2-ES  RCM =  CLMcom-ETH-COSMO-crCLIM-v1-1\n",
      "GCM =  MOHC-HadGEM2-ES  RCM =  CNRM-ALADIN63\n",
      "GCM =  MOHC-HadGEM2-ES  RCM =  DMI-HIRHAM5\n",
      "GCM =  MOHC-HadGEM2-ES  RCM =  ICTP-RegCM4-6\n",
      "GCM =  MOHC-HadGEM2-ES  RCM =  IPSL-WRF381P\n",
      "GCM =  MOHC-HadGEM2-ES  RCM =  KNMI-RACMO22E\n",
      "GCM =  MOHC-HadGEM2-ES  RCM =  MOHC-HadREM3-GA7-05\n",
      "GCM =  MOHC-HadGEM2-ES  RCM =  SMHI-RCA4\n",
      "GCM =  MPI-M-MPI-ESM-LR  RCM =  CLMcom-CCLM4-8-17\n",
      "GCM =  MPI-M-MPI-ESM-LR  RCM =  CLMcom-ETH-COSMO-crCLIM-v1-1\n",
      "GCM =  MPI-M-MPI-ESM-LR  RCM =  CNRM-ALADIN63\n",
      "GCM =  MPI-M-MPI-ESM-LR  RCM =  DMI-HIRHAM5\n",
      "GCM =  MPI-M-MPI-ESM-LR  RCM =  GERICS-REMO2015\n",
      "GCM =  MPI-M-MPI-ESM-LR  RCM =  ICTP-RegCM4-6\n",
      "GCM =  MPI-M-MPI-ESM-LR  RCM =  KNMI-RACMO22E\n",
      "GCM =  MPI-M-MPI-ESM-LR  RCM =  MOHC-HadREM3-GA7-05\n",
      "GCM =  MPI-M-MPI-ESM-LR  RCM =  MPI-CSC-REMO2009\n",
      "GCM =  MPI-M-MPI-ESM-LR  RCM =  SMHI-RCA4\n",
      "GCM =  NCC-NorESM1-M  RCM =  CLMcom-ETH-COSMO-crCLIM-v1-1\n",
      "GCM =  NCC-NorESM1-M  RCM =  DMI-HIRHAM5\n",
      "GCM =  NCC-NorESM1-M  RCM =  GERICS-REMO2015\n",
      "GCM =  NCC-NorESM1-M  RCM =  IPSL-WRF381P\n",
      "GCM =  NCC-NorESM1-M  RCM =  KNMI-RACMO22E\n",
      "GCM =  NCC-NorESM1-M  RCM =  SMHI-RCA4\n",
      "GCM =  NOAA-GFDL-GFDL-ESM2G  RCM =  GERICS-REMO2015\n"
     ]
    }
   ],
   "source": [
    "from natsort import natsorted\n",
    "\n",
    "# -- Let's make a dictionary to specify the general request:\n",
    "req_dict  = dict(project = 'CORDEX',\n",
    "                 CORDEX_domain = 'EUR-11',\n",
    "                 frequency = 'daily',\n",
    "                 experiment = 'historical',\n",
    "                 period = '2000',\n",
    "                 variable = 'tas'\n",
    "               )\n",
    "\n",
    "# -- Do the initial request to retrieve all the possible results:\n",
    "req = ds(model = '*',\n",
    "         driving_model = '*',\n",
    "         realization = '*',\n",
    "         **req_dict)\n",
    "\n",
    "# -- We will now:\n",
    "#      - make a loop on all the available 'driving_model' (GCMs)\n",
    "#      - for each driving_model, we check the model (RCMs) available\n",
    "#      - and for each GCM/RCM couple, we check the available realizations\n",
    "#      - store all the matching datasets in myens_dict\n",
    "#      - and create the ensemble with cens \n",
    "myens_dict = dict()\n",
    "for GCM in req.explore('choices')['driving_model']:\n",
    "    dumreq = ds(model='*',\n",
    "                realization = '*',\n",
    "                driving_model = GCM,\n",
    "                **req_dict)\n",
    "    RCMs = dumreq.explore('choices')['model']\n",
    "    if not isinstance(RCMs, list):\n",
    "        RCMs = [RCMs]\n",
    "    for RCM in RCMs:\n",
    "        dum2req = ds(model=RCM,\n",
    "                     driving_model = GCM,\n",
    "                     realization = '*',\n",
    "                     **req_dict)\n",
    "        print 'GCM = ',GCM,' RCM = ',RCM\n",
    "        res_choices = dum2req.explore('choices')\n",
    "        if res_choices:\n",
    "            # -- If multiple realizations are available, we take the first one\n",
    "            if isinstance(res_choices['realization'], list):\n",
    "                dum2req.kvp['realization'] = natsorted(dum2req.explore('choices')['realization'])[0]\n",
    "            myens_dict[GCM+'_'+RCM] = dum2req.explore('resolve')\n",
    "#\n",
    "my_CORDEX_ens = cens(myens_dict)"
   ]
  },
  {
   "cell_type": "code",
   "execution_count": 5,
   "metadata": {},
   "outputs": [],
   "source": [
    "clog('critical')"
   ]
  },
  {
   "cell_type": "code",
   "execution_count": 6,
   "metadata": {},
   "outputs": [
    {
     "name": "stdout",
     "output_type": "stream",
     "text": [
      "Keys - values:\n",
      "{'domain': 'global', 'experiment': 'historical', 'institute': 'SMHI', 'version': 'latest', 'period': 2000, 'simulation': '', 'project': 'CORDEX', 'model_version': 'v1', 'frequency': 'daily', 'driving_model': 'NCC-NorESM1-M', 'realization': 'r1i1p1', 'variable': 'tas', 'model': 'SMHI-RCA4', 'CORDEX_domain': 'EUR-11', 'root': '/bdd'}\n",
      "-- Ensemble members:\n",
      "CNRM-CERFACS-CNRM-CM5_CLMcom-CCLM4-8-17\n",
      "/bdd/CORDEX/output/EUR-11/CLMcom/CNRM-CERFACS-CNRM-CM5/historical/r1i1p1/CLMcom-CCLM4-8-17/v1/day/tas/latest/tas_EUR-11_CNRM-CERFACS-CNRM-CM5_historical_r1i1p1_CLMcom-CCLM4-8-17_v1_day_19960101-20001231.nc\n",
      "--\n",
      "CNRM-CERFACS-CNRM-CM5_CNRM-ALADIN53\n",
      "/bdd/CORDEX/output/EUR-11/CNRM/CNRM-CERFACS-CNRM-CM5/historical/r1i1p1/CNRM-ALADIN53/v1/day/tas/latest/tas_EUR-11_CNRM-CERFACS-CNRM-CM5_historical_r1i1p1_CNRM-ALADIN53_v1_day_19960101-20001231.nc\n",
      "--\n",
      "CNRM-CERFACS-CNRM-CM5_CNRM-ALADIN63\n",
      "/bdd/CORDEX/output/EUR-11/CNRM/CNRM-CERFACS-CNRM-CM5/historical/r1i1p1/CNRM-ALADIN63/v2/day/tas/latest/tas_EUR-11_CNRM-CERFACS-CNRM-CM5_historical_r1i1p1_CNRM-ALADIN63_v2_day_19960101-20001231.nc\n",
      "--\n",
      "CNRM-CERFACS-CNRM-CM5_DMI-HIRHAM5\n",
      "/bdd/CORDEX/output/EUR-11/DMI/CNRM-CERFACS-CNRM-CM5/historical/r1i1p1/DMI-HIRHAM5/v2/day/tas/latest/tas_EUR-11_CNRM-CERFACS-CNRM-CM5_historical_r1i1p1_DMI-HIRHAM5_v2_day_19960101-20001231.nc\n",
      "--\n",
      "CNRM-CERFACS-CNRM-CM5_IPSL-WRF381P\n",
      "/bdd/CORDEX/output/EUR-11/IPSL/CNRM-CERFACS-CNRM-CM5/historical/r1i1p1/IPSL-WRF381P/v2/day/tas/latest/tas_EUR-11_CNRM-CERFACS-CNRM-CM5_historical_r1i1p1_IPSL-WRF381P_v2_day_19960101-20001231.nc\n",
      "--\n",
      "CNRM-CERFACS-CNRM-CM5_KNMI-RACMO22E\n",
      "/bdd/CORDEX/output/EUR-11/KNMI/CNRM-CERFACS-CNRM-CM5/historical/r1i1p1/KNMI-RACMO22E/v2/day/tas/latest/tas_EUR-11_CNRM-CERFACS-CNRM-CM5_historical_r1i1p1_KNMI-RACMO22E_v2_day_19960101-20001231.nc\n",
      "--\n",
      "CNRM-CERFACS-CNRM-CM5_RMIB-UGent-ALARO-0\n",
      "/bdd/CORDEX/output/EUR-11/RMIB-UGent/CNRM-CERFACS-CNRM-CM5/historical/r1i1p1/RMIB-UGent-ALARO-0/v1/day/tas/latest/tas_EUR-11_CNRM-CERFACS-CNRM-CM5_historical_r1i1p1_RMIB-UGent-ALARO-0_v1_day_19960101-20001231.nc\n",
      "--\n",
      "CNRM-CERFACS-CNRM-CM5_SMHI-RCA4\n",
      "/bdd/CORDEX/output/EUR-11/SMHI/CNRM-CERFACS-CNRM-CM5/historical/r1i1p1/SMHI-RCA4/v1/day/tas/latest/tas_EUR-11_CNRM-CERFACS-CNRM-CM5_historical_r1i1p1_SMHI-RCA4_v1_day_19960101-20001231.nc\n",
      "--\n",
      "ICHEC-EC-EARTH_CLMcom-CCLM4-8-17\n",
      "/bdd/CORDEX/output/EUR-11/CLMcom/ICHEC-EC-EARTH/historical/r12i1p1/CLMcom-CCLM4-8-17/v1/day/tas/latest/tas_EUR-11_ICHEC-EC-EARTH_historical_r12i1p1_CLMcom-CCLM4-8-17_v1_day_19960101-20001231.nc\n",
      "--\n",
      "ICHEC-EC-EARTH_CLMcom-ETH-COSMO-crCLIM-v1-1\n",
      "/bdd/CORDEX/output/EUR-11/CLMcom-ETH/ICHEC-EC-EARTH/historical/r12i1p1/CLMcom-ETH-COSMO-crCLIM-v1-1/v1/day/tas/latest/tas_EUR-11_ICHEC-EC-EARTH_historical_r12i1p1_CLMcom-ETH-COSMO-crCLIM-v1-1_v1_day_19960101-20001231.nc\n",
      "--\n",
      "ICHEC-EC-EARTH_DMI-HIRHAM5\n",
      "/bdd/CORDEX/output/EUR-11/DMI/ICHEC-EC-EARTH/historical/r1i1p1/DMI-HIRHAM5/v1/day/tas/latest/tas_EUR-11_ICHEC-EC-EARTH_historical_r1i1p1_DMI-HIRHAM5_v1_day_19960101-20001231.nc\n",
      "--\n",
      "ICHEC-EC-EARTH_IPSL-WRF381P\n",
      "/bdd/CORDEX/output/EUR-11/IPSL/ICHEC-EC-EARTH/historical/r12i1p1/IPSL-WRF381P/v1/day/tas/latest/tas_EUR-11_ICHEC-EC-EARTH_historical_r12i1p1_IPSL-WRF381P_v1_day_19960101-20001231.nc\n",
      "--\n",
      "ICHEC-EC-EARTH_KNMI-RACMO22E\n",
      "/bdd/CORDEX/output/EUR-11/KNMI/ICHEC-EC-EARTH/historical/r1i1p1/KNMI-RACMO22E/v1/day/tas/latest/tas_EUR-11_ICHEC-EC-EARTH_historical_r1i1p1_KNMI-RACMO22E_v1_day_19960101-20001231.nc\n",
      "--\n",
      "ICHEC-EC-EARTH_MOHC-HadREM3-GA7-05\n",
      "/bdd/CORDEX/output/EUR-11/MOHC/ICHEC-EC-EARTH/historical/r12i1p1/MOHC-HadREM3-GA7-05/v1/day/tas/latest/tas_EUR-11_ICHEC-EC-EARTH_historical_r12i1p1_MOHC-HadREM3-GA7-05_v1_day_19960101-20001231.nc\n",
      "--\n",
      "ICHEC-EC-EARTH_SMHI-RCA4\n",
      "/bdd/CORDEX/output/EUR-11/SMHI/ICHEC-EC-EARTH/historical/r1i1p1/SMHI-RCA4/v1/day/tas/latest/tas_EUR-11_ICHEC-EC-EARTH_historical_r1i1p1_SMHI-RCA4_v1_day_19960101-20001231.nc\n",
      "--\n",
      "IPSL-IPSL-CM5A-LR_GERICS-REMO2015\n",
      "/bdd/CORDEX/output/EUR-11/GERICS/IPSL-IPSL-CM5A-LR/historical/r1i1p1/GERICS-REMO2015/v1/day/tas/latest/tas_EUR-11_IPSL-IPSL-CM5A-LR_historical_r1i1p1_GERICS-REMO2015_v1_day_19960101-20001231.nc\n",
      "--\n",
      "IPSL-IPSL-CM5A-MR_IPSL-WRF381P\n",
      "/bdd/CORDEX/output/EUR-11/IPSL/IPSL-IPSL-CM5A-MR/historical/r1i1p1/IPSL-WRF381P/v1/day/tas/latest/tas_EUR-11_IPSL-IPSL-CM5A-MR_historical_r1i1p1_IPSL-WRF381P_v1_day_19960101-20001231.nc\n",
      "--\n",
      "IPSL-IPSL-CM5A-MR_KNMI-RACMO22E\n",
      "/bdd/CORDEX/output/EUR-11/KNMI/IPSL-IPSL-CM5A-MR/historical/r1i1p1/KNMI-RACMO22E/v1/day/tas/latest/tas_EUR-11_IPSL-IPSL-CM5A-MR_historical_r1i1p1_KNMI-RACMO22E_v1_day_19960101-20001231.nc\n",
      "--\n",
      "IPSL-IPSL-CM5A-MR_SMHI-RCA4\n",
      "/bdd/CORDEX/output/EUR-11/SMHI/IPSL-IPSL-CM5A-MR/historical/r1i1p1/SMHI-RCA4/v1/day/tas/latest/tas_EUR-11_IPSL-IPSL-CM5A-MR_historical_r1i1p1_SMHI-RCA4_v1_day_19960101-20001231.nc\n",
      "--\n",
      "MOHC-HadGEM2-ES_CLMcom-CCLM4-8-17\n",
      "/bdd/CORDEX/output/EUR-11/CLMcom/MOHC-HadGEM2-ES/historical/r1i1p1/CLMcom-CCLM4-8-17/v1/day/tas/latest/tas_EUR-11_MOHC-HadGEM2-ES_historical_r1i1p1_CLMcom-CCLM4-8-17_v1_day_19960101-20001230.nc\n",
      "--\n",
      "MOHC-HadGEM2-ES_CLMcom-ETH-COSMO-crCLIM-v1-1\n",
      "/bdd/CORDEX/output/EUR-11/CLMcom-ETH/MOHC-HadGEM2-ES/historical/r1i1p1/CLMcom-ETH-COSMO-crCLIM-v1-1/v1/day/tas/latest/tas_EUR-11_MOHC-HadGEM2-ES_historical_r1i1p1_CLMcom-ETH-COSMO-crCLIM-v1-1_v1_day_19960101-20001230.nc\n",
      "--\n",
      "MOHC-HadGEM2-ES_CNRM-ALADIN63\n",
      "/bdd/CORDEX/output/EUR-11/CNRM/MOHC-HadGEM2-ES/historical/r1i1p1/CNRM-ALADIN63/v1/day/tas/latest/tas_EUR-11_MOHC-HadGEM2-ES_historical_r1i1p1_CNRM-ALADIN63_v1_day_19960101-20001231.nc\n",
      "--\n",
      "MOHC-HadGEM2-ES_DMI-HIRHAM5\n",
      "/bdd/CORDEX/output/EUR-11/DMI/MOHC-HadGEM2-ES/historical/r1i1p1/DMI-HIRHAM5/v2/day/tas/latest/tas_EUR-11_MOHC-HadGEM2-ES_historical_r1i1p1_DMI-HIRHAM5_v2_day_19960101-20001230.nc\n",
      "--\n",
      "MOHC-HadGEM2-ES_ICTP-RegCM4-6\n",
      "/bdd/CORDEX/output/EUR-11/ICTP/MOHC-HadGEM2-ES/historical/r1i1p1/ICTP-RegCM4-6/v1/day/tas/latest/tas_EUR-11_MOHC-HadGEM2-ES_historical_r1i1p1_ICTP-RegCM4-6_v1_day_19990101-20000101.nc\n",
      "/bdd/CORDEX/output/EUR-11/ICTP/MOHC-HadGEM2-ES/historical/r1i1p1/ICTP-RegCM4-6/v1/day/tas/latest/tas_EUR-11_MOHC-HadGEM2-ES_historical_r1i1p1_ICTP-RegCM4-6_v1_day_20000101-20010101.nc\n",
      "--\n",
      "MOHC-HadGEM2-ES_IPSL-WRF381P\n",
      "/bdd/CORDEX/output/EUR-11/IPSL/MOHC-HadGEM2-ES/historical/r1i1p1/IPSL-WRF381P/v1/day/tas/latest/tas_EUR-11_MOHC-HadGEM2-ES_historical_r1i1p1_IPSL-WRF381P_v1_day_19960101-20001231.nc\n",
      "--\n",
      "MOHC-HadGEM2-ES_KNMI-RACMO22E\n",
      "/bdd/CORDEX/output/EUR-11/KNMI/MOHC-HadGEM2-ES/historical/r1i1p1/KNMI-RACMO22E/v2/day/tas/latest/tas_EUR-11_MOHC-HadGEM2-ES_historical_r1i1p1_KNMI-RACMO22E_v2_day_19960101-20001230.nc\n",
      "--\n",
      "MOHC-HadGEM2-ES_MOHC-HadREM3-GA7-05\n",
      "/bdd/CORDEX/output/EUR-11/MOHC/MOHC-HadGEM2-ES/historical/r1i1p1/MOHC-HadREM3-GA7-05/v1/day/tas/latest/tas_EUR-11_MOHC-HadGEM2-ES_historical_r1i1p1_MOHC-HadREM3-GA7-05_v1_day_19960101-20001230.nc\n",
      "--\n",
      "MOHC-HadGEM2-ES_SMHI-RCA4\n",
      "/bdd/CORDEX/output/EUR-11/SMHI/MOHC-HadGEM2-ES/historical/r1i1p1/SMHI-RCA4/v1/day/tas/latest/tas_EUR-11_MOHC-HadGEM2-ES_historical_r1i1p1_SMHI-RCA4_v1_day_19960101-20001230.nc\n",
      "--\n",
      "MPI-M-MPI-ESM-LR_CLMcom-CCLM4-8-17\n",
      "/bdd/CORDEX/output/EUR-11/CLMcom/MPI-M-MPI-ESM-LR/historical/r1i1p1/CLMcom-CCLM4-8-17/v1/day/tas/latest/tas_EUR-11_MPI-M-MPI-ESM-LR_historical_r1i1p1_CLMcom-CCLM4-8-17_v1_day_19960101-20001231.nc\n",
      "--\n",
      "MPI-M-MPI-ESM-LR_CLMcom-ETH-COSMO-crCLIM-v1-1\n",
      "/bdd/CORDEX/output/EUR-11/CLMcom-ETH/MPI-M-MPI-ESM-LR/historical/r1i1p1/CLMcom-ETH-COSMO-crCLIM-v1-1/v1/day/tas/latest/tas_EUR-11_MPI-M-MPI-ESM-LR_historical_r1i1p1_CLMcom-ETH-COSMO-crCLIM-v1-1_v1_day_19960101-20001231.nc\n",
      "--\n",
      "MPI-M-MPI-ESM-LR_CNRM-ALADIN63\n",
      "/bdd/CORDEX/output/EUR-11/CNRM/MPI-M-MPI-ESM-LR/historical/r1i1p1/CNRM-ALADIN63/v1/day/tas/latest/tas_EUR-11_MPI-M-MPI-ESM-LR_historical_r1i1p1_CNRM-ALADIN63_v1_day_19960101-20001231.nc\n",
      "--\n",
      "MPI-M-MPI-ESM-LR_DMI-HIRHAM5\n",
      "/bdd/CORDEX/output/EUR-11/DMI/MPI-M-MPI-ESM-LR/historical/r1i1p1/DMI-HIRHAM5/v1/day/tas/latest/tas_EUR-11_MPI-M-MPI-ESM-LR_historical_r1i1p1_DMI-HIRHAM5_v1_day_19960101-20001231.nc\n",
      "--\n",
      "MPI-M-MPI-ESM-LR_GERICS-REMO2015\n",
      "/bdd/CORDEX/output/EUR-11/GERICS/MPI-M-MPI-ESM-LR/historical/r3i1p1/GERICS-REMO2015/v1/day/tas/latest/tas_EUR-11_MPI-M-MPI-ESM-LR_historical_r3i1p1_GERICS-REMO2015_v1_day_19960101-20001231.nc\n",
      "--\n",
      "MPI-M-MPI-ESM-LR_ICTP-RegCM4-6\n",
      "/bdd/CORDEX/output/EUR-11/ICTP/MPI-M-MPI-ESM-LR/historical/r1i1p1/ICTP-RegCM4-6/v1/day/tas/latest/tas_EUR-11_MPI-M-MPI-ESM-LR_historical_r1i1p1_ICTP-RegCM4-6_v1_day_19990101-20000101.nc\n",
      "/bdd/CORDEX/output/EUR-11/ICTP/MPI-M-MPI-ESM-LR/historical/r1i1p1/ICTP-RegCM4-6/v1/day/tas/latest/tas_EUR-11_MPI-M-MPI-ESM-LR_historical_r1i1p1_ICTP-RegCM4-6_v1_day_20000101-20010101.nc\n",
      "--\n",
      "MPI-M-MPI-ESM-LR_KNMI-RACMO22E\n"
     ]
    },
    {
     "name": "stdout",
     "output_type": "stream",
     "text": [
      "/bdd/CORDEX/output/EUR-11/KNMI/MPI-M-MPI-ESM-LR/historical/r1i1p1/KNMI-RACMO22E/v1/day/tas/latest/tas_EUR-11_MPI-M-MPI-ESM-LR_historical_r1i1p1_KNMI-RACMO22E_v1_day_19960101-20001231.nc\n",
      "--\n",
      "MPI-M-MPI-ESM-LR_MOHC-HadREM3-GA7-05\n",
      "/bdd/CORDEX/output/EUR-11/MOHC/MPI-M-MPI-ESM-LR/historical/r1i1p1/MOHC-HadREM3-GA7-05/v1/day/tas/latest/tas_EUR-11_MPI-M-MPI-ESM-LR_historical_r1i1p1_MOHC-HadREM3-GA7-05_v1_day_19960101-20001231.nc\n",
      "--\n",
      "MPI-M-MPI-ESM-LR_MPI-CSC-REMO2009\n",
      "/bdd/CORDEX/output/EUR-11/MPI-CSC/MPI-M-MPI-ESM-LR/historical/r1i1p1/MPI-CSC-REMO2009/v1/day/tas/latest/tas_EUR-11_MPI-M-MPI-ESM-LR_historical_r1i1p1_MPI-CSC-REMO2009_v1_day_19960101-20001231.nc\n",
      "--\n",
      "MPI-M-MPI-ESM-LR_SMHI-RCA4\n",
      "/bdd/CORDEX/output/EUR-11/SMHI/MPI-M-MPI-ESM-LR/historical/r1i1p1/SMHI-RCA4/v1a/day/tas/latest/tas_EUR-11_MPI-M-MPI-ESM-LR_historical_r1i1p1_SMHI-RCA4_v1a_day_19960101-20001231.nc\n",
      "--\n",
      "NCC-NorESM1-M_CLMcom-ETH-COSMO-crCLIM-v1-1\n",
      "/bdd/CORDEX/output/EUR-11/CLMcom-ETH/NCC-NorESM1-M/historical/r1i1p1/CLMcom-ETH-COSMO-crCLIM-v1-1/v1/day/tas/latest/tas_EUR-11_NCC-NorESM1-M_historical_r1i1p1_CLMcom-ETH-COSMO-crCLIM-v1-1_v1_day_19960101-20001231.nc\n",
      "--\n",
      "NCC-NorESM1-M_DMI-HIRHAM5\n",
      "/bdd/CORDEX/output/EUR-11/DMI/NCC-NorESM1-M/historical/r1i1p1/DMI-HIRHAM5/v3/day/tas/latest/tas_EUR-11_NCC-NorESM1-M_historical_r1i1p1_DMI-HIRHAM5_v3_day_19960101-20001231.nc\n",
      "--\n",
      "NCC-NorESM1-M_GERICS-REMO2015\n",
      "/bdd/CORDEX/output/EUR-11/GERICS/NCC-NorESM1-M/historical/r1i1p1/GERICS-REMO2015/v1/day/tas/latest/tas_EUR-11_NCC-NorESM1-M_historical_r1i1p1_GERICS-REMO2015_v1_day_19960101-20001231.nc\n",
      "--\n",
      "NCC-NorESM1-M_IPSL-WRF381P\n",
      "/bdd/CORDEX/output/EUR-11/IPSL/NCC-NorESM1-M/historical/r1i1p1/IPSL-WRF381P/v1/day/tas/latest/tas_EUR-11_NCC-NorESM1-M_historical_r1i1p1_IPSL-WRF381P_v1_day_19960101-20001231.nc\n",
      "--\n",
      "NCC-NorESM1-M_KNMI-RACMO22E\n",
      "/bdd/CORDEX/output/EUR-11/KNMI/NCC-NorESM1-M/historical/r1i1p1/KNMI-RACMO22E/v1/day/tas/latest/tas_EUR-11_NCC-NorESM1-M_historical_r1i1p1_KNMI-RACMO22E_v1_day_19960101-20001231.nc\n",
      "--\n",
      "NCC-NorESM1-M_SMHI-RCA4\n",
      "/bdd/CORDEX/output/EUR-11/SMHI/NCC-NorESM1-M/historical/r1i1p1/SMHI-RCA4/v1/day/tas/latest/tas_EUR-11_NCC-NorESM1-M_historical_r1i1p1_SMHI-RCA4_v1_day_19960101-20001231.nc\n",
      "--\n",
      "NOAA-GFDL-GFDL-ESM2G_GERICS-REMO2015\n",
      "/bdd/CORDEX/output/EUR-11/GERICS/NOAA-GFDL-GFDL-ESM2G/historical/r1i1p1/GERICS-REMO2015/v1/day/tas/latest/tas_EUR-11_NOAA-GFDL-GFDL-ESM2G_historical_r1i1p1_GERICS-REMO2015_v1_day_19960101-20001231.nc\n",
      "--\n"
     ]
    }
   ],
   "source": [
    "summary(my_CORDEX_ens)"
   ]
  },
  {
   "cell_type": "markdown",
   "metadata": {},
   "source": [
    "## 2. Access the mask and land/area fraction sftlf: r0i0p0 and fx"
   ]
  },
  {
   "cell_type": "code",
   "execution_count": 7,
   "metadata": {},
   "outputs": [],
   "source": [
    "from climaf.api import *"
   ]
  },
  {
   "cell_type": "code",
   "execution_count": 8,
   "metadata": {},
   "outputs": [
    {
     "data": {
      "text/plain": [
       "{'driving_model': ['CNRM-CERFACS-CNRM-CM5',\n",
       "  'ECMWF-ERAINT',\n",
       "  'ICHEC-EC-EARTH',\n",
       "  'IPSL-IPSL-CM5A-LR',\n",
       "  'IPSL-IPSL-CM5A-MR',\n",
       "  'MIROC-MIROC5',\n",
       "  'MOHC-HadGEM2-ES',\n",
       "  'MPI-M-MPI-ESM-LR',\n",
       "  'NCC-NorESM1-M',\n",
       "  'NOAA-GFDL-GFDL-ESM2G'],\n",
       " 'experiment': ['evaluation', 'historical', 'rcp26', 'rcp45', 'rcp85'],\n",
       " 'institute': ['CLMcom', 'CLMcom-ETH', 'GERICS', 'MPI-CSC', 'SMHI', 'UHOH'],\n",
       " 'model': ['CLMcom-CCLM4-8-17',\n",
       "  'CLMcom-ETH-COSMO-crCLIM-v1-1',\n",
       "  'GERICS-REMO2015',\n",
       "  'MPI-CSC-REMO2009',\n",
       "  'SMHI-RCA4',\n",
       "  'UHOH-WRF361H'],\n",
       " 'model_version': ['v1', 'v1a']}"
      ]
     },
     "execution_count": 8,
     "metadata": {},
     "output_type": "execute_result"
    }
   ],
   "source": [
    "req_dict  = dict(project = 'CORDEX',\n",
    "                 CORDEX_domain = 'EUR-11',\n",
    "                 frequency = 'fx',\n",
    "                 experiment = '*',\n",
    "                 period = 'fx',\n",
    "                 realization = 'r0i0p0',\n",
    "                 variable = 'sftlf'\n",
    "               )\n",
    "\n",
    "# -- Do the initial request to retrieve all the possible results:\n",
    "req = ds(model = '*',\n",
    "         driving_model = '*',\n",
    "         **req_dict)\n",
    "\n",
    "req.explore('choices')"
   ]
  },
  {
   "cell_type": "markdown",
   "metadata": {},
   "source": [
    "### And of course, you can apply all the pretreatments you want to the members of your ensemble before getting your list of files.\n",
    "For the available operators, we invite you to go deeper in CliMAF documentation and other CliMAF notebooks.\n"
   ]
  },
  {
   "cell_type": "markdown",
   "metadata": {},
   "source": [
    "#   \n",
    "## This was how to work with CliMAF ensembles!\n",
    "##  \n",
    "##  "
   ]
  }
 ],
 "metadata": {
  "kernelspec": {
   "display_name": "Python 2",
   "language": "python",
   "name": "python2"
  },
  "language_info": {
   "codemirror_mode": {
    "name": "ipython",
    "version": 2
   },
   "file_extension": ".py",
   "mimetype": "text/x-python",
   "name": "python",
   "nbconvert_exporter": "python",
   "pygments_lexer": "ipython2",
   "version": "2.7.15"
  }
 },
 "nbformat": 4,
 "nbformat_minor": 2
}
