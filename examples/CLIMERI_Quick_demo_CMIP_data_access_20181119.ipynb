{
 "cells": [
  {
   "cell_type": "code",
   "execution_count": 1,
   "metadata": {},
   "outputs": [
    {
     "data": {
      "text/html": [
       "<img src=\"https://vesg.ipsl.upmc.fr/thredds/fileServer/IPSLFS/jservon/CliMAF_Notebooks_html/CliMAF-logo-small.png\"/>"
      ],
      "text/plain": [
       "<IPython.core.display.Image object>"
      ]
     },
     "execution_count": 1,
     "metadata": {},
     "output_type": "execute_result"
    }
   ],
   "source": [
    "from IPython.display import Image\n",
    "Image(url='https://vesg.ipsl.upmc.fr/thredds/fileServer/IPSLFS/jservon/CliMAF_Notebooks_html/CliMAF-logo-small.png') "
   ]
  },
  {
   "cell_type": "markdown",
   "metadata": {},
   "source": [
    "# Import CliMAF"
   ]
  },
  {
   "cell_type": "code",
   "execution_count": 1,
   "metadata": {},
   "outputs": [
    {
     "name": "stdout",
     "output_type": "stream",
     "text": [
      "('LC debug :', False)\n",
      "CliMAF install => /ciclad-home/jservon/Evaluation/CliMAF/climaf_installs/climaf_gr_V1.2.13\n",
      "python => /prodigfs/ipslfs/dods/jservon/miniconda/envs/analyse_env_2.7/bin/python\n",
      "---\n",
      "Required softwares to run CliMAF => you are using the following versions/installations:\n",
      "ncl 6.6.2 => /prodigfs/ipslfs/dods/jservon/miniconda/envs/analyse_env_2.7/bin/ncl\n"
     ]
    },
    {
     "name": "stderr",
     "output_type": "stream",
     "text": [
      "CliMAF version = 1.2.13\n"
     ]
    },
    {
     "name": "stdout",
     "output_type": "stream",
     "text": [
      "cdo 1.9.6 => /opt/nco/1.9/bin/cdo\n",
      "nco (ncks) 4.5.2 => /opt/nco-4.5.2/bin/ncks\n",
      "ncdump fichier => /prodigfs/ipslfs/dods/jservon/miniconda/envs/analyse_env_2.7/bin/ncdump\n",
      "---\n"
     ]
    },
    {
     "name": "stderr",
     "output_type": "stream",
     "text": [
      "Cache directory set to : /data/jservon/climafcache (use $CLIMAF_CACHE if set) \n",
      "Cache directory for remote data set to : /data/jservon/climafcache/remote_data (use $CLIMAF_REMOTE_CACHE if set) \n",
      "Available macros read from ~/.climaf.macros are : []\n"
     ]
    }
   ],
   "source": [
    "from climaf.api import *"
   ]
  },
  {
   "cell_type": "markdown",
   "metadata": {},
   "source": [
    "# We will work on CMIP5, CMIP6, and IPSLCM6 simulations\n",
    "#  "
   ]
  },
  {
   "cell_type": "markdown",
   "metadata": {},
   "source": [
    "## Let's start with CMIP5 simulations"
   ]
  },
  {
   "cell_type": "code",
   "execution_count": 2,
   "metadata": {},
   "outputs": [
    {
     "name": "stdout",
     "output_type": "stream",
     "text": [
      "/bdd/CMIP5/output/CNRM-CERFACS/CNRM-CM5/historical/mon/ocean/Omon/r1i1p1/latest/tos/tos_Omon_CNRM-CM5_historical_r1i1p1_198001-198912.nc\n",
      "/bdd/CMIP5/output/CNRM-CERFACS/CNRM-CM5/historical/mon/ocean/Omon/r1i1p1/latest/tos/tos_Omon_CNRM-CM5_historical_r1i1p1_199001-199912.nc\n",
      "/bdd/CMIP5/output/CNRM-CERFACS/CNRM-CM5/historical/mon/ocean/Omon/r1i1p1/latest/tos/tos_Omon_CNRM-CM5_historical_r1i1p1_200001-200512.nc\n"
     ]
    },
    {
     "data": {
      "text/plain": [
       "{'domain': 'global',\n",
       " 'experiment': 'historical',\n",
       " 'frequency': 'monthly',\n",
       " 'model': 'CNRM-CM5',\n",
       " 'period': 1980-2000,\n",
       " 'project': 'CMIP5',\n",
       " 'realization': 'r1i1p1',\n",
       " 'realm': '*',\n",
       " 'root': '/bdd',\n",
       " 'simulation': '',\n",
       " 'table': '*',\n",
       " 'variable': 'tos',\n",
       " 'version': 'latest'}"
      ]
     },
     "execution_count": 2,
     "metadata": {},
     "output_type": "execute_result"
    }
   ],
   "source": [
    "# -- We use ds() to get the dataset\n",
    "dat_cmip5 = ds(project='CMIP5',\n",
    "               model='CNRM-CM5',\n",
    "               variable='tos',\n",
    "               experiment='historical',\n",
    "               period='1980-2000',\n",
    "               frequency='monthly',\n",
    "               )\n",
    "summary(dat_cmip5)\n",
    "# -- summary() gives the list of files found by ds() and the pairs 'facets':'values' associated with the request\n",
    "# -> The user can then refine the request to select only one file"
   ]
  },
  {
   "cell_type": "markdown",
   "metadata": {},
   "source": [
    "## Note that eventually dat_cmip5 has to point only to one simulation!\n",
    "#  "
   ]
  },
  {
   "cell_type": "markdown",
   "metadata": {},
   "source": [
    "### Get the values matching the wildcards '*'\n",
    "### This great new functionality: dat.explore !!\n",
    "https://climaf.readthedocs.io/en/master/functions_data.html#cdataset-explore-explore-data-and-periods-and-match-joker-attributes"
   ]
  },
  {
   "cell_type": "code",
   "execution_count": 3,
   "metadata": {},
   "outputs": [
    {
     "data": {
      "text/plain": [
       "{'realm': 'ocean', 'table': 'Omon'}"
      ]
     },
     "execution_count": 3,
     "metadata": {},
     "output_type": "execute_result"
    }
   ],
   "source": [
    "dat_cmip5.explore('choices')"
   ]
  },
  {
   "cell_type": "markdown",
   "metadata": {},
   "source": [
    "### We have only value one by keyword: automatically complete the keywords/pairs values with explore('resolve')\n",
    "Not mandatory but highly recommanded"
   ]
  },
  {
   "cell_type": "code",
   "execution_count": 4,
   "metadata": {},
   "outputs": [
    {
     "data": {
      "text/plain": [
       "{'domain': 'global',\n",
       " 'experiment': 'historical',\n",
       " 'frequency': 'monthly',\n",
       " 'model': 'CNRM-CM5',\n",
       " 'period': 1980-2000,\n",
       " 'project': 'CMIP5',\n",
       " 'realization': 'r1i1p1',\n",
       " 'realm': 'ocean',\n",
       " 'root': '/bdd',\n",
       " 'simulation': '',\n",
       " 'table': 'Omon',\n",
       " 'variable': 'tos',\n",
       " 'version': 'latest'}"
      ]
     },
     "execution_count": 4,
     "metadata": {},
     "output_type": "execute_result"
    }
   ],
   "source": [
    "ok_dat_cmip5 = dat_cmip5.explore('resolve')\n",
    "ok_dat_cmip5.kvp"
   ]
  },
  {
   "cell_type": "markdown",
   "metadata": {},
   "source": [
    "## Automatic selection of the available period: the full available period, or the last XX years!"
   ]
  },
  {
   "cell_type": "code",
   "execution_count": 5,
   "metadata": {},
   "outputs": [
    {
     "name": "stdout",
     "output_type": "stream",
     "text": [
      "/bdd/CMIP5/output/CNRM-CERFACS/CNRM-CM5/historical/mon/ocean/Omon/r1i1p1/latest/tos/tos_Omon_CNRM-CM5_historical_r1i1p1_199001-199912.nc\n",
      "/bdd/CMIP5/output/CNRM-CERFACS/CNRM-CM5/historical/mon/ocean/Omon/r1i1p1/latest/tos/tos_Omon_CNRM-CM5_historical_r1i1p1_200001-200512.nc\n"
     ]
    },
    {
     "data": {
      "text/plain": [
       "{'domain': 'global',\n",
       " 'experiment': 'historical',\n",
       " 'frequency': 'monthly',\n",
       " 'model': 'CNRM-CM5',\n",
       " 'period': 1996-2005,\n",
       " 'project': 'CMIP5',\n",
       " 'realization': 'r1i1p1',\n",
       " 'realm': 'ocean',\n",
       " 'root': '/bdd',\n",
       " 'simulation': '',\n",
       " 'table': 'Omon',\n",
       " 'variable': 'tos',\n",
       " 'version': 'latest'}"
      ]
     },
     "execution_count": 5,
     "metadata": {},
     "output_type": "execute_result"
    }
   ],
   "source": [
    "# -- We use ds() to get the dataset\n",
    "dat_cmip5 = ds(project='CMIP5',\n",
    "               model='CNRM-CM5',\n",
    "               variable='tos',\n",
    "               experiment='historical',\n",
    "               period='last_10Y',\n",
    "               frequency='monthly',\n",
    "               )\n",
    "summary(dat_cmip5)"
   ]
  },
  {
   "cell_type": "code",
   "execution_count": 6,
   "metadata": {},
   "outputs": [
    {
     "name": "stdout",
     "output_type": "stream",
     "text": [
      "/bdd/CMIP5/output/CNRM-CERFACS/CNRM-CM5/historical/mon/ocean/Omon/r1i1p1/latest/tos/tos_Omon_CNRM-CM5_historical_r1i1p1_185001-185912.nc\n",
      "/bdd/CMIP5/output/CNRM-CERFACS/CNRM-CM5/historical/mon/ocean/Omon/r1i1p1/latest/tos/tos_Omon_CNRM-CM5_historical_r1i1p1_186001-186912.nc\n",
      "/bdd/CMIP5/output/CNRM-CERFACS/CNRM-CM5/historical/mon/ocean/Omon/r1i1p1/latest/tos/tos_Omon_CNRM-CM5_historical_r1i1p1_187001-187912.nc\n",
      "/bdd/CMIP5/output/CNRM-CERFACS/CNRM-CM5/historical/mon/ocean/Omon/r1i1p1/latest/tos/tos_Omon_CNRM-CM5_historical_r1i1p1_188001-188912.nc\n",
      "/bdd/CMIP5/output/CNRM-CERFACS/CNRM-CM5/historical/mon/ocean/Omon/r1i1p1/latest/tos/tos_Omon_CNRM-CM5_historical_r1i1p1_189001-189912.nc\n",
      "/bdd/CMIP5/output/CNRM-CERFACS/CNRM-CM5/historical/mon/ocean/Omon/r1i1p1/latest/tos/tos_Omon_CNRM-CM5_historical_r1i1p1_190001-190912.nc\n",
      "/bdd/CMIP5/output/CNRM-CERFACS/CNRM-CM5/historical/mon/ocean/Omon/r1i1p1/latest/tos/tos_Omon_CNRM-CM5_historical_r1i1p1_191001-191912.nc\n",
      "/bdd/CMIP5/output/CNRM-CERFACS/CNRM-CM5/historical/mon/ocean/Omon/r1i1p1/latest/tos/tos_Omon_CNRM-CM5_historical_r1i1p1_192001-192912.nc\n",
      "/bdd/CMIP5/output/CNRM-CERFACS/CNRM-CM5/historical/mon/ocean/Omon/r1i1p1/latest/tos/tos_Omon_CNRM-CM5_historical_r1i1p1_193001-193912.nc\n",
      "/bdd/CMIP5/output/CNRM-CERFACS/CNRM-CM5/historical/mon/ocean/Omon/r1i1p1/latest/tos/tos_Omon_CNRM-CM5_historical_r1i1p1_194001-194912.nc\n",
      "/bdd/CMIP5/output/CNRM-CERFACS/CNRM-CM5/historical/mon/ocean/Omon/r1i1p1/latest/tos/tos_Omon_CNRM-CM5_historical_r1i1p1_195001-195912.nc\n",
      "/bdd/CMIP5/output/CNRM-CERFACS/CNRM-CM5/historical/mon/ocean/Omon/r1i1p1/latest/tos/tos_Omon_CNRM-CM5_historical_r1i1p1_196001-196912.nc\n",
      "/bdd/CMIP5/output/CNRM-CERFACS/CNRM-CM5/historical/mon/ocean/Omon/r1i1p1/latest/tos/tos_Omon_CNRM-CM5_historical_r1i1p1_197001-197912.nc\n",
      "/bdd/CMIP5/output/CNRM-CERFACS/CNRM-CM5/historical/mon/ocean/Omon/r1i1p1/latest/tos/tos_Omon_CNRM-CM5_historical_r1i1p1_198001-198912.nc\n",
      "/bdd/CMIP5/output/CNRM-CERFACS/CNRM-CM5/historical/mon/ocean/Omon/r1i1p1/latest/tos/tos_Omon_CNRM-CM5_historical_r1i1p1_199001-199912.nc\n",
      "/bdd/CMIP5/output/CNRM-CERFACS/CNRM-CM5/historical/mon/ocean/Omon/r1i1p1/latest/tos/tos_Omon_CNRM-CM5_historical_r1i1p1_200001-200512.nc\n"
     ]
    },
    {
     "data": {
      "text/plain": [
       "{'domain': 'global',\n",
       " 'experiment': 'historical',\n",
       " 'frequency': 'monthly',\n",
       " 'model': 'CNRM-CM5',\n",
       " 'period': '*',\n",
       " 'project': 'CMIP5',\n",
       " 'realization': 'r1i1p1',\n",
       " 'realm': '*',\n",
       " 'root': '/bdd',\n",
       " 'simulation': '',\n",
       " 'table': '*',\n",
       " 'variable': 'tos',\n",
       " 'version': 'latest'}"
      ]
     },
     "execution_count": 6,
     "metadata": {},
     "output_type": "execute_result"
    }
   ],
   "source": [
    "# -- Full period\n",
    "# -- We use ds() to get the dataset\n",
    "dat_cmip5 = ds(project='CMIP5',\n",
    "               model='CNRM-CM5',\n",
    "               variable='tos',\n",
    "               experiment='historical',\n",
    "               period='*',\n",
    "               frequency='monthly',\n",
    "               )\n",
    "summary(dat_cmip5)"
   ]
  },
  {
   "cell_type": "markdown",
   "metadata": {},
   "source": [
    "## I want to actually get the netcdf file that corresponds to my request:\n",
    "#### CliMAF provides automatically a path/filename based on the path to the CliMAF cache and a hash of the CliMAF expression (sequence of CliMAF operations that lead to the result)"
   ]
  },
  {
   "cell_type": "code",
   "execution_count": 7,
   "metadata": {},
   "outputs": [
    {
     "data": {
      "text/plain": [
       "'/data/jservon/climafcache/37058/f85b8/7d045/cba03/c7356/16649/8c6a4/6adf8/78ac1/b863c/4aad0/a.nc'"
      ]
     },
     "execution_count": 7,
     "metadata": {},
     "output_type": "execute_result"
    }
   ],
   "source": [
    "cfile(ok_dat_cmip5)"
   ]
  },
  {
   "cell_type": "markdown",
   "metadata": {},
   "source": [
    "### Now that my file is in the cache, if I ask for the result of the same object, CliMAF will scan the cache and directly return the file corresponding to the sequence of operations; if it's not in the cache, it will execute it "
   ]
  },
  {
   "cell_type": "markdown",
   "metadata": {},
   "source": [
    "## Working now on an ensemble: I want the same request, but for all the models available on the CMIP5 archive at CLIMERI\n",
    "### model='*'"
   ]
  },
  {
   "cell_type": "code",
   "execution_count": 7,
   "metadata": {},
   "outputs": [],
   "source": [
    "req_cmip5 = ds(project='CMIP5',\n",
    "               model='*',\n",
    "               variable='tos',\n",
    "               experiment='historical',\n",
    "               period='1980-2000',\n",
    "               frequency='monthly',\n",
    "               version='latest'\n",
    "               )\n"
   ]
  },
  {
   "cell_type": "markdown",
   "metadata": {},
   "source": [
    "### With explore('choices'), I can check what CliMAF found:"
   ]
  },
  {
   "cell_type": "code",
   "execution_count": 8,
   "metadata": {},
   "outputs": [
    {
     "data": {
      "text/plain": [
       "{'model': ['ACCESS1-0',\n",
       "  'ACCESS1-3',\n",
       "  'BNU-ESM',\n",
       "  'CCSM4',\n",
       "  'CESM1-BGC',\n",
       "  'CESM1-CAM5',\n",
       "  'CESM1-CAM5-1-FV2',\n",
       "  'CESM1-FASTCHEM',\n",
       "  'CESM1-WACCM',\n",
       "  'CMCC-CESM',\n",
       "  'CMCC-CM',\n",
       "  'CMCC-CMS',\n",
       "  'CNRM-CM5',\n",
       "  'CNRM-CM5-2',\n",
       "  'CSIRO-Mk3-6-0',\n",
       "  'CanCM4',\n",
       "  'CanESM2',\n",
       "  'EC-EARTH',\n",
       "  'FGOALS-g2',\n",
       "  'FGOALS-s2',\n",
       "  'GFDL-CM2p1',\n",
       "  'GFDL-CM3',\n",
       "  'GFDL-ESM2G',\n",
       "  'GFDL-ESM2M',\n",
       "  'GISS-E2-H',\n",
       "  'GISS-E2-H-CC',\n",
       "  'GISS-E2-R',\n",
       "  'GISS-E2-R-CC',\n",
       "  'HadCM3',\n",
       "  'HadGEM2-AO',\n",
       "  'HadGEM2-CC',\n",
       "  'HadGEM2-ES',\n",
       "  'IPSL-CM5A-LR',\n",
       "  'IPSL-CM5A-MR',\n",
       "  'IPSL-CM5B-LR',\n",
       "  'MIROC-ESM',\n",
       "  'MIROC-ESM-CHEM',\n",
       "  'MIROC5',\n",
       "  'MPI-ESM-LR',\n",
       "  'MPI-ESM-MR',\n",
       "  'MPI-ESM-P',\n",
       "  'MRI-CGCM3',\n",
       "  'MRI-ESM1',\n",
       "  'NorESM1-M',\n",
       "  'NorESM1-ME',\n",
       "  'bcc-csm1-1',\n",
       "  'bcc-csm1-1-m',\n",
       "  'inmcm4'],\n",
       " 'realm': 'ocean',\n",
       " 'table': 'Omon'}"
      ]
     },
     "execution_count": 8,
     "metadata": {},
     "output_type": "execute_result"
    }
   ],
   "source": [
    "req_cmip5.explore('choices')"
   ]
  },
  {
   "cell_type": "markdown",
   "metadata": {},
   "source": [
    "### And directly build an ensemble from it with explore('ensemble'):"
   ]
  },
  {
   "cell_type": "code",
   "execution_count": 9,
   "metadata": {},
   "outputs": [],
   "source": [
    "ens_cmip5 = req_cmip5.explore('ensemble')"
   ]
  },
  {
   "cell_type": "markdown",
   "metadata": {},
   "source": [
    "### With summary I can check the files behind the request of each member:"
   ]
  },
  {
   "cell_type": "code",
   "execution_count": 10,
   "metadata": {},
   "outputs": [
    {
     "name": "stdout",
     "output_type": "stream",
     "text": [
      "Keys - values:\n",
      "{'domain': 'global', 'realm': 'ocean', 'version': 'latest', 'period': 1980-2000, 'simulation': '', 'project': 'CMIP5', 'experiment': 'historical', 'frequency': 'monthly', 'realization': 'r1i1p1', 'variable': 'tos', 'table': 'Omon', 'model': 'ACCESS1-0', 'root': '/bdd'}\n",
      "-- Ensemble members:\n",
      "ACCESS1-0\n",
      "/bdd/CMIP5/output/CSIRO-BOM/ACCESS1-0/historical/mon/ocean/Omon/r1i1p1/latest/tos/tos_Omon_ACCESS1-0_historical_r1i1p1_185001-200512.nc\n",
      "--\n",
      "ACCESS1-3\n",
      "/bdd/CMIP5/output/CSIRO-BOM/ACCESS1-3/historical/mon/ocean/Omon/r1i1p1/latest/tos/tos_Omon_ACCESS1-3_historical_r1i1p1_185001-200512.nc\n",
      "--\n",
      "BNU-ESM\n",
      "/bdd/CMIP5/output/BNU/BNU-ESM/historical/mon/ocean/Omon/r1i1p1/latest/tos/tos_Omon_BNU-ESM_historical_r1i1p1_185001-200512.nc\n",
      "--\n",
      "CCSM4\n",
      "/bdd/CMIP5/output/NCAR/CCSM4/historical/mon/ocean/Omon/r1i1p1/latest/tos/tos_Omon_CCSM4_historical_r1i1p1_185001-200512.nc\n",
      "--\n",
      "CESM1-BGC\n",
      "/bdd/CMIP5/output/NSF-DOE-NCAR/CESM1-BGC/historical/mon/ocean/Omon/r1i1p1/latest/tos/tos_Omon_CESM1-BGC_historical_r1i1p1_185001-200512.nc\n",
      "--\n",
      "CESM1-CAM5\n",
      "/bdd/CMIP5/output/NSF-DOE-NCAR/CESM1-CAM5/historical/mon/ocean/Omon/r1i1p1/latest/tos/tos_Omon_CESM1-CAM5_historical_r1i1p1_185001-200512.nc\n",
      "--\n",
      "CESM1-CAM5-1-FV2\n",
      "/bdd/CMIP5/output/NSF-DOE-NCAR/CESM1-CAM5-1-FV2/historical/mon/ocean/Omon/r1i1p1/latest/tos/tos_Omon_CESM1-CAM5-1-FV2_historical_r1i1p1_185001-200512.nc\n",
      "--\n",
      "CESM1-FASTCHEM\n",
      "/bdd/CMIP5/output/NSF-DOE-NCAR/CESM1-FASTCHEM/historical/mon/ocean/Omon/r1i1p1/latest/tos/tos_Omon_CESM1-FASTCHEM_historical_r1i1p1_185001-200512.nc\n",
      "--\n",
      "CESM1-WACCM\n",
      "/bdd/CMIP5/output/NSF-DOE-NCAR/CESM1-WACCM/historical/mon/ocean/Omon/r1i1p1/latest/tos/tos_Omon_CESM1-WACCM_historical_r1i1p1_185001-200512.nc\n",
      "--\n",
      "CMCC-CESM\n",
      "/bdd/CMIP5/output/CMCC/CMCC-CESM/historical/mon/ocean/Omon/r1i1p1/latest/tos/tos_Omon_CMCC-CESM_historical_r1i1p1_197601-198112.nc\n",
      "/bdd/CMIP5/output/CMCC/CMCC-CESM/historical/mon/ocean/Omon/r1i1p1/latest/tos/tos_Omon_CMCC-CESM_historical_r1i1p1_198201-198712.nc\n",
      "/bdd/CMIP5/output/CMCC/CMCC-CESM/historical/mon/ocean/Omon/r1i1p1/latest/tos/tos_Omon_CMCC-CESM_historical_r1i1p1_198801-199312.nc\n",
      "/bdd/CMIP5/output/CMCC/CMCC-CESM/historical/mon/ocean/Omon/r1i1p1/latest/tos/tos_Omon_CMCC-CESM_historical_r1i1p1_199401-199912.nc\n",
      "/bdd/CMIP5/output/CMCC/CMCC-CESM/historical/mon/ocean/Omon/r1i1p1/latest/tos/tos_Omon_CMCC-CESM_historical_r1i1p1_200001-200512.nc\n",
      "--\n",
      "CMCC-CM\n",
      "/bdd/CMIP5/output/CMCC/CMCC-CM/historical/mon/ocean/Omon/r1i1p1/latest/tos/tos_Omon_CMCC-CM_historical_r1i1p1_198001-198912.nc\n",
      "/bdd/CMIP5/output/CMCC/CMCC-CM/historical/mon/ocean/Omon/r1i1p1/latest/tos/tos_Omon_CMCC-CM_historical_r1i1p1_199001-199912.nc\n",
      "/bdd/CMIP5/output/CMCC/CMCC-CM/historical/mon/ocean/Omon/r1i1p1/latest/tos/tos_Omon_CMCC-CM_historical_r1i1p1_200001-200512.nc\n",
      "--\n",
      "CMCC-CMS\n",
      "/bdd/CMIP5/output/CMCC/CMCC-CMS/historical/mon/ocean/Omon/r1i1p1/latest/tos/tos_Omon_CMCC-CMS_historical_r1i1p1_198001-198912.nc\n",
      "/bdd/CMIP5/output/CMCC/CMCC-CMS/historical/mon/ocean/Omon/r1i1p1/latest/tos/tos_Omon_CMCC-CMS_historical_r1i1p1_199001-199912.nc\n",
      "/bdd/CMIP5/output/CMCC/CMCC-CMS/historical/mon/ocean/Omon/r1i1p1/latest/tos/tos_Omon_CMCC-CMS_historical_r1i1p1_200001-200512.nc\n",
      "--\n",
      "CNRM-CM5\n",
      "/bdd/CMIP5/output/CNRM-CERFACS/CNRM-CM5/historical/mon/ocean/Omon/r1i1p1/latest/tos/tos_Omon_CNRM-CM5_historical_r1i1p1_198001-198912.nc\n",
      "/bdd/CMIP5/output/CNRM-CERFACS/CNRM-CM5/historical/mon/ocean/Omon/r1i1p1/latest/tos/tos_Omon_CNRM-CM5_historical_r1i1p1_199001-199912.nc\n",
      "/bdd/CMIP5/output/CNRM-CERFACS/CNRM-CM5/historical/mon/ocean/Omon/r1i1p1/latest/tos/tos_Omon_CNRM-CM5_historical_r1i1p1_200001-200512.nc\n",
      "--\n",
      "CNRM-CM5-2\n",
      "/bdd/CMIP5/output/CNRM-CERFACS/CNRM-CM5-2/historical/mon/ocean/Omon/r1i1p1/latest/tos/tos_Omon_CNRM-CM5-2_historical_r1i1p1_198001-198912.nc\n",
      "/bdd/CMIP5/output/CNRM-CERFACS/CNRM-CM5-2/historical/mon/ocean/Omon/r1i1p1/latest/tos/tos_Omon_CNRM-CM5-2_historical_r1i1p1_199001-199912.nc\n",
      "/bdd/CMIP5/output/CNRM-CERFACS/CNRM-CM5-2/historical/mon/ocean/Omon/r1i1p1/latest/tos/tos_Omon_CNRM-CM5-2_historical_r1i1p1_200001-200512.nc\n",
      "--\n",
      "CSIRO-Mk3-6-0\n",
      "/bdd/CMIP5/output/CSIRO-QCCCE/CSIRO-Mk3-6-0/historical/mon/ocean/Omon/r1i1p1/latest/tos/tos_Omon_CSIRO-Mk3-6-0_historical_r1i1p1_185001-200512.nc\n",
      "--\n",
      "CanCM4\n",
      "/bdd/CMIP5/output/CCCma/CanCM4/historical/mon/ocean/Omon/r1i1p1/latest/tos/tos_Omon_CanCM4_historical_r1i1p1_196101-200512.nc\n",
      "--\n",
      "CanESM2\n",
      "/bdd/CMIP5/output/CCCma/CanESM2/historical/mon/ocean/Omon/r1i1p1/latest/tos/tos_Omon_CanESM2_historical_r1i1p1_185001-200512.nc\n",
      "--\n",
      "EC-EARTH\n",
      "/bdd/CMIP5/output/ICHEC/EC-EARTH/historical/mon/ocean/Omon/r1i1p1/latest/tos/tos_Omon_EC-EARTH_historical_r1i1p1_198001-198912.nc\n",
      "/bdd/CMIP5/output/ICHEC/EC-EARTH/historical/mon/ocean/Omon/r1i1p1/latest/tos/tos_Omon_EC-EARTH_historical_r1i1p1_199001-199912.nc\n",
      "/bdd/CMIP5/output/ICHEC/EC-EARTH/historical/mon/ocean/Omon/r1i1p1/latest/tos/tos_Omon_EC-EARTH_historical_r1i1p1_200001-200601.nc\n",
      "--\n",
      "FGOALS-g2\n",
      "/bdd/CMIP5/output/LASG-CESS/FGOALS-g2/historical/mon/ocean/Omon/r1i1p1/latest/tos/tos_Omon_FGOALS-g2_historical_r1i1p1_195001-199912.nc\n",
      "/bdd/CMIP5/output/LASG-CESS/FGOALS-g2/historical/mon/ocean/Omon/r1i1p1/latest/tos/tos_Omon_FGOALS-g2_historical_r1i1p1_200001-200512.nc\n",
      "--\n",
      "FGOALS-s2\n",
      "/bdd/CMIP5/output/LASG-IAP/FGOALS-s2/historical/mon/ocean/Omon/r1i1p1/latest/tos/tos_Omon_FGOALS-s2_historical_r1i1p1_185001-200412.nc\n",
      "--\n",
      "GFDL-CM2p1\n",
      "/bdd/CMIP5/output/NOAA-GFDL/GFDL-CM2p1/historical/mon/ocean/Omon/r1i1p1/latest/tos/tos_Omon_GFDL-CM2p1_historical_r1i1p1_197601-198012.nc\n",
      "/bdd/CMIP5/output/NOAA-GFDL/GFDL-CM2p1/historical/mon/ocean/Omon/r1i1p1/latest/tos/tos_Omon_GFDL-CM2p1_historical_r1i1p1_198101-198512.nc\n",
      "/bdd/CMIP5/output/NOAA-GFDL/GFDL-CM2p1/historical/mon/ocean/Omon/r1i1p1/latest/tos/tos_Omon_GFDL-CM2p1_historical_r1i1p1_198601-199012.nc\n",
      "/bdd/CMIP5/output/NOAA-GFDL/GFDL-CM2p1/historical/mon/ocean/Omon/r1i1p1/latest/tos/tos_Omon_GFDL-CM2p1_historical_r1i1p1_199101-199512.nc\n",
      "/bdd/CMIP5/output/NOAA-GFDL/GFDL-CM2p1/historical/mon/ocean/Omon/r1i1p1/latest/tos/tos_Omon_GFDL-CM2p1_historical_r1i1p1_199601-200012.nc\n",
      "--\n",
      "GFDL-CM3\n",
      "/bdd/CMIP5/output/NOAA-GFDL/GFDL-CM3/historical/mon/ocean/Omon/r1i1p1/latest/tos/tos_Omon_GFDL-CM3_historical_r1i1p1_198001-198412.nc\n",
      "/bdd/CMIP5/output/NOAA-GFDL/GFDL-CM3/historical/mon/ocean/Omon/r1i1p1/latest/tos/tos_Omon_GFDL-CM3_historical_r1i1p1_198501-198912.nc\n",
      "/bdd/CMIP5/output/NOAA-GFDL/GFDL-CM3/historical/mon/ocean/Omon/r1i1p1/latest/tos/tos_Omon_GFDL-CM3_historical_r1i1p1_199001-199412.nc\n",
      "/bdd/CMIP5/output/NOAA-GFDL/GFDL-CM3/historical/mon/ocean/Omon/r1i1p1/latest/tos/tos_Omon_GFDL-CM3_historical_r1i1p1_199501-199912.nc\n",
      "/bdd/CMIP5/output/NOAA-GFDL/GFDL-CM3/historical/mon/ocean/Omon/r1i1p1/latest/tos/tos_Omon_GFDL-CM3_historical_r1i1p1_200001-200412.nc\n",
      "--\n",
      "GFDL-ESM2G\n",
      "/bdd/CMIP5/output/NOAA-GFDL/GFDL-ESM2G/historical/mon/ocean/Omon/r1i1p1/latest/tos/tos_Omon_GFDL-ESM2G_historical_r1i1p1_197601-198012.nc\n",
      "/bdd/CMIP5/output/NOAA-GFDL/GFDL-ESM2G/historical/mon/ocean/Omon/r1i1p1/latest/tos/tos_Omon_GFDL-ESM2G_historical_r1i1p1_198101-198512.nc\n",
      "/bdd/CMIP5/output/NOAA-GFDL/GFDL-ESM2G/historical/mon/ocean/Omon/r1i1p1/latest/tos/tos_Omon_GFDL-ESM2G_historical_r1i1p1_198601-199012.nc\n",
      "/bdd/CMIP5/output/NOAA-GFDL/GFDL-ESM2G/historical/mon/ocean/Omon/r1i1p1/latest/tos/tos_Omon_GFDL-ESM2G_historical_r1i1p1_199101-199512.nc\n",
      "/bdd/CMIP5/output/NOAA-GFDL/GFDL-ESM2G/historical/mon/ocean/Omon/r1i1p1/latest/tos/tos_Omon_GFDL-ESM2G_historical_r1i1p1_199601-200012.nc\n",
      "--\n",
      "GFDL-ESM2M\n",
      "/bdd/CMIP5/output/NOAA-GFDL/GFDL-ESM2M/historical/mon/ocean/Omon/r1i1p1/latest/tos/tos_Omon_GFDL-ESM2M_historical_r1i1p1_197601-198012.nc\n",
      "/bdd/CMIP5/output/NOAA-GFDL/GFDL-ESM2M/historical/mon/ocean/Omon/r1i1p1/latest/tos/tos_Omon_GFDL-ESM2M_historical_r1i1p1_198101-198512.nc\n",
      "/bdd/CMIP5/output/NOAA-GFDL/GFDL-ESM2M/historical/mon/ocean/Omon/r1i1p1/latest/tos/tos_Omon_GFDL-ESM2M_historical_r1i1p1_198601-199012.nc\n",
      "/bdd/CMIP5/output/NOAA-GFDL/GFDL-ESM2M/historical/mon/ocean/Omon/r1i1p1/latest/tos/tos_Omon_GFDL-ESM2M_historical_r1i1p1_199101-199512.nc\n",
      "/bdd/CMIP5/output/NOAA-GFDL/GFDL-ESM2M/historical/mon/ocean/Omon/r1i1p1/latest/tos/tos_Omon_GFDL-ESM2M_historical_r1i1p1_199601-200012.nc\n",
      "--\n",
      "GISS-E2-H\n",
      "/bdd/CMIP5/output/NASA-GISS/GISS-E2-H/historical/mon/ocean/Omon/r1i1p1/latest/tos/tos_Omon_GISS-E2-H_historical_r1i1p1_195101-200512.nc\n",
      "--\n",
      "GISS-E2-H-CC\n",
      "/bdd/CMIP5/output/NASA-GISS/GISS-E2-H-CC/historical/mon/ocean/Omon/r1i1p1/latest/tos/tos_Omon_GISS-E2-H-CC_historical_r1i1p1_195101-201012.nc\n",
      "--\n",
      "GISS-E2-R\n",
      "/bdd/CMIP5/output/NASA-GISS/GISS-E2-R/historical/mon/ocean/Omon/r1i1p1/latest/tos/tos_Omon_GISS-E2-R_historical_r1i1p1_197601-200012.nc\n",
      "--\n",
      "GISS-E2-R-CC\n",
      "/bdd/CMIP5/output/NASA-GISS/GISS-E2-R-CC/historical/mon/ocean/Omon/r1i1p1/latest/tos/tos_Omon_GISS-E2-R-CC_historical_r1i1p1_197601-200012.nc\n",
      "--\n",
      "HadCM3\n"
     ]
    },
    {
     "name": "stdout",
     "output_type": "stream",
     "text": [
      "/bdd/CMIP5/output/MOHC/HadCM3/historical/mon/ocean/Omon/r1i1p1/latest/tos/tos_Omon_HadCM3_historical_r1i1p1_195912-198411.nc\n",
      "/bdd/CMIP5/output/MOHC/HadCM3/historical/mon/ocean/Omon/r1i1p1/latest/tos/tos_Omon_HadCM3_historical_r1i1p1_198412-200512.nc\n",
      "--\n",
      "HadGEM2-AO\n",
      "/bdd/CMIP5/output/NIMR-KMA/HadGEM2-AO/historical/mon/ocean/Omon/r1i1p1/latest/tos/tos_Omon_HadGEM2-AO_historical_r1i1p1_186001-200512.nc\n",
      "--\n",
      "HadGEM2-CC\n",
      "/bdd/CMIP5/output/MOHC/HadGEM2-CC/historical/mon/ocean/Omon/r1i1p1/latest/tos/tos_Omon_HadGEM2-CC_historical_r1i1p1_195912-200511.nc\n",
      "--\n",
      "HadGEM2-ES\n",
      "/bdd/CMIP5/output/MOHC/HadGEM2-ES/historical/mon/ocean/Omon/r1i1p1/latest/tos/tos_Omon_HadGEM2-ES_historical_r1i1p1_195912-200512.nc\n",
      "--\n",
      "IPSL-CM5A-LR\n",
      "/bdd/CMIP5/output/IPSL/IPSL-CM5A-LR/historical/mon/ocean/Omon/r1i1p1/latest/tos/tos_Omon_IPSL-CM5A-LR_historical_r1i1p1_185001-200512.nc\n",
      "--\n",
      "IPSL-CM5A-MR\n",
      "/bdd/CMIP5/output/IPSL/IPSL-CM5A-MR/historical/mon/ocean/Omon/r1i1p1/latest/tos/tos_Omon_IPSL-CM5A-MR_historical_r1i1p1_185001-200512.nc\n",
      "--\n",
      "IPSL-CM5B-LR\n",
      "/bdd/CMIP5/output/IPSL/IPSL-CM5B-LR/historical/mon/ocean/Omon/r1i1p1/latest/tos/tos_Omon_IPSL-CM5B-LR_historical_r1i1p1_185001-200512.nc\n",
      "--\n",
      "MIROC-ESM\n",
      "/bdd/CMIP5/output/MIROC/MIROC-ESM/historical/mon/ocean/Omon/r1i1p1/latest/tos/tos_Omon_MIROC-ESM_historical_r1i1p1_185001-200512.nc\n",
      "--\n",
      "MIROC-ESM-CHEM\n",
      "/bdd/CMIP5/output/MIROC/MIROC-ESM-CHEM/historical/mon/ocean/Omon/r1i1p1/latest/tos/tos_Omon_MIROC-ESM-CHEM_historical_r1i1p1_185001-200512.nc\n",
      "--\n",
      "MIROC5\n",
      "/bdd/CMIP5/output/MIROC/MIROC5/historical/mon/ocean/Omon/r1i1p1/latest/tos/tos_Omon_MIROC5_historical_r1i1p1_185001-201212.nc\n",
      "--\n",
      "MPI-ESM-LR\n",
      "/bdd/CMIP5/output/MPI-M/MPI-ESM-LR/historical/mon/ocean/Omon/r1i1p1/latest/tos/tos_Omon_MPI-ESM-LR_historical_r1i1p1_185001-200512.nc\n",
      "--\n",
      "MPI-ESM-MR\n",
      "/bdd/CMIP5/output/MPI-M/MPI-ESM-MR/historical/mon/ocean/Omon/r1i1p1/latest/tos/tos_Omon_MPI-ESM-MR_historical_r1i1p1_190001-199912.nc\n",
      "/bdd/CMIP5/output/MPI-M/MPI-ESM-MR/historical/mon/ocean/Omon/r1i1p1/latest/tos/tos_Omon_MPI-ESM-MR_historical_r1i1p1_200001-200512.nc\n",
      "--\n",
      "MPI-ESM-P\n",
      "/bdd/CMIP5/output/MPI-M/MPI-ESM-P/historical/mon/ocean/Omon/r1i1p1/latest/tos/tos_Omon_MPI-ESM-P_historical_r1i1p1_185001-200512.nc\n",
      "--\n",
      "MRI-CGCM3\n",
      "/bdd/CMIP5/output/MRI/MRI-CGCM3/historical/mon/ocean/Omon/r1i1p1/latest/tos/tos_Omon_MRI-CGCM3_historical_r1i1p1_185001-200512.nc\n",
      "--\n",
      "MRI-ESM1\n",
      "/bdd/CMIP5/output/MRI/MRI-ESM1/historical/mon/ocean/Omon/r1i1p1/latest/tos/tos_Omon_MRI-ESM1_historical_r1i1p1_185101-200512.nc\n",
      "--\n",
      "NorESM1-M\n",
      "/bdd/CMIP5/output/NCC/NorESM1-M/historical/mon/ocean/Omon/r1i1p1/latest/tos/tos_Omon_NorESM1-M_historical_r1i1p1_185001-200512.nc\n",
      "--\n",
      "NorESM1-ME\n",
      "/bdd/CMIP5/output/NCC/NorESM1-ME/historical/mon/ocean/Omon/r1i1p1/latest/tos/tos_Omon_NorESM1-ME_historical_r1i1p1_185001-200512.nc\n",
      "--\n",
      "bcc-csm1-1\n",
      "/bdd/CMIP5/output/BCC/bcc-csm1-1/historical/mon/ocean/Omon/r1i1p1/latest/tos/tos_Omon_bcc-csm1-1_historical_r1i1p1_185001-201212.nc\n",
      "--\n",
      "bcc-csm1-1-m\n",
      "/bdd/CMIP5/output/BCC/bcc-csm1-1-m/historical/mon/ocean/Omon/r1i1p1/latest/tos/tos_Omon_bcc-csm1-1-m_historical_r1i1p1_185001-201212.nc\n",
      "--\n",
      "inmcm4\n",
      "/bdd/CMIP5/output/INM/inmcm4/historical/mon/ocean/Omon/r1i1p1/latest/tos/tos_Omon_inmcm4_historical_r1i1p1_185001-200512.nc\n",
      "--\n"
     ]
    }
   ],
   "source": [
    "summary(ens_cmip5)"
   ]
  },
  {
   "cell_type": "markdown",
   "metadata": {},
   "source": [
    "## Now I want to compute, say, a DJF climatology, and regrid all the models on a common CDO grid"
   ]
  },
  {
   "cell_type": "code",
   "execution_count": 12,
   "metadata": {},
   "outputs": [
    {
     "data": {
      "text/plain": [
       "cens({'ACCESS1-0':regridn(ccdo(ccdo(ds('CMIP5%%tos%1980-2000%global%/prodigfs/project%ACCESS1-0%Omon%historical%r1i1p1%monthly%ocean%latest'),operator='ymonavg'),operator='timmean -seltimestep,1,2,12'),cdogrid='r360x180'),'ACCESS1-3':regridn(ccdo(ccdo(ds('CMIP5%%tos%1980-2000%global%/prodigfs/project%ACCESS1-3%Omon%historical%r1i1p1%monthly%ocean%latest'),operator='ymonavg'),operator='timmean -seltimestep,1,2,12'),cdogrid='r360x180'),'CESM1-CAM5-1-FV2':regridn(ccdo(ccdo(ds('CMIP5%%tos%1980-2000%global%/prodigfs/project%CESM1-CAM5-1-FV2%Omon%historical%r1i1p1%monthly%ocean%latest'),operator='ymonavg'),operator='timmean -seltimestep,1,2,12'),cdogrid='r360x180'),'IPSL-CM5B-LR':regridn(ccdo(ccdo(ds('CMIP5%%tos%1980-2000%global%/prodigfs/project%IPSL-CM5B-LR%Omon%historical%r1i1p1%monthly%ocean%latest'),operator='ymonavg'),operator='timmean -seltimestep,1,2,12'),cdogrid='r360x180'),'GFDL-ESM2M':regridn(ccdo(ccdo(ds('CMIP5%%tos%1980-2000%global%/prodigfs/project%GFDL-ESM2M%Omon%historical%r1i1p1%monthly%ocean%latest'),operator='ymonavg'),operator='timmean -seltimestep,1,2,12'),cdogrid='r360x180'),'CMCC-CMS':regridn(ccdo(ccdo(ds('CMIP5%%tos%1980-2000%global%/prodigfs/project%CMCC-CMS%Omon%historical%r1i1p1%monthly%ocean%latest'),operator='ymonavg'),operator='timmean -seltimestep,1,2,12'),cdogrid='r360x180'),'HadCM3':regridn(ccdo(ccdo(ds('CMIP5%%tos%1980-2000%global%/prodigfs/project%HadCM3%Omon%historical%r1i1p1%monthly%ocean%latest'),operator='ymonavg'),operator='timmean -seltimestep,1,2,12'),cdogrid='r360x180'),'MIROC-ESM':regridn(ccdo(ccdo(ds('CMIP5%%tos%1980-2000%global%/prodigfs/project%MIROC-ESM%Omon%historical%r1i1p1%monthly%ocean%latest'),operator='ymonavg'),operator='timmean -seltimestep,1,2,12'),cdogrid='r360x180'),'HadGEM2-ES':regridn(ccdo(ccdo(ds('CMIP5%%tos%1980-2000%global%/prodigfs/project%HadGEM2-ES%Omon%historical%r1i1p1%monthly%ocean%latest'),operator='ymonavg'),operator='timmean -seltimestep,1,2,12'),cdogrid='r360x180'),'CanESM2':regridn(ccdo(ccdo(ds('CMIP5%%tos%1980-2000%global%/prodigfs/project%CanESM2%Omon%historical%r1i1p1%monthly%ocean%latest'),operator='ymonavg'),operator='timmean -seltimestep,1,2,12'),cdogrid='r360x180'),'FGOALS-s2':regridn(ccdo(ccdo(ds('CMIP5%%tos%1980-2000%global%/prodigfs/project%FGOALS-s2%Omon%historical%r1i1p1%monthly%ocean%latest'),operator='ymonavg'),operator='timmean -seltimestep,1,2,12'),cdogrid='r360x180'),'MPI-ESM-P':regridn(ccdo(ccdo(ds('CMIP5%%tos%1980-2000%global%/prodigfs/project%MPI-ESM-P%Omon%historical%r1i1p1%monthly%ocean%latest'),operator='ymonavg'),operator='timmean -seltimestep,1,2,12'),cdogrid='r360x180'),'MRI-ESM1':regridn(ccdo(ccdo(ds('CMIP5%%tos%1980-2000%global%/prodigfs/project%MRI-ESM1%Omon%historical%r1i1p1%monthly%ocean%latest'),operator='ymonavg'),operator='timmean -seltimestep,1,2,12'),cdogrid='r360x180'),'MPI-ESM-MR':regridn(ccdo(ccdo(ds('CMIP5%%tos%1980-2000%global%/prodigfs/project%MPI-ESM-MR%Omon%historical%r1i1p1%monthly%ocean%latest'),operator='ymonavg'),operator='timmean -seltimestep,1,2,12'),cdogrid='r360x180'),'CSIRO-Mk3-6-0':regridn(ccdo(ccdo(ds('CMIP5%%tos%1980-2000%global%/prodigfs/project%CSIRO-Mk3-6-0%Omon%historical%r1i1p1%monthly%ocean%latest'),operator='ymonavg'),operator='timmean -seltimestep,1,2,12'),cdogrid='r360x180'),'CESM1-BGC':regridn(ccdo(ccdo(ds('CMIP5%%tos%1980-2000%global%/prodigfs/project%CESM1-BGC%Omon%historical%r1i1p1%monthly%ocean%latest'),operator='ymonavg'),operator='timmean -seltimestep,1,2,12'),cdogrid='r360x180'),'HadGEM2-AO':regridn(ccdo(ccdo(ds('CMIP5%%tos%1980-2000%global%/prodigfs/project%HadGEM2-AO%Omon%historical%r1i1p1%monthly%ocean%latest'),operator='ymonavg'),operator='timmean -seltimestep,1,2,12'),cdogrid='r360x180'),'inmcm4':regridn(ccdo(ccdo(ds('CMIP5%%tos%1980-2000%global%/prodigfs/project%inmcm4%Omon%historical%r1i1p1%monthly%ocean%latest'),operator='ymonavg'),operator='timmean -seltimestep,1,2,12'),cdogrid='r360x180'),'CESM1-FASTCHEM':regridn(ccdo(ccdo(ds('CMIP5%%tos%1980-2000%global%/prodigfs/project%CESM1-FASTCHEM%Omon%historical%r1i1p1%monthly%ocean%latest'),operator='ymonavg'),operator='timmean -seltimestep,1,2,12'),cdogrid='r360x180'),'GISS-E2-R-CC':regridn(ccdo(ccdo(ds('CMIP5%%tos%1980-2000%global%/prodigfs/project%GISS-E2-R-CC%Omon%historical%r1i1p1%monthly%ocean%latest'),operator='ymonavg'),operator='timmean -seltimestep,1,2,12'),cdogrid='r360x180'),'BNU-ESM':regridn(ccdo(ccdo(ds('CMIP5%%tos%1980-2000%global%/prodigfs/project%BNU-ESM%Omon%historical%r1i1p1%monthly%ocean%latest'),operator='ymonavg'),operator='timmean -seltimestep,1,2,12'),cdogrid='r360x180'),'CNRM-CM5-2':regridn(ccdo(ccdo(ds('CMIP5%%tos%1980-2000%global%/prodigfs/project%CNRM-CM5-2%Omon%historical%r1i1p1%monthly%ocean%latest'),operator='ymonavg'),operator='timmean -seltimestep,1,2,12'),cdogrid='r360x180'),'FGOALS-g2':regridn(ccdo(ccdo(ds('CMIP5%%tos%1980-2000%global%/prodigfs/project%FGOALS-g2%Omon%historical%r1i1p1%monthly%ocean%latest'),operator='ymonavg'),operator='timmean -seltimestep,1,2,12'),cdogrid='r360x180'),'GFDL-CM2p1':regridn(ccdo(ccdo(ds('CMIP5%%tos%1980-2000%global%/prodigfs/project%GFDL-CM2p1%Omon%historical%r1i1p1%monthly%ocean%latest'),operator='ymonavg'),operator='timmean -seltimestep,1,2,12'),cdogrid='r360x180'),'GFDL-ESM2G':regridn(ccdo(ccdo(ds('CMIP5%%tos%1980-2000%global%/prodigfs/project%GFDL-ESM2G%Omon%historical%r1i1p1%monthly%ocean%latest'),operator='ymonavg'),operator='timmean -seltimestep,1,2,12'),cdogrid='r360x180'),'CMCC-CM':regridn(ccdo(ccdo(ds('CMIP5%%tos%1980-2000%global%/prodigfs/project%CMCC-CM%Omon%historical%r1i1p1%monthly%ocean%latest'),operator='ymonavg'),operator='timmean -seltimestep,1,2,12'),cdogrid='r360x180'),'EC-EARTH':regridn(ccdo(ccdo(ds('CMIP5%%tos%1980-2000%global%/prodigfs/project%EC-EARTH%Omon%historical%r1i1p1%monthly%ocean%latest'),operator='ymonavg'),operator='timmean -seltimestep,1,2,12'),cdogrid='r360x180'),'CanCM4':regridn(ccdo(ccdo(ds('CMIP5%%tos%1980-2000%global%/prodigfs/project%CanCM4%Omon%historical%r1i1p1%monthly%ocean%latest'),operator='ymonavg'),operator='timmean -seltimestep,1,2,12'),cdogrid='r360x180'),'CCSM4':regridn(ccdo(ccdo(ds('CMIP5%%tos%1980-2000%global%/prodigfs/project%CCSM4%Omon%historical%r1i1p1%monthly%ocean%latest'),operator='ymonavg'),operator='timmean -seltimestep,1,2,12'),cdogrid='r360x180'),'NorESM1-M':regridn(ccdo(ccdo(ds('CMIP5%%tos%1980-2000%global%/prodigfs/project%NorESM1-M%Omon%historical%r1i1p1%monthly%ocean%latest'),operator='ymonavg'),operator='timmean -seltimestep,1,2,12'),cdogrid='r360x180'),'CESM1-WACCM':regridn(ccdo(ccdo(ds('CMIP5%%tos%1980-2000%global%/prodigfs/project%CESM1-WACCM%Omon%historical%r1i1p1%monthly%ocean%latest'),operator='ymonavg'),operator='timmean -seltimestep,1,2,12'),cdogrid='r360x180'),'IPSL-CM5A-MR':regridn(ccdo(ccdo(ds('CMIP5%%tos%1980-2000%global%/prodigfs/project%IPSL-CM5A-MR%Omon%historical%r1i1p1%monthly%ocean%latest'),operator='ymonavg'),operator='timmean -seltimestep,1,2,12'),cdogrid='r360x180'),'IPSL-CM5A-LR':regridn(ccdo(ccdo(ds('CMIP5%%tos%1980-2000%global%/prodigfs/project%IPSL-CM5A-LR%Omon%historical%r1i1p1%monthly%ocean%latest'),operator='ymonavg'),operator='timmean -seltimestep,1,2,12'),cdogrid='r360x180'),'GFDL-CM3':regridn(ccdo(ccdo(ds('CMIP5%%tos%1980-2000%global%/prodigfs/project%GFDL-CM3%Omon%historical%r1i1p1%monthly%ocean%latest'),operator='ymonavg'),operator='timmean -seltimestep,1,2,12'),cdogrid='r360x180'),'GISS-E2-H':regridn(ccdo(ccdo(ds('CMIP5%%tos%1980-2000%global%/prodigfs/project%GISS-E2-H%Omon%historical%r1i1p1%monthly%ocean%latest'),operator='ymonavg'),operator='timmean -seltimestep,1,2,12'),cdogrid='r360x180'),'MIROC-ESM-CHEM':regridn(ccdo(ccdo(ds('CMIP5%%tos%1980-2000%global%/prodigfs/project%MIROC-ESM-CHEM%Omon%historical%r1i1p1%monthly%ocean%latest'),operator='ymonavg'),operator='timmean -seltimestep,1,2,12'),cdogrid='r360x180'),'MRI-CGCM3':regridn(ccdo(ccdo(ds('CMIP5%%tos%1980-2000%global%/prodigfs/project%MRI-CGCM3%Omon%historical%r1i1p1%monthly%ocean%latest'),operator='ymonavg'),operator='timmean -seltimestep,1,2,12'),cdogrid='r360x180'),'NorESM1-ME':regridn(ccdo(ccdo(ds('CMIP5%%tos%1980-2000%global%/prodigfs/project%NorESM1-ME%Omon%historical%r1i1p1%monthly%ocean%latest'),operator='ymonavg'),operator='timmean -seltimestep,1,2,12'),cdogrid='r360x180'),'MIROC5':regridn(ccdo(ccdo(ds('CMIP5%%tos%1980-2000%global%/prodigfs/project%MIROC5%Omon%historical%r1i1p1%monthly%ocean%latest'),operator='ymonavg'),operator='timmean -seltimestep,1,2,12'),cdogrid='r360x180'),'GISS-E2-R':regridn(ccdo(ccdo(ds('CMIP5%%tos%1980-2000%global%/prodigfs/project%GISS-E2-R%Omon%historical%r1i1p1%monthly%ocean%latest'),operator='ymonavg'),operator='timmean -seltimestep,1,2,12'),cdogrid='r360x180'),'HadGEM2-CC':regridn(ccdo(ccdo(ds('CMIP5%%tos%1980-2000%global%/prodigfs/project%HadGEM2-CC%Omon%historical%r1i1p1%monthly%ocean%latest'),operator='ymonavg'),operator='timmean -seltimestep,1,2,12'),cdogrid='r360x180'),'GISS-E2-H-CC':regridn(ccdo(ccdo(ds('CMIP5%%tos%1980-2000%global%/prodigfs/project%GISS-E2-H-CC%Omon%historical%r1i1p1%monthly%ocean%latest'),operator='ymonavg'),operator='timmean -seltimestep,1,2,12'),cdogrid='r360x180'),'CMCC-CESM':regridn(ccdo(ccdo(ds('CMIP5%%tos%1980-2000%global%/prodigfs/project%CMCC-CESM%Omon%historical%r1i1p1%monthly%ocean%latest'),operator='ymonavg'),operator='timmean -seltimestep,1,2,12'),cdogrid='r360x180'),'bcc-csm1-1-m':regridn(ccdo(ccdo(ds('CMIP5%%tos%1980-2000%global%/prodigfs/project%bcc-csm1-1-m%Omon%historical%r1i1p1%monthly%ocean%latest'),operator='ymonavg'),operator='timmean -seltimestep,1,2,12'),cdogrid='r360x180'),'MPI-ESM-LR':regridn(ccdo(ccdo(ds('CMIP5%%tos%1980-2000%global%/prodigfs/project%MPI-ESM-LR%Omon%historical%r1i1p1%monthly%ocean%latest'),operator='ymonavg'),operator='timmean -seltimestep,1,2,12'),cdogrid='r360x180'),'bcc-csm1-1':regridn(ccdo(ccdo(ds('CMIP5%%tos%1980-2000%global%/prodigfs/project%bcc-csm1-1%Omon%historical%r1i1p1%monthly%ocean%latest'),operator='ymonavg'),operator='timmean -seltimestep,1,2,12'),cdogrid='r360x180'),'CESM1-CAM5':regridn(ccdo(ccdo(ds('CMIP5%%tos%1980-2000%global%/prodigfs/project%CESM1-CAM5%Omon%historical%r1i1p1%monthly%ocean%latest'),operator='ymonavg'),operator='timmean -seltimestep,1,2,12'),cdogrid='r360x180')})"
      ]
     },
     "execution_count": 12,
     "metadata": {},
     "output_type": "execute_result"
    }
   ],
   "source": [
    "djf_ens_cmip5 = clim_average(ens_cmip5, 'DJF')\n",
    "\n",
    "rgrd_djf_ens_cmip5 = regridn(djf_ens_cmip5, cdogrid='r360x180')\n",
    "\n",
    "rgrd_djf_ens_cmip5"
   ]
  },
  {
   "cell_type": "markdown",
   "metadata": {},
   "source": [
    "## OK the pretreatment is convincing but I feel limited in your CliMAF stuff... I prefer to use my own scripts\n",
    "## No problem!\n",
    "You can either plug your own script (and benefit downstream from the smart cache, plot functions,\n",
    "and functions to build an html page)\n",
    "-- basically, any script, binary, operator that you can call with a command line with the input netcdf file and output netcdf file / figure\n",
    "## Or you can just get the list of your pretreated files in a txt or json file:"
   ]
  },
  {
   "cell_type": "code",
   "execution_count": 13,
   "metadata": {},
   "outputs": [
    {
     "name": "stdout",
     "output_type": "stream",
     "text": [
      "ACCESS1-0 /data/jservon/climafcache/7e991/d41c3/0953d/973a8/a3b4c/3ffa0/397a8/2ed48/b349e/1b235/9ad70/6.nc\n",
      "ACCESS1-3 /data/jservon/climafcache/65019/53eb6/12f20/c1561/bf2a3/bd28c/dd583/edb07/b5ef1/a78b0/90ff4/5.nc\n",
      "CESM1-CAM5-1-FV2 /data/jservon/climafcache/0d156/2ad99/81c09/9d600/e7107/4e173/453b2/8ea19/7a464/59503/4f744/2.nc\n",
      "IPSL-CM5B-LR /data/jservon/climafcache/1e92e/0c447/31e52/f5996/9a220/61e5d/b83d4/af9a4/b8f39/c1a38/99ef2/5.nc\n",
      "GFDL-ESM2M /data/jservon/climafcache/bcc68/23be9/1c6a5/ce21e/6e32b/e233f/28cfa/0b56e/d3929/d7f4f/4a364/b.nc\n",
      "CMCC-CMS /data/jservon/climafcache/a8c67/48720/4d0d9/c827d/4e3fb/deb1a/9dd3a/7ebac/4e5c8/baada/3123b/7.nc\n",
      "HadCM3 /data/jservon/climafcache/5bff1/31237/b3803/83ba5/bf3b9/9a1d9/dd8eb/f7af8/51efa/bf5f0/aa21f/5.nc\n",
      "MIROC-ESM /data/jservon/climafcache/59faf/bd491/27230/aa532/6d82f/177d1/0b0f9/cfeb3/2cfc2/1d746/7e43e/3.nc\n",
      "HadGEM2-ES /data/jservon/climafcache/34663/3a472/a0293/5aa3c/e8363/2cccd/530e7/12fb4/251d1/30538/950a3/3.nc\n",
      "CanESM2 /data/jservon/climafcache/ad24a/194a5/3e24f/b7561/38e9e/f278c/d1ebf/c47dd/21aae/5be3e/a01a9/d.nc\n",
      "FGOALS-s2 /data/jservon/climafcache/2c4bd/5df84/eefbd/8f1e0/4c457/71b5a/e9daa/7b00b/3954a/15888/c1f64/c.nc\n",
      "MPI-ESM-P /data/jservon/climafcache/583d5/1824d/a2dc3/d434f/45e18/15cf1/7ad2a/db6d6/75b64/1dffc/a229d/b.nc\n",
      "MRI-ESM1 /data/jservon/climafcache/56f32/a4baf/7c430/165da/b4e96/f9d25/548ad/b1caf/3b3e5/1327b/de088/e.nc\n",
      "MPI-ESM-MR /data/jservon/climafcache/67ad3/3e658/9893a/a7214/162f6/8ea3d/49893/1fd1b/f35df/bc619/3394a/a.nc\n",
      "CSIRO-Mk3-6-0 /data/jservon/climafcache/21727/5621d/d6eee/a333f/e4cd9/619a0/2b2fe/302b3/e2ba1/62605/88333/3.nc\n",
      "CESM1-BGC /data/jservon/climafcache/e548b/f8b14/87951/c722b/0cd65/f7926/010e5/185ba/f9a71/f36b9/71c61/2.nc\n",
      "HadGEM2-AO /data/jservon/climafcache/2c7ce/8fbe2/2357f/fae08/a48fa/179a1/24c1e/cb6ea/8600e/e2eff/d012a/0.nc\n",
      "inmcm4 /data/jservon/climafcache/6f7bf/5f2e0/e3992/81de9/3303d/6a2be/f3028/cc7c5/12896/32edf/d6b57/1.nc\n",
      "CESM1-FASTCHEM /data/jservon/climafcache/4e400/e4a9a/6fa54/4aafd/7d33c/86c3f/b0879/f02f6/7a069/f747c/723c5/d.nc\n",
      "GISS-E2-R-CC /data/jservon/climafcache/bba84/dc967/fdc12/47e2e/a414f/81b8d/ba04b/3e356/c0856/273a2/0961b/c.nc\n",
      "BNU-ESM /data/jservon/climafcache/ecbf4/43f50/d54cf/8d1cb/e9e2a/94834/91303/02871/58114/cb891/9e973/d.nc\n",
      "CNRM-CM5-2 /data/jservon/climafcache/7a957/2bcae/028a9/32498/aa83c/f46f7/cef5f/7476a/a5800/16a8b/f09d1/6.nc\n",
      "FGOALS-g2 /data/jservon/climafcache/7b308/c7e09/397c8/31d19/06153/22d22/a85b6/fdfd3/12c22/8d76f/4fe34/0.nc\n",
      "GFDL-CM2p1 /data/jservon/climafcache/93a2b/92f00/8e559/91737/d37b9/6cb80/59fe0/1a865/2eead/43436/a22a7/0.nc\n",
      "GFDL-ESM2G /data/jservon/climafcache/989d3/67dce/fab45/9122e/abea9/1c91f/f44ac/ff407/27cb7/7f110/1426f/7.nc\n",
      "CMCC-CM /data/jservon/climafcache/8c85e/e7f55/eb0cf/0da74/57f18/59a96/3dbfd/5c56d/5b2a5/fb7d7/386e5/b.nc\n",
      "EC-EARTH /data/jservon/climafcache/492ff/7e60f/5b07b/5a211/616dc/2fdfb/3cde3/99b11/43e1d/55c88/0e23f/0.nc\n",
      "CanCM4 /data/jservon/climafcache/6cfb2/4e47c/60dba/c7b10/542f3/542cc/982d0/cf01d/3651c/30703/a0b12/d.nc\n",
      "CCSM4 /data/jservon/climafcache/fa9f0/94a95/fdf37/efa44/1615d/594e3/6837a/3d396/0c409/4227e/17b1a/d.nc\n",
      "NorESM1-M /data/jservon/climafcache/e41ef/eb703/90da9/c647e/7390b/753f4/4c33c/94933/a485a/87a8e/29a9d/f.nc\n",
      "CESM1-WACCM /data/jservon/climafcache/70c41/ec72c/12b94/d85b7/3c902/4182a/413e5/cbb99/4137a/3217c/395c1/d.nc\n",
      "IPSL-CM5A-MR /data/jservon/climafcache/67adb/d676c/1960e/2fbb6/9e64f/f7a00/50bfa/eec55/c424a/2e871/1fdf2/6.nc\n",
      "IPSL-CM5A-LR /data/jservon/climafcache/e538f/a145f/a7ef6/3f694/f032e/3d982/e812a/fe049/5c575/c23fb/9baff/d.nc\n",
      "GFDL-CM3 /data/jservon/climafcache/4fd4c/3467d/16f86/418ab/3112b/4b437/a814a/9415e/87ab3/ade53/3e169/0.nc\n",
      "GISS-E2-H /data/jservon/climafcache/a2af3/fd6bc/b6e5f/d8e5c/a1d5f/681d5/6007c/2fe11/864b3/4f0e0/c2d37/b.nc\n",
      "MIROC-ESM-CHEM /data/jservon/climafcache/9ad7d/ccd16/6a788/e587c/84aa6/37b68/a3d42/9abd6/ebf97/85431/6e86d/0.nc\n",
      "MRI-CGCM3 /data/jservon/climafcache/8bae6/774ac/0a75b/9e545/bceb4/9787b/29a51/6ca14/d8942/1bfeb/21b24/6.nc\n",
      "NorESM1-ME /data/jservon/climafcache/92f4e/aa517/8dc6d/894aa/ce7fa/f9e92/e2bfd/646a2/c21db/64be2/bf341/a.nc\n",
      "MIROC5 /data/jservon/climafcache/efb9f/4ed76/bd2de/1522b/167b0/5f805/b117b/727e2/d83a4/069b0/b4222/f.nc\n",
      "GISS-E2-R /data/jservon/climafcache/57b2a/48fd3/e8825/ae688/f47bd/0d500/aef7e/39fb4/ff3ef/fd753/f1f06/1.nc\n",
      "HadGEM2-CC /data/jservon/climafcache/6cef5/afc2b/8d8e7/d9e21/e1cda/926eb/24f18/300f3/29174/48a81/3965e/7.nc\n",
      "GISS-E2-H-CC /data/jservon/climafcache/acb0f/e316c/2030f/935d8/f7fe0/c5ba4/7203b/b76b6/40b5c/40689/8cb62/e.nc\n",
      "CMCC-CESM /data/jservon/climafcache/95694/c8a5e/cc88e/18e48/37d76/77a40/ef705/33f10/a274f/6aa29/0d749/0.nc\n",
      "bcc-csm1-1-m /data/jservon/climafcache/84e4f/4b290/d7294/adc9a/efd8f/81e02/43b4a/89a16/41eb1/9aea0/90f77/c.nc\n",
      "MPI-ESM-LR /data/jservon/climafcache/1882f/15c47/1e651/dff23/0f981/47595/80795/a8952/d7778/2d115/12293/6.nc\n",
      "bcc-csm1-1 /data/jservon/climafcache/c5897/01862/f8c86/7fd38/55a3e/fda80/80116/c6b9a/70508/e7303/89a84/6.nc\n",
      "CESM1-CAM5 /data/jservon/climafcache/05339/2c6d8/e3011/8840d/ed022/b5675/c2fc5/ddab9/154b5/702a9/44331/2.nc\n"
     ]
    }
   ],
   "source": [
    "# -- And save a json file (or txt) with the list of pretreated netcdf files tagged with their names in the ensemble\n",
    "# -- This way you don't have to stay in CliMAF and can use your tools directly on the pretreated files\n",
    "save_req_file(rgrd_djf_ens_cmip5, filename='all_CMIP5_models_for_my_request.txt')"
   ]
  },
  {
   "cell_type": "code",
   "execution_count": 14,
   "metadata": {},
   "outputs": [
    {
     "name": "stdout",
     "output_type": "stream",
     "text": [
      "ACCESS1-0 /data/jservon/climafcache/7e991/d41c3/0953d/973a8/a3b4c/3ffa0/397a8/2ed48/b349e/1b235/9ad70/6.nc \r\n",
      "ACCESS1-3 /data/jservon/climafcache/65019/53eb6/12f20/c1561/bf2a3/bd28c/dd583/edb07/b5ef1/a78b0/90ff4/5.nc \r\n",
      "CESM1-CAM5-1-FV2 /data/jservon/climafcache/0d156/2ad99/81c09/9d600/e7107/4e173/453b2/8ea19/7a464/59503/4f744/2.nc \r\n",
      "IPSL-CM5B-LR /data/jservon/climafcache/1e92e/0c447/31e52/f5996/9a220/61e5d/b83d4/af9a4/b8f39/c1a38/99ef2/5.nc \r\n",
      "GFDL-ESM2M /data/jservon/climafcache/bcc68/23be9/1c6a5/ce21e/6e32b/e233f/28cfa/0b56e/d3929/d7f4f/4a364/b.nc \r\n",
      "CMCC-CMS /data/jservon/climafcache/a8c67/48720/4d0d9/c827d/4e3fb/deb1a/9dd3a/7ebac/4e5c8/baada/3123b/7.nc \r\n",
      "HadCM3 /data/jservon/climafcache/5bff1/31237/b3803/83ba5/bf3b9/9a1d9/dd8eb/f7af8/51efa/bf5f0/aa21f/5.nc \r\n",
      "MIROC-ESM /data/jservon/climafcache/59faf/bd491/27230/aa532/6d82f/177d1/0b0f9/cfeb3/2cfc2/1d746/7e43e/3.nc \r\n",
      "HadGEM2-ES /data/jservon/climafcache/34663/3a472/a0293/5aa3c/e8363/2cccd/530e7/12fb4/251d1/30538/950a3/3.nc \r\n",
      "CanESM2 /data/jservon/climafcache/ad24a/194a5/3e24f/b7561/38e9e/f278c/d1ebf/c47dd/21aae/5be3e/a01a9/d.nc \r\n",
      "FGOALS-s2 /data/jservon/climafcache/2c4bd/5df84/eefbd/8f1e0/4c457/71b5a/e9daa/7b00b/3954a/15888/c1f64/c.nc \r\n",
      "MPI-ESM-P /data/jservon/climafcache/583d5/1824d/a2dc3/d434f/45e18/15cf1/7ad2a/db6d6/75b64/1dffc/a229d/b.nc \r\n",
      "MRI-ESM1 /data/jservon/climafcache/56f32/a4baf/7c430/165da/b4e96/f9d25/548ad/b1caf/3b3e5/1327b/de088/e.nc \r\n",
      "MPI-ESM-MR /data/jservon/climafcache/67ad3/3e658/9893a/a7214/162f6/8ea3d/49893/1fd1b/f35df/bc619/3394a/a.nc \r\n",
      "CSIRO-Mk3-6-0 /data/jservon/climafcache/21727/5621d/d6eee/a333f/e4cd9/619a0/2b2fe/302b3/e2ba1/62605/88333/3.nc \r\n",
      "CESM1-BGC /data/jservon/climafcache/e548b/f8b14/87951/c722b/0cd65/f7926/010e5/185ba/f9a71/f36b9/71c61/2.nc \r\n",
      "HadGEM2-AO /data/jservon/climafcache/2c7ce/8fbe2/2357f/fae08/a48fa/179a1/24c1e/cb6ea/8600e/e2eff/d012a/0.nc \r\n",
      "inmcm4 /data/jservon/climafcache/6f7bf/5f2e0/e3992/81de9/3303d/6a2be/f3028/cc7c5/12896/32edf/d6b57/1.nc \r\n",
      "CESM1-FASTCHEM /data/jservon/climafcache/4e400/e4a9a/6fa54/4aafd/7d33c/86c3f/b0879/f02f6/7a069/f747c/723c5/d.nc \r\n",
      "GISS-E2-R-CC /data/jservon/climafcache/bba84/dc967/fdc12/47e2e/a414f/81b8d/ba04b/3e356/c0856/273a2/0961b/c.nc \r\n",
      "BNU-ESM /data/jservon/climafcache/ecbf4/43f50/d54cf/8d1cb/e9e2a/94834/91303/02871/58114/cb891/9e973/d.nc \r\n",
      "CNRM-CM5-2 /data/jservon/climafcache/7a957/2bcae/028a9/32498/aa83c/f46f7/cef5f/7476a/a5800/16a8b/f09d1/6.nc \r\n",
      "FGOALS-g2 /data/jservon/climafcache/7b308/c7e09/397c8/31d19/06153/22d22/a85b6/fdfd3/12c22/8d76f/4fe34/0.nc \r\n",
      "GFDL-CM2p1 /data/jservon/climafcache/93a2b/92f00/8e559/91737/d37b9/6cb80/59fe0/1a865/2eead/43436/a22a7/0.nc \r\n",
      "GFDL-ESM2G /data/jservon/climafcache/989d3/67dce/fab45/9122e/abea9/1c91f/f44ac/ff407/27cb7/7f110/1426f/7.nc \r\n",
      "CMCC-CM /data/jservon/climafcache/8c85e/e7f55/eb0cf/0da74/57f18/59a96/3dbfd/5c56d/5b2a5/fb7d7/386e5/b.nc \r\n",
      "EC-EARTH /data/jservon/climafcache/492ff/7e60f/5b07b/5a211/616dc/2fdfb/3cde3/99b11/43e1d/55c88/0e23f/0.nc \r\n",
      "CanCM4 /data/jservon/climafcache/6cfb2/4e47c/60dba/c7b10/542f3/542cc/982d0/cf01d/3651c/30703/a0b12/d.nc \r\n",
      "CCSM4 /data/jservon/climafcache/fa9f0/94a95/fdf37/efa44/1615d/594e3/6837a/3d396/0c409/4227e/17b1a/d.nc \r\n",
      "NorESM1-M /data/jservon/climafcache/e41ef/eb703/90da9/c647e/7390b/753f4/4c33c/94933/a485a/87a8e/29a9d/f.nc \r\n",
      "CESM1-WACCM /data/jservon/climafcache/70c41/ec72c/12b94/d85b7/3c902/4182a/413e5/cbb99/4137a/3217c/395c1/d.nc \r\n",
      "IPSL-CM5A-MR /data/jservon/climafcache/67adb/d676c/1960e/2fbb6/9e64f/f7a00/50bfa/eec55/c424a/2e871/1fdf2/6.nc \r\n",
      "IPSL-CM5A-LR /data/jservon/climafcache/e538f/a145f/a7ef6/3f694/f032e/3d982/e812a/fe049/5c575/c23fb/9baff/d.nc \r\n",
      "GFDL-CM3 /data/jservon/climafcache/4fd4c/3467d/16f86/418ab/3112b/4b437/a814a/9415e/87ab3/ade53/3e169/0.nc \r\n",
      "GISS-E2-H /data/jservon/climafcache/a2af3/fd6bc/b6e5f/d8e5c/a1d5f/681d5/6007c/2fe11/864b3/4f0e0/c2d37/b.nc \r\n",
      "MIROC-ESM-CHEM /data/jservon/climafcache/9ad7d/ccd16/6a788/e587c/84aa6/37b68/a3d42/9abd6/ebf97/85431/6e86d/0.nc \r\n",
      "MRI-CGCM3 /data/jservon/climafcache/8bae6/774ac/0a75b/9e545/bceb4/9787b/29a51/6ca14/d8942/1bfeb/21b24/6.nc \r\n",
      "NorESM1-ME /data/jservon/climafcache/92f4e/aa517/8dc6d/894aa/ce7fa/f9e92/e2bfd/646a2/c21db/64be2/bf341/a.nc \r\n",
      "MIROC5 /data/jservon/climafcache/efb9f/4ed76/bd2de/1522b/167b0/5f805/b117b/727e2/d83a4/069b0/b4222/f.nc \r\n",
      "GISS-E2-R /data/jservon/climafcache/57b2a/48fd3/e8825/ae688/f47bd/0d500/aef7e/39fb4/ff3ef/fd753/f1f06/1.nc \r\n",
      "HadGEM2-CC /data/jservon/climafcache/6cef5/afc2b/8d8e7/d9e21/e1cda/926eb/24f18/300f3/29174/48a81/3965e/7.nc \r\n",
      "GISS-E2-H-CC /data/jservon/climafcache/acb0f/e316c/2030f/935d8/f7fe0/c5ba4/7203b/b76b6/40b5c/40689/8cb62/e.nc \r\n",
      "CMCC-CESM /data/jservon/climafcache/95694/c8a5e/cc88e/18e48/37d76/77a40/ef705/33f10/a274f/6aa29/0d749/0.nc \r\n",
      "bcc-csm1-1-m /data/jservon/climafcache/84e4f/4b290/d7294/adc9a/efd8f/81e02/43b4a/89a16/41eb1/9aea0/90f77/c.nc \r\n",
      "MPI-ESM-LR /data/jservon/climafcache/1882f/15c47/1e651/dff23/0f981/47595/80795/a8952/d7778/2d115/12293/6.nc \r\n",
      "bcc-csm1-1 /data/jservon/climafcache/c5897/01862/f8c86/7fd38/55a3e/fda80/80116/c6b9a/70508/e7303/89a84/6.nc \r\n",
      "CESM1-CAM5 /data/jservon/climafcache/05339/2c6d8/e3011/8840d/ed022/b5675/c2fc5/ddab9/154b5/702a9/44331/2.nc \r\n"
     ]
    }
   ],
   "source": [
    "!cat all_CMIP5_models_for_my_request.txt"
   ]
  },
  {
   "cell_type": "markdown",
   "metadata": {},
   "source": [
    "## Let's work now on some CMIP6 outputs: get all the historical members of the IPSL-CM6 'grand ensemble'"
   ]
  },
  {
   "cell_type": "code",
   "execution_count": 15,
   "metadata": {},
   "outputs": [],
   "source": [
    "req_cmip6 = ds(project='CMIP6',\n",
    "               model='IPSL-CM6A-LR',\n",
    "               variable='tas',\n",
    "               experiment='historical',\n",
    "               period='1980-2000',\n",
    "               table='Amon',\n",
    "               realization='*'\n",
    "               )"
   ]
  },
  {
   "cell_type": "code",
   "execution_count": 16,
   "metadata": {},
   "outputs": [
    {
     "data": {
      "text/plain": [
       "{'grid': 'gr',\n",
       " 'institute': 'IPSL',\n",
       " 'mip': 'CMIP',\n",
       " 'realization': ['r10i1p1f1',\n",
       "  'r14i1p1f1',\n",
       "  'r29i1p1f1',\n",
       "  'r20i1p1f1',\n",
       "  'r16i1p1f1',\n",
       "  'r21i1p1f1',\n",
       "  'r11i1p1f1',\n",
       "  'r6i1p1f1',\n",
       "  'r1i1p1f1',\n",
       "  'r3i1p1f1',\n",
       "  'r7i1p1f1',\n",
       "  'r28i1p1f1',\n",
       "  'r22i1p1f1',\n",
       "  'r5i1p1f1',\n",
       "  'r23i1p1f1',\n",
       "  'r13i1p1f1',\n",
       "  'r2i1p1f1',\n",
       "  'r8i1p1f1',\n",
       "  'r19i1p1f1',\n",
       "  'r26i1p1f1',\n",
       "  'r9i1p1f1',\n",
       "  'r18i1p1f1',\n",
       "  'r27i1p1f1',\n",
       "  'r17i1p1f1',\n",
       "  'r24i1p1f1',\n",
       "  'r4i1p1f1',\n",
       "  'r31i1p1f1',\n",
       "  'r30i1p1f1',\n",
       "  'r25i1p1f1',\n",
       "  'r15i1p1f1',\n",
       "  'r12i1p1f1']}"
      ]
     },
     "execution_count": 16,
     "metadata": {},
     "output_type": "execute_result"
    }
   ],
   "source": [
    "req_cmip6.explore('choices')"
   ]
  },
  {
   "cell_type": "markdown",
   "metadata": {},
   "source": [
    "## And last but not least: working on IPSL (libIGCM) outputs"
   ]
  },
  {
   "cell_type": "code",
   "execution_count": 18,
   "metadata": {},
   "outputs": [
    {
     "data": {
      "text/plain": [
       "{'clim_period': ['2440_2449',\n",
       "  '1878_1879',\n",
       "  '1864_1865',\n",
       "  '2410_2419',\n",
       "  '1958_1967',\n",
       "  '2380_2389',\n",
       "  '2250_2259',\n",
       "  '2140_2149',\n",
       "  '2550_2559',\n",
       "  '2220_2229',\n",
       "  '1850_1851',\n",
       "  '2330_2339',\n",
       "  '2310_2319',\n",
       "  '2130_2139',\n",
       "  '1858_1859',\n",
       "  '2600_2609',\n",
       "  '1870_1871',\n",
       "  '2490_2499',\n",
       "  '2240_2249',\n",
       "  '2500_2509',\n",
       "  '2070_2079',\n",
       "  '2530_2539',\n",
       "  '1862_1863',\n",
       "  '2050_2059',\n",
       "  '1870_1879',\n",
       "  '2470_2479',\n",
       "  '1856_1857',\n",
       "  '1950_1959',\n",
       "  '2460_2469',\n",
       "  '1840_1849',\n",
       "  '1830_1839',\n",
       "  '2450_2459',\n",
       "  '1860_1869',\n",
       "  '1860_1861',\n",
       "  '2100_2109',\n",
       "  '2230_2239',\n",
       "  '1874_1875',\n",
       "  '2510_2519',\n",
       "  '1900_1909',\n",
       "  '1980_1989',\n",
       "  '1800_1809',\n",
       "  '2110_2119',\n",
       "  '1970_1979',\n",
       "  '1920_1929',\n",
       "  '2340_2349',\n",
       "  '1866_1867',\n",
       "  '2260_2269',\n",
       "  '1850_1859',\n",
       "  '1876_1877',\n",
       "  '1890_1899',\n",
       "  '2120_2129',\n",
       "  '1940_1949',\n",
       "  '2290_2299',\n",
       "  '2570_2579',\n",
       "  '1854_1855',\n",
       "  '2580_2589',\n",
       "  '1872_1873',\n",
       "  '2300_2309',\n",
       "  '2200_2209',\n",
       "  '2190_2199',\n",
       "  '2390_2399',\n",
       "  '1910_1919',\n",
       "  '2370_2379',\n",
       "  '2150_2159',\n",
       "  '2160_2169',\n",
       "  '2400_2409',\n",
       "  '2210_2219',\n",
       "  '1852_1853',\n",
       "  '2270_2279',\n",
       "  '2480_2489',\n",
       "  '2610_2619',\n",
       "  '2360_2369',\n",
       "  '2430_2439',\n",
       "  '2590_2599',\n",
       "  '1990_1999',\n",
       "  '2170_2179',\n",
       "  '2560_2569',\n",
       "  '2540_2549',\n",
       "  '2280_2289',\n",
       "  '1810_1819',\n",
       "  '2420_2429',\n",
       "  '1960_1969',\n",
       "  '2080_2089',\n",
       "  '2620_2629',\n",
       "  '1930_1939',\n",
       "  '1820_1829',\n",
       "  '2320_2329',\n",
       "  '2060_2069',\n",
       "  '2090_2099',\n",
       "  '2520_2529',\n",
       "  '1880_1889',\n",
       "  '2180_2189'],\n",
       " 'clim_period_length': '',\n",
       " 'simulation': ['COMPRESS',\n",
       "  'CM6013-pi-ttop-03',\n",
       "  'NOCOMPRESS',\n",
       "  'CM6013-pi-01',\n",
       "  'CM6013-pi-split-D-03',\n",
       "  'WF.02',\n",
       "  'WF.01',\n",
       "  'CM6PI.14',\n",
       "  'CM6PI.11',\n",
       "  'CM6PI.12',\n",
       "  'CM6PI.13',\n",
       "  'piCtrl.CM6.0.1',\n",
       "  'piCtrl.CM6.0.2',\n",
       "  'CM61-LR-pi-01',\n",
       "  'CPL02',\n",
       "  'WF.02.COMPRESS',\n",
       "  'O1T09V01',\n",
       "  'CM6010.2.rivtime-LR-piCtrl-01',\n",
       "  'O1T09V02',\n",
       "  'piCtrl.CM6.0.2.rrtm',\n",
       "  'CM6013-pi-ttop-rnhmin',\n",
       "  'NOCOMPRESSBIS'],\n",
       " 'status': ['PROD', 'DEVT']}"
      ]
     },
     "execution_count": 18,
     "metadata": {},
     "output_type": "execute_result"
    }
   ],
   "source": [
    "req_ipsl = ds(project='IGCM_OUT',\n",
    "              login='p86denv',\n",
    "              model='IPSLCM6',\n",
    "              simulation='*',\n",
    "              experiment='piControl',\n",
    "              DIR='OCE',\n",
    "              frequency='seasonal',\n",
    "              variable='tos')\n",
    "\n",
    "req_ipsl.explore('choices')"
   ]
  },
  {
   "cell_type": "code",
   "execution_count": 21,
   "metadata": {},
   "outputs": [
    {
     "name": "stdout",
     "output_type": "stream",
     "text": [
      "/ccc/store/cont003/thredds/p86denv/IPSLCM6/DEVT/piControl/CM6013-pi-01/OCE/Analyse/SE/CM6013-pi-01_SE_1850_1859_1M_grid_T.nc\n"
     ]
    },
    {
     "data": {
      "text/plain": [
       "{'DIR': 'OCE',\n",
       " 'OUT': 'Analyse',\n",
       " 'ave_length': '*',\n",
       " 'clim_period': '1850_1859',\n",
       " 'clim_period_length': '*',\n",
       " 'domain': 'global',\n",
       " 'experiment': 'piControl',\n",
       " 'frequency': 'seasonal',\n",
       " 'login': 'p86denv',\n",
       " 'model': 'IPSLCM6',\n",
       " 'period': fx,\n",
       " 'project': 'IGCM_OUT',\n",
       " 'root': '/ccc/store/cont003/thredds',\n",
       " 'simulation': 'CM6013-pi-01',\n",
       " 'status': 'DEVT',\n",
       " 'variable': 'tos'}"
      ]
     },
     "execution_count": 21,
     "metadata": {},
     "output_type": "execute_result"
    }
   ],
   "source": [
    "req_ipsl = ds(project='IGCM_OUT',\n",
    "              login='p86denv',\n",
    "              model='IPSLCM6',\n",
    "              simulation='CM6013-pi-01',\n",
    "              experiment='piControl',\n",
    "              DIR='OCE',\n",
    "              frequency='seasonal',\n",
    "              clim_period='1850_1859',\n",
    "              variable='tos').explore('resolve')\n",
    "summary(req_ipsl)"
   ]
  },
  {
   "cell_type": "markdown",
   "metadata": {},
   "source": [
    "# Questions?"
   ]
  }
 ],
 "metadata": {
  "kernelspec": {
   "display_name": "Python 2",
   "language": "python",
   "name": "python2"
  },
  "language_info": {
   "codemirror_mode": {
    "name": "ipython",
    "version": 2
   },
   "file_extension": ".py",
   "mimetype": "text/x-python",
   "name": "python",
   "nbconvert_exporter": "python",
   "pygments_lexer": "ipython2",
   "version": "2.7.15"
  }
 },
 "nbformat": 4,
 "nbformat_minor": 1
}
