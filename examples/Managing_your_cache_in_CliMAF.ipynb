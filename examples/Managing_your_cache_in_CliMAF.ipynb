{
 "cells": [
  {
   "cell_type": "code",
   "execution_count": 1,
   "metadata": {},
   "outputs": [
    {
     "data": {
      "text/html": [
       "<img src=\"https://vesg.ipsl.upmc.fr/thredds/fileServer/IPSLFS/jservon/CliMAF_Notebooks_html/CliMAF-logo-small.png\"/>"
      ],
      "text/plain": [
       "<IPython.core.display.Image object>"
      ]
     },
     "execution_count": 1,
     "metadata": {},
     "output_type": "execute_result"
    }
   ],
   "source": [
    "from IPython.display import Image\n",
    "Image(url='https://vesg.ipsl.upmc.fr/thredds/fileServer/IPSLFS/jservon/CliMAF_Notebooks_html/CliMAF-logo-small.png') "
   ]
  },
  {
   "cell_type": "markdown",
   "metadata": {},
   "source": [
    "### A science-oriented framework to ease the analysis of climate model simulations\n",
    "##### WP5 ANR Convergence\n",
    "##### Project leaders: Stéphane Sénési (CNRM-GAME), Jérôme Servonnat (LSCE-IPSL)\n",
    "##### Developers: Ludivine Vignon (CNRM-GAME), Laurent Franchisteguy (CNRM-GAME), Patrick Brockmann (LSCE-IPSL), Sylvana Ramos-Buarque (CNRM-GAME)\n",
    "##### Beta-testing: Olivier Marti (LSCE-IPSL), Marie-Pierre Moine (CERFACS), Emilia Sanchez-Gomez (CERFACS)\n",
    "##### Contributors: you!\n",
    "##   \n",
    "##### contact: climaf@meteo.fr"
   ]
  },
  {
   "cell_type": "markdown",
   "metadata": {},
   "source": [
    "The goals of CliMAF are to provide the scientists with simplified and science-oriented means for :\n",
    "- accessing both model and references data\n",
    "- pre-tretament (period and geographical selections, regridding, averaging like seasonal mean computations...)\n",
    "- plotting  maps, cross-sections and time series\n",
    "- building  atlases\n",
    "- plugging personal scripts in an atlas or in an analysis workflow\n",
    "- sharing such scripts\n",
    "- handlling ensembles (multi-model, multi-realization)\n",
    "CliMAF provides full managment of the outputs by handling the naming of the output files; it also stores the information on \"how I obtained this file\" under the form of an expression called CRS (CliMAF Reference Syntax) that allows checking for the existing files and avoid recomputing the same files twice (or more)."
   ]
  },
  {
   "cell_type": "markdown",
   "metadata": {},
   "source": [
    "#  \n",
    "#   "
   ]
  },
  {
   "cell_type": "markdown",
   "metadata": {},
   "source": [
    "# Understand how the CliMAF cache works and manage the content"
   ]
  },
  {
   "cell_type": "markdown",
   "metadata": {},
   "source": [
    "In this notebook we will see how the CliMAF cache works and how to:\n",
    "- 1. totally erase the content of the cache\n",
    "- 2. CliMAF stores its results and knows that those results exist (and are linked with sequences of operations)\n",
    "- 3. remove one specific result\n",
    "- 4. remove results using criteria: pattern, age...\n",
    "- 5. remove everything but a list of results you want to keep\n",
    "- 6. csync: synchronize the index with the content of the cache"
   ]
  },
  {
   "cell_type": "markdown",
   "metadata": {},
   "source": [
    "### The goal of this notebook is to give you the keys to manage the content of your cache by yourself (and potentially setup automatic cleaning at the end of your scripts)\n",
    "### See the documentation on the tools to manage the cache for more details:\n",
    "https://climaf.readthedocs.io/en/master/functions_results_cache.html"
   ]
  },
  {
   "cell_type": "markdown",
   "metadata": {},
   "source": [
    "#  "
   ]
  },
  {
   "cell_type": "markdown",
   "metadata": {},
   "source": [
    "## First, import climaf"
   ]
  },
  {
   "cell_type": "code",
   "execution_count": 1,
   "metadata": {},
   "outputs": [
    {
     "name": "stdout",
     "output_type": "stream",
     "text": [
      "('LC debug :', False)\n",
      "CliMAF install => /ciclad-home/jservon/Evaluation/CliMAF/climaf_installs/climaf_1.2.12\n",
      "python => /prodigfs/ipslfs/dods/jservon/miniconda/envs/cesmep_env/bin/python\n",
      "---\n",
      "Required softwares to run CliMAF => you are using the following versions/installations:\n",
      "ncl 6.3.0 => /opt/ncl-6.3.0/bin/ncl\n",
      "cdo 1.9.6 => /opt/nco/1.9/bin/cdo\n",
      "nco (ncks) 4.5.2 => /opt/nco-4.5.2/bin/ncks\n",
      "ncdump 4.4.1.1 => /prodigfs/ipslfs/dods/jservon/miniconda/envs/cesmep_env/bin/ncdump\n",
      "---\n"
     ]
    },
    {
     "name": "stderr",
     "output_type": "stream",
     "text": [
      "CliMAF version = 1.2.12\n",
      "Cache directory set to : /data/jservon/climafcache (use $CLIMAF_CACHE if set) \n",
      "Cache directory for remote data set to : /data/jservon/climafcache/remote_data (use $CLIMAF_REMOTE_CACHE if set) \n",
      "Available macros read from ~/.climaf.macros are : []\n"
     ]
    }
   ],
   "source": [
    "from climaf.api import *"
   ]
  },
  {
   "cell_type": "markdown",
   "metadata": {},
   "source": [
    "### And set verbosity ('critical' -> minimum ; 'debug' -> maximum)"
   ]
  },
  {
   "cell_type": "code",
   "execution_count": 2,
   "metadata": {},
   "outputs": [],
   "source": [
    "clog('critical') # min verbosity = critical < warning < info < debug = max verbosity"
   ]
  },
  {
   "cell_type": "markdown",
   "metadata": {},
   "source": [
    "### ... and dont' forget to open the documentation in case you have questions.\n",
    "### http://climaf.readthedocs.org/\n",
    "### -> Use the \"Quick search\" space to search for what you are interested in, it is really powerfull!\n",
    "###  "
   ]
  },
  {
   "cell_type": "markdown",
   "metadata": {},
   "source": [
    "# 1. Start with a brand new cache: totally erase the content of the cache"
   ]
  },
  {
   "cell_type": "markdown",
   "metadata": {},
   "source": [
    "### !! Be careful when you do this!! it will completely remove all the results of your cache!\n",
    "### !! Consider using a 'test' cache to do this (simply add 'test' at the end of your CLIMAF_CACHE variable, and re-start)"
   ]
  },
  {
   "cell_type": "code",
   "execution_count": 3,
   "metadata": {},
   "outputs": [
    {
     "data": {
      "text/plain": [
       "['/data/jservon/climafcache']"
      ]
     },
     "execution_count": 3,
     "metadata": {},
     "output_type": "execute_result"
    }
   ],
   "source": [
    "# -- Check which cache your are using\n",
    "from climaf.cache import cachedirs\n",
    "cachedirs"
   ]
  },
  {
   "cell_type": "markdown",
   "metadata": {},
   "source": [
    "## If you already have a cache, you can see an index file at its root path:"
   ]
  },
  {
   "cell_type": "code",
   "execution_count": 4,
   "metadata": {},
   "outputs": [
    {
     "name": "stdout",
     "output_type": "stream",
     "text": [
      "(dp0\r\n",
      "S\"plot(minus(regridn(ccdo(ccdo(ds('CMIP5%r1i1p1%tos%1980-2000%global%/bdd%CNRM-CM5%*%historical%r1i1p1%monthly%*%latest'),operator='ymonavg'),operator='timmean -seltimestep,1,2,12'),cdogrid='r360x180'),regridn(ccdo(ccdo(ds('ref_climatos%refproduct%tos%fx%global%annual_cycle%WOA13-v2%195501-201212%*%*%*%*'),operator='ymonavg'),operator='timmean -seltimestep,1,2,12'),cdogrid='r360x180')))\"\r\n",
      "p1\r\n",
      "S'/data/jservon/climafcache/36dc7/12dea/f1e02/5fb40/ebfcb/12074/1e7e4/0d6ba/ca5af/e5493/c2ce7/d.png'\r\n",
      "p2\r\n",
      "s."
     ]
    }
   ],
   "source": [
    "cachedir = cachedirs[0]\n",
    "!cat $cachedir/index"
   ]
  },
  {
   "cell_type": "markdown",
   "metadata": {},
   "source": [
    "### clist will retrieve the list of the CRS of the existing results from the index file $CLIMAF_CACHE/index"
   ]
  },
  {
   "cell_type": "code",
   "execution_count": 5,
   "metadata": {},
   "outputs": [
    {
     "name": "stdout",
     "output_type": "stream",
     "text": [
      "Content of CliMAF cache\n"
     ]
    },
    {
     "data": {
      "text/plain": [
       "[\"plot(minus(regridn(ccdo(ccdo(ds('CMIP5%r1i1p1%tos%1980-2000%global%/bdd%CNRM-CM5%*%historical%r1i1p1%monthly%*%latest'),operator='ymonavg'),operator='timmean -seltimestep,1,2,12'),cdogrid='r360x180'),regridn(ccdo(ccdo(ds('ref_climatos%refproduct%tos%fx%global%annual_cycle%WOA13-v2%195501-201212%*%*%*%*'),operator='ymonavg'),operator='timmean -seltimestep,1,2,12'),cdogrid='r360x180')))\"]"
      ]
     },
     "execution_count": 5,
     "metadata": {},
     "output_type": "execute_result"
    }
   ],
   "source": [
    "clist()"
   ]
  },
  {
   "cell_type": "markdown",
   "metadata": {},
   "source": [
    "## For demo purposes, we will start with a clean cache.\n",
    "## Use craz() to fully erase your cache and restart with a clean one\n",
    "https://climaf.readthedocs.io/en/master/functions_results_cache.html?highlight=craz#craz-reset-cache"
   ]
  },
  {
   "cell_type": "code",
   "execution_count": 9,
   "metadata": {},
   "outputs": [],
   "source": [
    "craz(force=True)"
   ]
  },
  {
   "cell_type": "markdown",
   "metadata": {},
   "source": [
    "## Now check the content of your cache with clist()\n",
    "### clist will retrieve the list of the CRS of the existing results from the index file $CLIMAF_CACHE/index"
   ]
  },
  {
   "cell_type": "code",
   "execution_count": 10,
   "metadata": {},
   "outputs": [
    {
     "name": "stdout",
     "output_type": "stream",
     "text": [
      "Content of CliMAF cache\n"
     ]
    },
    {
     "data": {
      "text/plain": [
       "[]"
      ]
     },
     "execution_count": 10,
     "metadata": {},
     "output_type": "execute_result"
    }
   ],
   "source": [
    "clist()"
   ]
  },
  {
   "cell_type": "markdown",
   "metadata": {},
   "source": [
    "### Because we've just cleaned it, your cache is now totally empty.\n",
    "#  \n",
    "## 2. How CliMAF stores its results and knows that those results exist (and are linked with sequences of operations)"
   ]
  },
  {
   "cell_type": "markdown",
   "metadata": {},
   "source": [
    "### As an example, we will extract a dataset from the CMIP5 archive and do some pretreatments to add results to the cache"
   ]
  },
  {
   "cell_type": "code",
   "execution_count": 11,
   "metadata": {},
   "outputs": [
    {
     "name": "stdout",
     "output_type": "stream",
     "text": [
      "/bdd/CMIP5/output/CNRM-CERFACS/CNRM-CM5/historical/mon/ocean/Omon/r1i1p1/latest/tos/tos_Omon_CNRM-CM5_historical_r1i1p1_198001-198912.nc\n",
      "/bdd/CMIP5/output/CNRM-CERFACS/CNRM-CM5/historical/mon/ocean/Omon/r1i1p1/latest/tos/tos_Omon_CNRM-CM5_historical_r1i1p1_199001-199912.nc\n",
      "/bdd/CMIP5/output/CNRM-CERFACS/CNRM-CM5/historical/mon/ocean/Omon/r1i1p1/latest/tos/tos_Omon_CNRM-CM5_historical_r1i1p1_200001-200512.nc\n"
     ]
    },
    {
     "data": {
      "text/plain": [
       "{'domain': 'global',\n",
       " 'experiment': 'historical',\n",
       " 'frequency': 'monthly',\n",
       " 'model': 'CNRM-CM5',\n",
       " 'period': 1980-2000,\n",
       " 'project': 'CMIP5',\n",
       " 'realization': 'r1i1p1',\n",
       " 'realm': '*',\n",
       " 'root': '/bdd',\n",
       " 'simulation': 'r1i1p1',\n",
       " 'table': '*',\n",
       " 'variable': 'tos',\n",
       " 'version': 'latest'}"
      ]
     },
     "execution_count": 11,
     "metadata": {},
     "output_type": "execute_result"
    }
   ],
   "source": [
    "# -- Let's get some data as a start\n",
    "dat_cmip5 = ds(project='CMIP5',\n",
    "               model='CNRM-CM5',\n",
    "               variable='tos',\n",
    "               experiment='historical',\n",
    "               period='1980-2000',\n",
    "               frequency='monthly',\n",
    "               simulation='r1i1p1',\n",
    "               version='latest'\n",
    "               )\n",
    "summary(dat_cmip5)"
   ]
  },
  {
   "cell_type": "markdown",
   "metadata": {},
   "source": [
    "## At this stage, dat_cmip5 is only a python object. CliMAF does not load data in memory."
   ]
  },
  {
   "cell_type": "code",
   "execution_count": 12,
   "metadata": {},
   "outputs": [
    {
     "data": {
      "text/plain": [
       "\"ds('CMIP5%r1i1p1%tos%1980-2000%global%/bdd%CNRM-CM5%*%historical%r1i1p1%monthly%*%latest')\""
      ]
     },
     "execution_count": 12,
     "metadata": {},
     "output_type": "execute_result"
    }
   ],
   "source": [
    "dat_cmip5.crs"
   ]
  },
  {
   "cell_type": "markdown",
   "metadata": {},
   "source": [
    "## If I want to get the result of this data request, I use cfile() to return the netcdf file:\n",
    "https://climaf.readthedocs.io/en/master/functions_results_numeric.html?highlight=cfile#cfile-get-the-file-value-of-a-climaf-object\n",
    "## CliMAF automatically provides a unique name to the output based on:\n",
    " - the root path of the cache ($CLIMAF_CACHE, or the variable cachedirs)\n",
    " - a hash of the CRS"
   ]
  },
  {
   "cell_type": "code",
   "execution_count": 13,
   "metadata": {},
   "outputs": [
    {
     "data": {
      "text/plain": [
       "'/data/jservon/climafcache/89f3a/1535f/b106c/37247/4f837/36150/4ecdb/20086/2a547/68ba7/cd864/2.nc'"
      ]
     },
     "execution_count": 13,
     "metadata": {},
     "output_type": "execute_result"
    }
   ],
   "source": [
    "cfile(dat_cmip5)"
   ]
  },
  {
   "cell_type": "markdown",
   "metadata": {},
   "source": [
    "## When using cfile on your CliMAF object, CliMAF stores the CRS of the new results in the cache in the memory of the python session"
   ]
  },
  {
   "cell_type": "code",
   "execution_count": 14,
   "metadata": {},
   "outputs": [
    {
     "name": "stdout",
     "output_type": "stream",
     "text": [
      "Content of CliMAF cache\n"
     ]
    },
    {
     "data": {
      "text/plain": [
       "[\"select(ds('CMIP5%r1i1p1%tos%1980-2000%global%/bdd%CNRM-CM5%*%historical%r1i1p1%monthly%*%latest'))\"]"
      ]
     },
     "execution_count": 14,
     "metadata": {},
     "output_type": "execute_result"
    }
   ],
   "source": [
    "clist()"
   ]
  },
  {
   "cell_type": "markdown",
   "metadata": {},
   "source": [
    "## If you reinvoke cfile on the same object, it will:\n",
    "- scan this list\n",
    "- see that this sequence of operations has already been executed\n",
    "- and directly return the file associated with it"
   ]
  },
  {
   "cell_type": "code",
   "execution_count": 15,
   "metadata": {},
   "outputs": [
    {
     "data": {
      "text/plain": [
       "'/data/jservon/climafcache/89f3a/1535f/b106c/37247/4f837/36150/4ecdb/20086/2a547/68ba7/cd864/2.nc'"
      ]
     },
     "execution_count": 15,
     "metadata": {},
     "output_type": "execute_result"
    }
   ],
   "source": [
    "cfile(dat_cmip5)"
   ]
  },
  {
   "cell_type": "markdown",
   "metadata": {},
   "source": [
    "## Let's add some more stuff in the cache"
   ]
  },
  {
   "cell_type": "code",
   "execution_count": 16,
   "metadata": {},
   "outputs": [
    {
     "name": "stdout",
     "output_type": "stream",
     "text": [
      "/data/jservon/Evaluation/ReferenceDatasets/climatos/ocn/mo/tos/WOA13-v2/ac/tos_Omon_WOA13-v2_observations_195501-201212-clim.nc\n"
     ]
    },
    {
     "data": {
      "text/plain": [
       "{'clim_period': '195501-201212',\n",
       " 'clim_period_begin': '*',\n",
       " 'clim_period_end': '*',\n",
       " 'domain': 'global',\n",
       " 'frequency': 'annual_cycle',\n",
       " 'obs_type': '*',\n",
       " 'period': fx,\n",
       " 'product': 'WOA13-v2',\n",
       " 'project': 'ref_climatos',\n",
       " 'simulation': 'refproduct',\n",
       " 'table': '*',\n",
       " 'variable': 'tos'}"
      ]
     },
     "execution_count": 16,
     "metadata": {},
     "output_type": "execute_result"
    }
   ],
   "source": [
    "ref = ds(project='ref_climatos', variable='tos', product='WOA13-v2', clim_period='195501-201212')\n",
    "summary(ref)"
   ]
  },
  {
   "cell_type": "code",
   "execution_count": 18,
   "metadata": {},
   "outputs": [
    {
     "data": {
      "text/plain": [
       "'/data/jservon/climafcache/36dc7/12dea/f1e02/5fb40/ebfcb/12074/1e7e4/0d6ba/ca5af/e5493/c2ce7/d.png'"
      ]
     },
     "execution_count": 18,
     "metadata": {},
     "output_type": "execute_result"
    }
   ],
   "source": [
    "# -- Compute a DJF climatology\n",
    "djf_dat = clim_average(dat_cmip5, 'DJF')\n",
    "djf_ref = clim_average(ref, 'DJF')\n",
    "\n",
    "# -- Regrid ref and simulation on the same regular grid\n",
    "rgrd_dat = regridn(djf_dat, cdogrid='r360x180')\n",
    "rgrd_ref = regridn(djf_ref, cdogrid='r360x180')\n",
    "\n",
    "# -- And compute the difference\n",
    "bias = minus(rgrd_dat, rgrd_ref)\n",
    "\n",
    "# -- Make a simple plot\n",
    "myplot = plot(bias)\n",
    "\n",
    "# -- And execute the final object\n",
    "cfile(myplot)"
   ]
  },
  {
   "cell_type": "markdown",
   "metadata": {},
   "source": [
    "## When you cfile(myplot), CliMAF will:\n",
    "- analyse the 'tree of operations' that lead to the result\n",
    "- check if it has the operands of the tree\n",
    "- use the ones it has\n",
    "- and compute the ones missing\n",
    "\n",
    "## The cache now have more results, corresponding to intermediate results leading to the final plot:"
   ]
  },
  {
   "cell_type": "code",
   "execution_count": 19,
   "metadata": {},
   "outputs": [
    {
     "name": "stdout",
     "output_type": "stream",
     "text": [
      "Content of CliMAF cache\n"
     ]
    },
    {
     "data": {
      "text/plain": [
       "[\"ccdo(ds('CMIP5%r1i1p1%tos%1980-2000%global%/bdd%CNRM-CM5%*%historical%r1i1p1%monthly%*%latest'),operator='ymonavg')\",\n",
       " \"select(ds('CMIP5%r1i1p1%tos%1980-2000%global%/bdd%CNRM-CM5%*%historical%r1i1p1%monthly%*%latest'))\",\n",
       " \"minus(regridn(ccdo(ccdo(ds('CMIP5%r1i1p1%tos%1980-2000%global%/bdd%CNRM-CM5%*%historical%r1i1p1%monthly%*%latest'),operator='ymonavg'),operator='timmean -seltimestep,1,2,12'),cdogrid='r360x180'),regridn(ccdo(ccdo(ds('ref_climatos%refproduct%tos%fx%global%annual_cycle%WOA13-v2%195501-201212%*%*%*%*'),operator='ymonavg'),operator='timmean -seltimestep,1,2,12'),cdogrid='r360x180'))\",\n",
       " \"ccdo(ds('ref_climatos%refproduct%tos%fx%global%annual_cycle%WOA13-v2%195501-201212%*%*%*%*'),operator='ymonavg')\",\n",
       " \"ccdo(ccdo(ds('ref_climatos%refproduct%tos%fx%global%annual_cycle%WOA13-v2%195501-201212%*%*%*%*'),operator='ymonavg'),operator='timmean -seltimestep,1,2,12')\",\n",
       " \"select(ds('ref_climatos%refproduct%tos%fx%global%annual_cycle%WOA13-v2%195501-201212%*%*%*%*'))\",\n",
       " \"plot(minus(regridn(ccdo(ccdo(ds('CMIP5%r1i1p1%tos%1980-2000%global%/bdd%CNRM-CM5%*%historical%r1i1p1%monthly%*%latest'),operator='ymonavg'),operator='timmean -seltimestep,1,2,12'),cdogrid='r360x180'),regridn(ccdo(ccdo(ds('ref_climatos%refproduct%tos%fx%global%annual_cycle%WOA13-v2%195501-201212%*%*%*%*'),operator='ymonavg'),operator='timmean -seltimestep,1,2,12'),cdogrid='r360x180')))\",\n",
       " \"regridn(ccdo(ccdo(ds('ref_climatos%refproduct%tos%fx%global%annual_cycle%WOA13-v2%195501-201212%*%*%*%*'),operator='ymonavg'),operator='timmean -seltimestep,1,2,12'),cdogrid='r360x180')\",\n",
       " \"regridn(ccdo(ccdo(ds('CMIP5%r1i1p1%tos%1980-2000%global%/bdd%CNRM-CM5%*%historical%r1i1p1%monthly%*%latest'),operator='ymonavg'),operator='timmean -seltimestep,1,2,12'),cdogrid='r360x180')\",\n",
       " \"ccdo(ccdo(ds('CMIP5%r1i1p1%tos%1980-2000%global%/bdd%CNRM-CM5%*%historical%r1i1p1%monthly%*%latest'),operator='ymonavg'),operator='timmean -seltimestep,1,2,12')\"]"
      ]
     },
     "execution_count": 19,
     "metadata": {},
     "output_type": "execute_result"
    }
   ],
   "source": [
    "clist()"
   ]
  },
  {
   "cell_type": "markdown",
   "metadata": {},
   "source": [
    "## 3. Remove one specific result: cdrop\n",
    "https://climaf.readthedocs.io/en/master/functions_results_cache.html?highlight=cdrop#cdrop-erase-a-result-s-file"
   ]
  },
  {
   "cell_type": "markdown",
   "metadata": {},
   "source": [
    "### Let's say that we want to remove the regridded climatologies only. We use cdrop to do this:"
   ]
  },
  {
   "cell_type": "code",
   "execution_count": 20,
   "metadata": {},
   "outputs": [
    {
     "data": {
      "text/plain": [
       "True"
      ]
     },
     "execution_count": 20,
     "metadata": {},
     "output_type": "execute_result"
    }
   ],
   "source": [
    "cdrop(rgrd_dat)\n",
    "cdrop(rgrd_ref)"
   ]
  },
  {
   "cell_type": "markdown",
   "metadata": {},
   "source": [
    "### You can confirm with clist() that the files are removed:"
   ]
  },
  {
   "cell_type": "code",
   "execution_count": 21,
   "metadata": {},
   "outputs": [
    {
     "name": "stdout",
     "output_type": "stream",
     "text": [
      "Content of CliMAF cache\n"
     ]
    },
    {
     "data": {
      "text/plain": [
       "[\"ccdo(ds('CMIP5%r1i1p1%tos%1980-2000%global%/bdd%CNRM-CM5%*%historical%r1i1p1%monthly%*%latest'),operator='ymonavg')\",\n",
       " \"select(ds('CMIP5%r1i1p1%tos%1980-2000%global%/bdd%CNRM-CM5%*%historical%r1i1p1%monthly%*%latest'))\",\n",
       " \"minus(regridn(ccdo(ccdo(ds('CMIP5%r1i1p1%tos%1980-2000%global%/bdd%CNRM-CM5%*%historical%r1i1p1%monthly%*%latest'),operator='ymonavg'),operator='timmean -seltimestep,1,2,12'),cdogrid='r360x180'),regridn(ccdo(ccdo(ds('ref_climatos%refproduct%tos%fx%global%annual_cycle%WOA13-v2%195501-201212%*%*%*%*'),operator='ymonavg'),operator='timmean -seltimestep,1,2,12'),cdogrid='r360x180'))\",\n",
       " \"ccdo(ds('ref_climatos%refproduct%tos%fx%global%annual_cycle%WOA13-v2%195501-201212%*%*%*%*'),operator='ymonavg')\",\n",
       " \"ccdo(ccdo(ds('ref_climatos%refproduct%tos%fx%global%annual_cycle%WOA13-v2%195501-201212%*%*%*%*'),operator='ymonavg'),operator='timmean -seltimestep,1,2,12')\",\n",
       " \"select(ds('ref_climatos%refproduct%tos%fx%global%annual_cycle%WOA13-v2%195501-201212%*%*%*%*'))\",\n",
       " \"plot(minus(regridn(ccdo(ccdo(ds('CMIP5%r1i1p1%tos%1980-2000%global%/bdd%CNRM-CM5%*%historical%r1i1p1%monthly%*%latest'),operator='ymonavg'),operator='timmean -seltimestep,1,2,12'),cdogrid='r360x180'),regridn(ccdo(ccdo(ds('ref_climatos%refproduct%tos%fx%global%annual_cycle%WOA13-v2%195501-201212%*%*%*%*'),operator='ymonavg'),operator='timmean -seltimestep,1,2,12'),cdogrid='r360x180')))\",\n",
       " \"ccdo(ccdo(ds('CMIP5%r1i1p1%tos%1980-2000%global%/bdd%CNRM-CM5%*%historical%r1i1p1%monthly%*%latest'),operator='ymonavg'),operator='timmean -seltimestep,1,2,12')\"]"
      ]
     },
     "execution_count": 21,
     "metadata": {},
     "output_type": "execute_result"
    }
   ],
   "source": [
    "clist()"
   ]
  },
  {
   "cell_type": "markdown",
   "metadata": {},
   "source": [
    "## 4. Remove results using conditions (pattern, age, size): crm\n",
    "https://climaf.readthedocs.io/en/master/functions_results_cache.html?highlight=cdrop#crm-remove-some-files-from-cache"
   ]
  },
  {
   "cell_type": "markdown",
   "metadata": {},
   "source": [
    "### Now, we would like to clean all the results associated with the CNRM-CM5 simulations\n",
    "### We use crm(pattern='CNRM-CM5') to remove all the results containing 'CNRM-CM5' in their CRS:"
   ]
  },
  {
   "cell_type": "code",
   "execution_count": 22,
   "metadata": {},
   "outputs": [
    {
     "name": "stdout",
     "output_type": "stream",
     "text": [
      "Removed files:\n"
     ]
    },
    {
     "data": {
      "text/plain": [
       "[\"ccdo(ds('CMIP5%r1i1p1%tos%1980-2000%global%/bdd%CNRM-CM5%*%historical%r1i1p1%monthly%*%latest'),operator='ymonavg')\",\n",
       " \"minus(regridn(ccdo(ccdo(ds('CMIP5%r1i1p1%tos%1980-2000%global%/bdd%CNRM-CM5%*%historical%r1i1p1%monthly%*%latest'),operator='ymonavg'),operator='timmean -seltimestep,1,2,12'),cdogrid='r360x180'),regridn(ccdo(ccdo(ds('ref_climatos%refproduct%tos%fx%global%annual_cycle%WOA13-v2%195501-201212%*%*%*%*'),operator='ymonavg'),operator='timmean -seltimestep,1,2,12'),cdogrid='r360x180'))\",\n",
       " \"plot(minus(regridn(ccdo(ccdo(ds('CMIP5%r1i1p1%tos%1980-2000%global%/bdd%CNRM-CM5%*%historical%r1i1p1%monthly%*%latest'),operator='ymonavg'),operator='timmean -seltimestep,1,2,12'),cdogrid='r360x180'),regridn(ccdo(ccdo(ds('ref_climatos%refproduct%tos%fx%global%annual_cycle%WOA13-v2%195501-201212%*%*%*%*'),operator='ymonavg'),operator='timmean -seltimestep,1,2,12'),cdogrid='r360x180')))\",\n",
       " \"select(ds('CMIP5%r1i1p1%tos%1980-2000%global%/bdd%CNRM-CM5%*%historical%r1i1p1%monthly%*%latest'))\",\n",
       " \"ccdo(ccdo(ds('CMIP5%r1i1p1%tos%1980-2000%global%/bdd%CNRM-CM5%*%historical%r1i1p1%monthly%*%latest'),operator='ymonavg'),operator='timmean -seltimestep,1,2,12')\"]"
      ]
     },
     "execution_count": 22,
     "metadata": {},
     "output_type": "execute_result"
    }
   ],
   "source": [
    "crm(pattern='CNRM-CM5')"
   ]
  },
  {
   "cell_type": "markdown",
   "metadata": {},
   "source": [
    "### Now you should only have the reference, and its annual cycle and DJF climatology"
   ]
  },
  {
   "cell_type": "code",
   "execution_count": 23,
   "metadata": {},
   "outputs": [
    {
     "name": "stdout",
     "output_type": "stream",
     "text": [
      "Content of CliMAF cache\n"
     ]
    },
    {
     "data": {
      "text/plain": [
       "[\"ccdo(ds('ref_climatos%refproduct%tos%fx%global%annual_cycle%WOA13-v2%195501-201212%*%*%*%*'),operator='ymonavg')\",\n",
       " \"ccdo(ccdo(ds('ref_climatos%refproduct%tos%fx%global%annual_cycle%WOA13-v2%195501-201212%*%*%*%*'),operator='ymonavg'),operator='timmean -seltimestep,1,2,12')\",\n",
       " \"select(ds('ref_climatos%refproduct%tos%fx%global%annual_cycle%WOA13-v2%195501-201212%*%*%*%*'))\"]"
      ]
     },
     "execution_count": 23,
     "metadata": {},
     "output_type": "execute_result"
    }
   ],
   "source": [
    "clist()"
   ]
  },
  {
   "cell_type": "markdown",
   "metadata": {},
   "source": [
    "### We can also use crm() to remove files on their age. For instance, let's remove all the results that haven't been touched for more than 20 days:"
   ]
  },
  {
   "cell_type": "code",
   "execution_count": 24,
   "metadata": {},
   "outputs": [],
   "source": [
    "crm(age='+20')"
   ]
  },
  {
   "cell_type": "markdown",
   "metadata": {},
   "source": [
    "#### (We've started with a new cache... so the demo might not be very impressive... it won't actually return anything)"
   ]
  },
  {
   "cell_type": "markdown",
   "metadata": {},
   "source": [
    "### Or remove files on their sizes; remove all the files bigger than 2M"
   ]
  },
  {
   "cell_type": "code",
   "execution_count": 25,
   "metadata": {},
   "outputs": [
    {
     "name": "stdout",
     "output_type": "stream",
     "text": [
      "Removed files:\n"
     ]
    },
    {
     "data": {
      "text/plain": [
       "[\"select(ds('ref_climatos%refproduct%tos%fx%global%annual_cycle%WOA13-v2%195501-201212%*%*%*%*'))\",\n",
       " \"ccdo(ds('ref_climatos%refproduct%tos%fx%global%annual_cycle%WOA13-v2%195501-201212%*%*%*%*'),operator='ymonavg')\"]"
      ]
     },
     "execution_count": 25,
     "metadata": {},
     "output_type": "execute_result"
    }
   ],
   "source": [
    "crm(size='2M')"
   ]
  },
  {
   "cell_type": "markdown",
   "metadata": {},
   "source": [
    "### Check the sizes of the elements in the cache with cdu()"
   ]
  },
  {
   "cell_type": "code",
   "execution_count": 26,
   "metadata": {},
   "outputs": [
    {
     "name": "stdout",
     "output_type": "stream",
     "text": [
      "   1.0K : total\n",
      "   1.0K : ccdo(ccdo(ds('ref_climatos%refproduct%tos%fx%global%annual_cycle%WOA13-v2%195501-201212%*%*%*%*'),operator='ymonavg'),operator='timmean -seltimestep,1,2,12')\n"
     ]
    }
   ],
   "source": [
    "cdu()"
   ]
  },
  {
   "cell_type": "markdown",
   "metadata": {},
   "source": [
    "### => you can combine those conditions:"
   ]
  },
  {
   "cell_type": "code",
   "execution_count": 27,
   "metadata": {},
   "outputs": [],
   "source": [
    "crm(pattern='CNRM-CM5', age='+20', size='3M')"
   ]
  },
  {
   "cell_type": "markdown",
   "metadata": {},
   "source": [
    "## 5. cprotect: remove everything but one result (a list of results) you want to keep!"
   ]
  },
  {
   "cell_type": "markdown",
   "metadata": {},
   "source": [
    "### Let's start by putting some results back in the cache:"
   ]
  },
  {
   "cell_type": "code",
   "execution_count": 28,
   "metadata": {},
   "outputs": [
    {
     "data": {
      "text/plain": [
       "'/data/jservon/climafcache/36dc7/12dea/f1e02/5fb40/ebfcb/12074/1e7e4/0d6ba/ca5af/e5493/c2ce7/d.png'"
      ]
     },
     "execution_count": 28,
     "metadata": {},
     "output_type": "execute_result"
    }
   ],
   "source": [
    "# -- And execute the final object\n",
    "cfile(myplot)"
   ]
  },
  {
   "cell_type": "code",
   "execution_count": 30,
   "metadata": {},
   "outputs": [
    {
     "name": "stdout",
     "output_type": "stream",
     "text": [
      "Content of CliMAF cache\n"
     ]
    },
    {
     "data": {
      "text/plain": [
       "[\"ccdo(ds('CMIP5%r1i1p1%tos%1980-2000%global%/bdd%CNRM-CM5%*%historical%r1i1p1%monthly%*%latest'),operator='ymonavg')\",\n",
       " \"regridn(ccdo(ccdo(ds('CMIP5%r1i1p1%tos%1980-2000%global%/bdd%CNRM-CM5%*%historical%r1i1p1%monthly%*%latest'),operator='ymonavg'),operator='timmean -seltimestep,1,2,12'),cdogrid='r360x180')\",\n",
       " \"minus(regridn(ccdo(ccdo(ds('CMIP5%r1i1p1%tos%1980-2000%global%/bdd%CNRM-CM5%*%historical%r1i1p1%monthly%*%latest'),operator='ymonavg'),operator='timmean -seltimestep,1,2,12'),cdogrid='r360x180'),regridn(ccdo(ccdo(ds('ref_climatos%refproduct%tos%fx%global%annual_cycle%WOA13-v2%195501-201212%*%*%*%*'),operator='ymonavg'),operator='timmean -seltimestep,1,2,12'),cdogrid='r360x180'))\",\n",
       " \"ccdo(ccdo(ds('ref_climatos%refproduct%tos%fx%global%annual_cycle%WOA13-v2%195501-201212%*%*%*%*'),operator='ymonavg'),operator='timmean -seltimestep,1,2,12')\",\n",
       " \"plot(minus(regridn(ccdo(ccdo(ds('CMIP5%r1i1p1%tos%1980-2000%global%/bdd%CNRM-CM5%*%historical%r1i1p1%monthly%*%latest'),operator='ymonavg'),operator='timmean -seltimestep,1,2,12'),cdogrid='r360x180'),regridn(ccdo(ccdo(ds('ref_climatos%refproduct%tos%fx%global%annual_cycle%WOA13-v2%195501-201212%*%*%*%*'),operator='ymonavg'),operator='timmean -seltimestep,1,2,12'),cdogrid='r360x180')))\",\n",
       " \"regridn(ccdo(ccdo(ds('ref_climatos%refproduct%tos%fx%global%annual_cycle%WOA13-v2%195501-201212%*%*%*%*'),operator='ymonavg'),operator='timmean -seltimestep,1,2,12'),cdogrid='r360x180')\",\n",
       " \"select(ds('CMIP5%r1i1p1%tos%1980-2000%global%/bdd%CNRM-CM5%*%historical%r1i1p1%monthly%*%latest'))\",\n",
       " \"ccdo(ccdo(ds('CMIP5%r1i1p1%tos%1980-2000%global%/bdd%CNRM-CM5%*%historical%r1i1p1%monthly%*%latest'),operator='ymonavg'),operator='timmean -seltimestep,1,2,12')\"]"
      ]
     },
     "execution_count": 30,
     "metadata": {},
     "output_type": "execute_result"
    }
   ],
   "source": [
    "clist()"
   ]
  },
  {
   "cell_type": "markdown",
   "metadata": {},
   "source": [
    "### We would like to save only the final result => the plot\n",
    "### => We will protect 'myplot' in the cache with cprotect()"
   ]
  },
  {
   "cell_type": "code",
   "execution_count": 31,
   "metadata": {},
   "outputs": [],
   "source": [
    "cprotect(myplot)"
   ]
  },
  {
   "cell_type": "code",
   "execution_count": 32,
   "metadata": {},
   "outputs": [
    {
     "name": "stdout",
     "output_type": "stream",
     "text": [
      "Content of CliMAF cache\n"
     ]
    },
    {
     "data": {
      "text/plain": [
       "[\"ccdo(ds('CMIP5%r1i1p1%tos%1980-2000%global%/bdd%CNRM-CM5%*%historical%r1i1p1%monthly%*%latest'),operator='ymonavg')\",\n",
       " \"regridn(ccdo(ccdo(ds('CMIP5%r1i1p1%tos%1980-2000%global%/bdd%CNRM-CM5%*%historical%r1i1p1%monthly%*%latest'),operator='ymonavg'),operator='timmean -seltimestep,1,2,12'),cdogrid='r360x180')\",\n",
       " \"minus(regridn(ccdo(ccdo(ds('CMIP5%r1i1p1%tos%1980-2000%global%/bdd%CNRM-CM5%*%historical%r1i1p1%monthly%*%latest'),operator='ymonavg'),operator='timmean -seltimestep,1,2,12'),cdogrid='r360x180'),regridn(ccdo(ccdo(ds('ref_climatos%refproduct%tos%fx%global%annual_cycle%WOA13-v2%195501-201212%*%*%*%*'),operator='ymonavg'),operator='timmean -seltimestep,1,2,12'),cdogrid='r360x180'))\",\n",
       " \"ccdo(ccdo(ds('ref_climatos%refproduct%tos%fx%global%annual_cycle%WOA13-v2%195501-201212%*%*%*%*'),operator='ymonavg'),operator='timmean -seltimestep,1,2,12')\",\n",
       " \"plot(minus(regridn(ccdo(ccdo(ds('CMIP5%r1i1p1%tos%1980-2000%global%/bdd%CNRM-CM5%*%historical%r1i1p1%monthly%*%latest'),operator='ymonavg'),operator='timmean -seltimestep,1,2,12'),cdogrid='r360x180'),regridn(ccdo(ccdo(ds('ref_climatos%refproduct%tos%fx%global%annual_cycle%WOA13-v2%195501-201212%*%*%*%*'),operator='ymonavg'),operator='timmean -seltimestep,1,2,12'),cdogrid='r360x180')))\",\n",
       " \"regridn(ccdo(ccdo(ds('ref_climatos%refproduct%tos%fx%global%annual_cycle%WOA13-v2%195501-201212%*%*%*%*'),operator='ymonavg'),operator='timmean -seltimestep,1,2,12'),cdogrid='r360x180')\",\n",
       " \"select(ds('CMIP5%r1i1p1%tos%1980-2000%global%/bdd%CNRM-CM5%*%historical%r1i1p1%monthly%*%latest'))\",\n",
       " \"ccdo(ccdo(ds('CMIP5%r1i1p1%tos%1980-2000%global%/bdd%CNRM-CM5%*%historical%r1i1p1%monthly%*%latest'),operator='ymonavg'),operator='timmean -seltimestep,1,2,12')\"]"
      ]
     },
     "execution_count": 32,
     "metadata": {},
     "output_type": "execute_result"
    }
   ],
   "source": [
    "clist()"
   ]
  },
  {
   "cell_type": "markdown",
   "metadata": {},
   "source": [
    "### Now clean everything but the protected results in the cache with craz()"
   ]
  },
  {
   "cell_type": "code",
   "execution_count": 33,
   "metadata": {},
   "outputs": [],
   "source": [
    "craz()"
   ]
  },
  {
   "cell_type": "markdown",
   "metadata": {},
   "source": [
    "### And check what we have in the cache now:"
   ]
  },
  {
   "cell_type": "code",
   "execution_count": 34,
   "metadata": {},
   "outputs": [
    {
     "name": "stdout",
     "output_type": "stream",
     "text": [
      "Content of CliMAF cache\n"
     ]
    },
    {
     "data": {
      "text/plain": [
       "[\"plot(minus(regridn(ccdo(ccdo(ds('CMIP5%r1i1p1%tos%1980-2000%global%/bdd%CNRM-CM5%*%historical%r1i1p1%monthly%*%latest'),operator='ymonavg'),operator='timmean -seltimestep,1,2,12'),cdogrid='r360x180'),regridn(ccdo(ccdo(ds('ref_climatos%refproduct%tos%fx%global%annual_cycle%WOA13-v2%195501-201212%*%*%*%*'),operator='ymonavg'),operator='timmean -seltimestep,1,2,12'),cdogrid='r360x180')))\"]"
      ]
     },
     "execution_count": 34,
     "metadata": {},
     "output_type": "execute_result"
    }
   ],
   "source": [
    "clist()"
   ]
  },
  {
   "cell_type": "markdown",
   "metadata": {},
   "source": [
    "### Big advantage: if we cfile(myplot), we have the result rightaway without having to recompute the intermediate results!\n",
    "### => save considerable space and still take advantage of the smart cache that finds existing results"
   ]
  },
  {
   "cell_type": "markdown",
   "metadata": {},
   "source": [
    "### We will make a list of the CRS of the results we want to keep:\n",
    "### => djf_dat, djf_ref, and myplot"
   ]
  },
  {
   "cell_type": "code",
   "execution_count": 35,
   "metadata": {},
   "outputs": [],
   "source": [
    "keep_results = []\n",
    "keep_results.append(djf_dat)\n",
    "keep_results.append(djf_ref)\n",
    "keep_results.append(myplot)"
   ]
  },
  {
   "cell_type": "code",
   "execution_count": 36,
   "metadata": {},
   "outputs": [
    {
     "data": {
      "text/plain": [
       "[ccdo(ccdo(ds('CMIP5%r1i1p1%tos%1980-2000%global%/bdd%CNRM-CM5%*%historical%r1i1p1%monthly%*%latest'),operator='ymonavg'),operator='timmean -seltimestep,1,2,12'),\n",
       " ccdo(ccdo(ds('ref_climatos%refproduct%tos%fx%global%annual_cycle%WOA13-v2%195501-201212%*%*%*%*'),operator='ymonavg'),operator='timmean -seltimestep,1,2,12'),\n",
       " plot(minus(regridn(ccdo(ccdo(ds('CMIP5%r1i1p1%tos%1980-2000%global%/bdd%CNRM-CM5%*%historical%r1i1p1%monthly%*%latest'),operator='ymonavg'),operator='timmean -seltimestep,1,2,12'),cdogrid='r360x180'),regridn(ccdo(ccdo(ds('ref_climatos%refproduct%tos%fx%global%annual_cycle%WOA13-v2%195501-201212%*%*%*%*'),operator='ymonavg'),operator='timmean -seltimestep,1,2,12'),cdogrid='r360x180')))]"
      ]
     },
     "execution_count": 36,
     "metadata": {},
     "output_type": "execute_result"
    }
   ],
   "source": [
    "keep_results"
   ]
  },
  {
   "cell_type": "markdown",
   "metadata": {},
   "source": [
    "### Make a loop on the elements: do cfile on the crs, and cprotect; then craz()"
   ]
  },
  {
   "cell_type": "code",
   "execution_count": 37,
   "metadata": {},
   "outputs": [
    {
     "name": "stdout",
     "output_type": "stream",
     "text": [
      "Content of CliMAF cache\n"
     ]
    },
    {
     "data": {
      "text/plain": [
       "[\"ccdo(ccdo(ds('ref_climatos%refproduct%tos%fx%global%annual_cycle%WOA13-v2%195501-201212%*%*%*%*'),operator='ymonavg'),operator='timmean -seltimestep,1,2,12')\",\n",
       " \"plot(minus(regridn(ccdo(ccdo(ds('CMIP5%r1i1p1%tos%1980-2000%global%/bdd%CNRM-CM5%*%historical%r1i1p1%monthly%*%latest'),operator='ymonavg'),operator='timmean -seltimestep,1,2,12'),cdogrid='r360x180'),regridn(ccdo(ccdo(ds('ref_climatos%refproduct%tos%fx%global%annual_cycle%WOA13-v2%195501-201212%*%*%*%*'),operator='ymonavg'),operator='timmean -seltimestep,1,2,12'),cdogrid='r360x180')))\",\n",
       " \"ccdo(ccdo(ds('CMIP5%r1i1p1%tos%1980-2000%global%/bdd%CNRM-CM5%*%historical%r1i1p1%monthly%*%latest'),operator='ymonavg'),operator='timmean -seltimestep,1,2,12')\"]"
      ]
     },
     "execution_count": 37,
     "metadata": {},
     "output_type": "execute_result"
    }
   ],
   "source": [
    "for elt in keep_results:\n",
    "    cfile(elt)\n",
    "    cprotect(elt)\n",
    "craz()\n",
    "clist()"
   ]
  },
  {
   "cell_type": "markdown",
   "metadata": {},
   "source": [
    "### Erase a protected results: cdrop(crs, force=True)"
   ]
  },
  {
   "cell_type": "code",
   "execution_count": 38,
   "metadata": {},
   "outputs": [
    {
     "name": "stdout",
     "output_type": "stream",
     "text": [
      "Content of CliMAF cache\n"
     ]
    },
    {
     "data": {
      "text/plain": [
       "[\"ccdo(ccdo(ds('ref_climatos%refproduct%tos%fx%global%annual_cycle%WOA13-v2%195501-201212%*%*%*%*'),operator='ymonavg'),operator='timmean -seltimestep,1,2,12')\",\n",
       " \"ccdo(ccdo(ds('CMIP5%r1i1p1%tos%1980-2000%global%/bdd%CNRM-CM5%*%historical%r1i1p1%monthly%*%latest'),operator='ymonavg'),operator='timmean -seltimestep,1,2,12')\"]"
      ]
     },
     "execution_count": 38,
     "metadata": {},
     "output_type": "execute_result"
    }
   ],
   "source": [
    "cdrop(myplot, force=True)\n",
    "clist()"
   ]
  },
  {
   "cell_type": "markdown",
   "metadata": {},
   "source": [
    "### Erase the whole cache, even protected results: craz(force=True)"
   ]
  },
  {
   "cell_type": "code",
   "execution_count": 39,
   "metadata": {},
   "outputs": [
    {
     "name": "stdout",
     "output_type": "stream",
     "text": [
      "Content of CliMAF cache\n"
     ]
    },
    {
     "data": {
      "text/plain": [
       "[]"
      ]
     },
     "execution_count": 39,
     "metadata": {},
     "output_type": "execute_result"
    }
   ],
   "source": [
    "craz(force=True)\n",
    "clist()"
   ]
  },
  {
   "cell_type": "markdown",
   "metadata": {},
   "source": [
    "### This way you only keep the results you really need, if your intermediate results take too much space or inodes!"
   ]
  },
  {
   "cell_type": "markdown",
   "metadata": {},
   "source": [
    "## 6. Synchronize the file $CLIMAF_CACHE/index with the actual content of the cache: csync(True)\n",
    "### CliMAF reads the content of the cache at the beginning of the session, and then stores the CRS of the new results in memory (and not in the index file during the session)\n",
    "### This can have drawbacks when:\n",
    "- you have multiple processes working on the same cache => typically when you use parallel processes\n",
    "- some results of the cache have been manually removed\n",
    "### You then need to synchronize your index file with the actual content of the cache. To do this, we use csync():"
   ]
  },
  {
   "cell_type": "code",
   "execution_count": 50,
   "metadata": {},
   "outputs": [
    {
     "name": "stdout",
     "output_type": "stream",
     "text": [
      "(dp0\r\n",
      "S\"ccdo(ccdo(ds('CMIP5%r1i1p1%tos%1980-2000%global%/prodigfs/project%CNRM-CM5%*%historical%r1i1p1%monthly%*%*'),operator='ymonavg'),operator='timmean -seltimestep,1,2,12')\"\r\n",
      "p1\r\n",
      "S'/prodigfs/ipslfs/dods/jservon/climafcache_test/00926/2109c/c4299/c4033/34be2/09559/f88d8/0fa7a/372f5/b39b7/95e7f/2.nc'\r\n",
      "p2\r\n",
      "sS\"plot(minus(regridn(ccdo(ccdo(ds('CMIP5%r1i1p1%tos%1980-2000%global%/prodigfs/project%CNRM-CM5%*%historical%r1i1p1%monthly%*%*'),operator='ymonavg'),operator='timmean -seltimestep,1,2,12'),cdogrid='r360x180'),regridn(ccdo(ccdo(ds('ref_climatos%refproduct%tos%fx%global%annual_cycle%WOA13-v2%*'),operator='ymonavg'),operator='timmean -seltimestep,1,2,12'),cdogrid='r360x180')))\"\r\n",
      "p3\r\n",
      "S'/prodigfs/ipslfs/dods/jservon/climafcache_test/29523/272b5/8548f/c1823/dd39f/7bfcf/14d49/5b97e/97e1d/0f43d/8ad0c/e.png'\r\n",
      "p4\r\n",
      "sS\"ccdo(ccdo(ds('ref_climatos%refproduct%tos%fx%global%annual_cycle%WOA13-v2%*'),operator='ymonavg'),operator='timmean -seltimestep,1,2,12')\"\r\n",
      "p5\r\n",
      "S'/prodigfs/ipslfs/dods/jservon/climafcache_test/8524c/b1079/b42f6/e1d50/937d0/bd25c/f76a6/796e6/98331/a9540/6a99e/d.nc'\r\n",
      "p6\r\n",
      "s."
     ]
    }
   ],
   "source": [
    "# -- Check the content of the index file:\n",
    "!cat $cachedir/index"
   ]
  },
  {
   "cell_type": "code",
   "execution_count": 51,
   "metadata": {},
   "outputs": [],
   "source": [
    "# -- Synchronize\n",
    "csync(True)"
   ]
  },
  {
   "cell_type": "code",
   "execution_count": 52,
   "metadata": {},
   "outputs": [
    {
     "name": "stdout",
     "output_type": "stream",
     "text": [
      "(dp0\r\n",
      "S\"ccdo(ccdo(ds('CMIP5%r1i1p1%tos%1980-2000%global%/prodigfs/project%CNRM-CM5%*%historical%r1i1p1%monthly%*%*'),operator='ymonavg'),operator='timmean -seltimestep,1,2,12')\"\r\n",
      "p1\r\n",
      "S'/prodigfs/ipslfs/dods/jservon/climafcache_test/00926/2109c/c4299/c4033/34be2/09559/f88d8/0fa7a/372f5/b39b7/95e7f/2.nc'\r\n",
      "p2\r\n",
      "sS\"plot(minus(regridn(ccdo(ccdo(ds('CMIP5%r1i1p1%tos%1980-2000%global%/prodigfs/project%CNRM-CM5%*%historical%r1i1p1%monthly%*%*'),operator='ymonavg'),operator='timmean -seltimestep,1,2,12'),cdogrid='r360x180'),regridn(ccdo(ccdo(ds('ref_climatos%refproduct%tos%fx%global%annual_cycle%WOA13-v2%*'),operator='ymonavg'),operator='timmean -seltimestep,1,2,12'),cdogrid='r360x180')))\"\r\n",
      "p3\r\n",
      "S'/prodigfs/ipslfs/dods/jservon/climafcache_test/29523/272b5/8548f/c1823/dd39f/7bfcf/14d49/5b97e/97e1d/0f43d/8ad0c/e.png'\r\n",
      "p4\r\n",
      "sS\"ccdo(ccdo(ds('ref_climatos%refproduct%tos%fx%global%annual_cycle%WOA13-v2%*'),operator='ymonavg'),operator='timmean -seltimestep,1,2,12')\"\r\n",
      "p5\r\n",
      "S'/prodigfs/ipslfs/dods/jservon/climafcache_test/8524c/b1079/b42f6/e1d50/937d0/bd25c/f76a6/796e6/98331/a9540/6a99e/d.nc'\r\n",
      "p6\r\n",
      "s."
     ]
    }
   ],
   "source": [
    "# -- And check the index file after\n",
    "!cat $cachedir/index"
   ]
  },
  {
   "cell_type": "markdown",
   "metadata": {},
   "source": [
    "## This was how to use the CliMAF cache!\n",
    "##  \n",
    "##  \n",
    "## -> go back to the other examples to see more on data access, how to work with ensembles, build an html page...\n",
    "##  "
   ]
  },
  {
   "cell_type": "code",
   "execution_count": null,
   "metadata": {},
   "outputs": [],
   "source": []
  }
 ],
 "metadata": {
  "kernelspec": {
   "display_name": "Python [default]",
   "language": "python",
   "name": "python2"
  },
  "language_info": {
   "codemirror_mode": {
    "name": "ipython",
    "version": 2
   },
   "file_extension": ".py",
   "mimetype": "text/x-python",
   "name": "python",
   "nbconvert_exporter": "python",
   "pygments_lexer": "ipython2",
   "version": "2.7.15"
  }
 },
 "nbformat": 4,
 "nbformat_minor": 1
}
