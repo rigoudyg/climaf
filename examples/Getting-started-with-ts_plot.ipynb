{
 "cells": [
  {
   "cell_type": "code",
   "execution_count": 1,
   "metadata": {},
   "outputs": [
    {
     "data": {
      "text/html": [
       "<img src=\"https://vesg.ipsl.upmc.fr/thredds/fileServer/IPSLFS/jservon/CliMAF_Notebooks_html/CliMAF-logo-small.png\"/>"
      ],
      "text/plain": [
       "<IPython.core.display.Image object>"
      ]
     },
     "execution_count": 1,
     "metadata": {},
     "output_type": "execute_result"
    }
   ],
   "source": [
    "from IPython.display import Image\n",
    "Image(url='https://vesg.ipsl.upmc.fr/thredds/fileServer/IPSLFS/jservon/CliMAF_Notebooks_html/CliMAF-logo-small.png') "
   ]
  },
  {
   "cell_type": "markdown",
   "metadata": {},
   "source": [
    "# CliMAF: Climate Model Assessment Framework\n",
    "### A science-oriented framework to ease the analysis of climate model simulations\n",
    "##### WP5 ANR Convergence\n",
    "##### Development team: Stéphane Sénési (CNRM-GAME), Gaëlle Rigoudy (CNRM-GAME), Jérôme Servonnat (LSCE-IPSL), Ludivine Vignon (CNRM-GAME), Laurent Franchisteguy (CNRM-GAME), Patrick Brockmann (LSCE-IPSL)\n",
    "##### Beta-testing: Olivier Marti (LSCE-IPSL), Marie-Pierre Moine (CERFACS), Emilia Sanchez-Gomez (CERFACS)\n",
    "##   \n",
    "##### contact: climaf@meteo.fr\n",
    "##### users list: climaf-users@meteo.fr"
   ]
  },
  {
   "cell_type": "markdown",
   "metadata": {},
   "source": [
    "# Getting started with ts_plot()"
   ]
  },
  {
   "cell_type": "code",
   "execution_count": 2,
   "metadata": {},
   "outputs": [
    {
     "data": {
      "text/html": [
       "<img src=\"https://vesg.ipsl.upmc.fr/thredds/fileServer/IPSLFS/jservon/CliMAF_Notebooks_html/ts_plot_example.png\"/>"
      ],
      "text/plain": [
       "<IPython.core.display.Image object>"
      ]
     },
     "execution_count": 2,
     "metadata": {},
     "output_type": "execute_result"
    }
   ],
   "source": [
    "Image(url='https://vesg.ipsl.upmc.fr/thredds/fileServer/IPSLFS/jservon/CliMAF_Notebooks_html/ts_plot_example.png')"
   ]
  },
  {
   "cell_type": "markdown",
   "metadata": {},
   "source": [
    "## Outline\n",
    "- 1. basic plot\n",
    "    -   1.a: Different python objects handled by ts_plot (link with ts_plot doc)\n",
    "    -   1.b: Change figure size and plot margins\n",
    "- 2. Customize the plot\n",
    "    -   2.a: edit the titles, labels, and axis\n",
    "    -   2.b: lines colors, thickness, patterns and transparency\n",
    "    -   2.c: highlight a period\n",
    "    -   customize the legend: see section 3.c\n",
    "- 3. Plotting multiple lines: an example with an ensemble\n",
    "    -   3.a: plot an ensemble\n",
    "    -   3.b: add the ensemble mean and control the colors\n",
    "    -   3.c: customize the legend\n",
    "    \n",
    "## Also see CliMAF documentation on ts_plot:\n",
    "https://climaf.readthedocs.io/en/master/functions_results_viewing.html?#ts-plot-shortcut-for-ensemble-ts-plot\n",
    "\n",
    "which is a shortcut for ensemble_ts_plot script:\n",
    "\n",
    "https://climaf.readthedocs.io/en/master/scripts/ensemble_ts_plot.html"
   ]
  },
  {
   "cell_type": "markdown",
   "metadata": {},
   "source": [
    "#  "
   ]
  },
  {
   "cell_type": "markdown",
   "metadata": {},
   "source": [
    "## List of all options available\n",
    "\n",
    "Lines:\n",
    "- colors: list of colors\n",
    "- lw: lines thicknesses\n",
    "- alphas: lines opacity\n",
    "- linestyles: lines styles\n",
    "- highlight_period: Highlight a period on a time series (thicker line) ; provide the list of periods yearstart_yearend  (Ex: ['1980_2005','1990_2000'] to highlight the first period on the first dataset, and the second period on the second dataset)\n",
    "- highlight_period_lw: Thickness of the highlighted period\n",
    "- time_offset : Add a time offset to the beginning of the time series\n",
    "\n",
    "General settings:\n",
    "- min, max: minimum and maximum value\n",
    "- offset, scale: apply an offset and a scale to all your time series\n",
    "- xlim: Provide the start date and end date to force the X axis. Ex: 1950-01-01,2005-12-31\n",
    "- ylim: Provide the interval for the Y axis\n",
    "- xlabel, ylabel: X and Y axis label\n",
    "- xlabel_fontsize, ylabel_fontsize: X and Y axis label size\n",
    "- tick_size: Ticks size\n",
    "- fig_size: Size of the figure in inches => width*height Ex: 15*5\n",
    "\n",
    "Text:\n",
    "- text: add some text in the plot; the user provides a triplet separared with commas x,y,text; separate the triplets with | if you want to provide multiple texts. Ex: x1,y1,text1|x2,y2,text2\n",
    "- text_fontsize: fontsize of the text (list if more than one)\n",
    "- text_colors: color of the text (list if more than one)\n",
    "- text_verticalalignment: Vertical alignment of the text (list if more than one)\n",
    "- text_horizontalalignment: Horizontal alignment of the text (list if more than one)\n",
    "\n",
    "Titles:\n",
    "- left_string: Left string (used as title by default)\n",
    "- right_string: Right string\n",
    "- center_string: Center string\n",
    "- left_string_fontsize: Left string size\n",
    "- right_string_fontsize: Right string size\n",
    "- center_string_fontsize: Center string size\n",
    "\n",
    "Legend:\n",
    "- draw_legend: Draw the legend? True/False\n",
    "- legend_colors: legend colors separated by commas\n",
    "- legend_labels: Labels of the legend\n",
    "- legend_xy_pos: x,y Position of the corner of the box (by default = upper left corner). Example= “1.02,1”\n",
    "- legend_loc: Choose the corner of the legend box to specify the position of the legend box; by default 2 (upper left corner), take values 1, 2, 3 or 4 (see resource loc of pyplot legend)\n",
    "- legend_fontsize: Font size in the legend\n",
    "- legend_ncol: Number of columns in the legend\n",
    "- legend_frame: Draw the box around the legend? True/False\n",
    "- legend_lw: Line widths (provide either one for all, or one by time series separated by commas)\n",
    "- append_custom_legend_to_default: Append the custom legend to the default one? True/False\n",
    "\n",
    "Control margins:\n",
    "- left_margin: Position of the left border of the figure in the plot\n",
    "- right_margin: Position of the right border of the figure in the plot\n",
    "- bottom_margin: Position of the bottom border of the figure in the plot\n",
    "- top_margin: Position of the top border of the figure in the plot\n",
    "\n",
    "Horizontal and vertical lines:\n",
    "- horizontal_lines_values: Y values for horizontal lines\n",
    "- horizontal_lines_styles: Horizontal lines styles\n",
    "- horizontal_lines_lw: Horizontal lines thickness\n",
    "- horizontal_lines_colors: Horizontal lines colors\n",
    "- vertical_lines_values: Y values for vertical lines\n",
    "- vertical_lines_styles: vertical lines styles\n",
    "- vertical_lines_lw: vertical lines thickness\n",
    "- vertical_lines_colors: vertical lines colors"
   ]
  },
  {
   "cell_type": "markdown",
   "metadata": {},
   "source": [
    "## Import climaf"
   ]
  },
  {
   "cell_type": "code",
   "execution_count": 3,
   "metadata": {},
   "outputs": [
    {
     "name": "stderr",
     "output_type": "stream",
     "text": [
      "CliMAF version = 1.2.13\n",
      "Cache directory set to : /data/jservon/climafcache_test (use $CLIMAF_CACHE if set) \n",
      "Cache directory for remote data set to : /data/jservon/climafcache_test/remote_data (use $CLIMAF_REMOTE_CACHE if set) \n"
     ]
    },
    {
     "name": "stdout",
     "output_type": "stream",
     "text": [
      "CliMAF install => /ciclad-home/jservon/Evaluation/CliMAF/climaf_installs/climaf_V1.2.13_post\n",
      "python => /modfs/modtools/miniconda2/envs/analyse_2.7/bin/python\n",
      "---\n",
      "Required softwares to run CliMAF => you are using the following versions/installations:\n",
      "ncl 6.3.0 => /opt/ncl-6.3.0/bin/ncl\n",
      "cdo 1.9.6 => /opt/nco/1.9/bin/cdo\n",
      "nco (ncks) 4.5.2 => /opt/nco-4.5.2/bin/ncks\n",
      "ncdump fichier => /modfs/modtools/miniconda2/envs/analyse_2.7/bin/ncdump\n",
      "Check stamping requirements\n",
      "nco (ncatted) found -> /opt/nco-4.5.2/bin/ncatted\n",
      "convert found -> /usr/bin/convert\n",
      "pdftk found -> /usr/bin/pdftk\n",
      "exiv2 found -> /ciclad-home/jservon/Evaluation/CliMAF/climaf_installs/climaf_V1.2.13_post/bin/exiv2\n",
      "---\n"
     ]
    },
    {
     "name": "stderr",
     "output_type": "stream",
     "text": [
      "warning  : When defining temp_penalty : duplicate declaration for input #0\n",
      "warning  : When defining cquantile : duplicate declaration for input #0\n",
      "warning  : When defining cquantile : duplicate declaration for input #0\n",
      "Available macros read from ~/.climaf.macros are : []\n"
     ]
    }
   ],
   "source": [
    "from climaf.api import *\n",
    "clog('critical') # min verbosity = critical < warning < info < debug = max verbosity"
   ]
  },
  {
   "cell_type": "markdown",
   "metadata": {},
   "source": [
    "#  "
   ]
  },
  {
   "cell_type": "markdown",
   "metadata": {},
   "source": [
    "## 0. Get a dataset and compute a global average annual mean time series"
   ]
  },
  {
   "cell_type": "code",
   "execution_count": 4,
   "metadata": {},
   "outputs": [],
   "source": [
    "dat = ds(project='CMIP5', model='CNRM-CM5', experiment='historical', frequency='monthly', version='v20130101',\n",
    "         period='1950-2005', variable='tos', realm='ocean' )\n",
    "ts_dat = ccdo(space_average(dat), operator='yearmean')"
   ]
  },
  {
   "cell_type": "markdown",
   "metadata": {},
   "source": [
    "#  \n",
    "## 1. Basic plot\n",
    "In this section we will see the basis to draw a time series plot with ts_plot:\n",
    "    -   1.a: Different python objects handled by ts_plot\n",
    "    -   1.b: Change figure size and plot margins"
   ]
  },
  {
   "cell_type": "markdown",
   "metadata": {},
   "source": [
    "### 1.a: Different python objects handled by ts_plot\n",
    "CliMAF documentation for ts_plot: https://climaf.readthedocs.io/en/master/functions_results_viewing.html?highlight=TS_PLOT#ts-plot-shortcut-for-ensemble-ts-plot"
   ]
  },
  {
   "cell_type": "markdown",
   "metadata": {},
   "source": [
    "### Simple CliMAF object"
   ]
  },
  {
   "cell_type": "code",
   "execution_count": 5,
   "metadata": {},
   "outputs": [
    {
     "data": {
      "image/png": "[encoded data removed]",
      "text/plain": [
       "<IPython.core.display.Image object>"
      ]
     },
     "execution_count": 5,
     "metadata": {},
     "output_type": "execute_result"
    }
   ],
   "source": [
    "# -- Trivial example: ts_dat is a CliMAF object\n",
    "myplot = ts_plot(ts_dat)\n",
    "iplot(myplot)"
   ]
  },
  {
   "cell_type": "markdown",
   "metadata": {},
   "source": [
    "### List of CliMAF objects"
   ]
  },
  {
   "cell_type": "markdown",
   "metadata": {},
   "source": [
    "### One object..."
   ]
  },
  {
   "cell_type": "code",
   "execution_count": 7,
   "metadata": {},
   "outputs": [
    {
     "ename": "AttributeError",
     "evalue": "'list' object has no attribute 'crs'",
     "output_type": "error",
     "traceback": [
      "\u001b[0;31m---------------------------------------------------------------------------\u001b[0m",
      "\u001b[0;31mAttributeError\u001b[0m                            Traceback (most recent call last)",
      "\u001b[0;32m<ipython-input-7-07ac70aad379>\u001b[0m in \u001b[0;36m<module>\u001b[0;34m()\u001b[0m\n\u001b[1;32m      1\u001b[0m \u001b[0;31m# -- Possibility to provide one, or more\u001b[0m\u001b[0;34m\u001b[0m\u001b[0;34m\u001b[0m\u001b[0m\n\u001b[1;32m      2\u001b[0m \u001b[0;31m# -- By default ts_plot uses the CRS of the CliMAF object for the legend\u001b[0m\u001b[0;34m\u001b[0m\u001b[0;34m\u001b[0m\u001b[0m\n\u001b[0;32m----> 3\u001b[0;31m \u001b[0mmyplot\u001b[0m \u001b[0;34m=\u001b[0m \u001b[0mts_plot\u001b[0m\u001b[0;34m(\u001b[0m \u001b[0;34m[\u001b[0m\u001b[0mts_dat\u001b[0m\u001b[0;34m]\u001b[0m \u001b[0;34m)\u001b[0m\u001b[0;34m\u001b[0m\u001b[0m\n\u001b[0m\u001b[1;32m      4\u001b[0m \u001b[0miplot\u001b[0m\u001b[0;34m(\u001b[0m\u001b[0mmyplot\u001b[0m\u001b[0;34m)\u001b[0m\u001b[0;34m\u001b[0m\u001b[0m\n",
      "\u001b[0;32m/ciclad-home/jservon/Evaluation/CliMAF/climaf_installs/climaf_V1.2.13_post/climaf/functions.pyc\u001b[0m in \u001b[0;36mts_plot\u001b[0;34m(ts, **kwargs)\u001b[0m\n\u001b[1;32m    860\u001b[0m                     \u001b[0melts_dict\u001b[0m\u001b[0;34m.\u001b[0m\u001b[0mupdate\u001b[0m\u001b[0;34m(\u001b[0m\u001b[0mts_elt\u001b[0m\u001b[0;34m)\u001b[0m\u001b[0;34m\u001b[0m\u001b[0m\n\u001b[1;32m    861\u001b[0m                 \u001b[0;32melse\u001b[0m\u001b[0;34m:\u001b[0m\u001b[0;34m\u001b[0m\u001b[0m\n\u001b[0;32m--> 862\u001b[0;31m                     \u001b[0mts_name\u001b[0m \u001b[0;34m=\u001b[0m \u001b[0mts\u001b[0m\u001b[0;34m.\u001b[0m\u001b[0mcrs\u001b[0m\u001b[0;34m\u001b[0m\u001b[0m\n\u001b[0m\u001b[1;32m    863\u001b[0m                     \u001b[0melts_order\u001b[0m\u001b[0;34m.\u001b[0m\u001b[0mappend\u001b[0m\u001b[0;34m(\u001b[0m\u001b[0mts_name\u001b[0m\u001b[0;34m)\u001b[0m\u001b[0;34m\u001b[0m\u001b[0m\n\u001b[1;32m    864\u001b[0m                     \u001b[0melts_dict\u001b[0m\u001b[0;34m.\u001b[0m\u001b[0mupdate\u001b[0m\u001b[0;34m(\u001b[0m\u001b[0;34m{\u001b[0m\u001b[0mts_name\u001b[0m\u001b[0;34m:\u001b[0m \u001b[0mts_elt\u001b[0m\u001b[0;34m}\u001b[0m\u001b[0;34m)\u001b[0m\u001b[0;34m\u001b[0m\u001b[0m\n",
      "\u001b[0;31mAttributeError\u001b[0m: 'list' object has no attribute 'crs'"
     ]
    }
   ],
   "source": [
    "# -- Possibility to provide one, or more\n",
    "# -- By default ts_plot uses the CRS of the CliMAF object for the legend\n",
    "myplot = ts_plot( [ts_dat] )\n",
    "iplot(myplot)"
   ]
  },
  {
   "cell_type": "markdown",
   "metadata": {},
   "source": [
    "### ... or several"
   ]
  },
  {
   "cell_type": "code",
   "execution_count": null,
   "metadata": {},
   "outputs": [],
   "source": [
    "# -- It is possible to provide more than one to plot multiple time series\n",
    "# -- !!! can't provide twice the same object within the same list\n",
    "myplot = ts_plot( [ts_dat, fadd(ts_dat, 0.1)] )\n",
    "iplot(myplot)"
   ]
  },
  {
   "cell_type": "markdown",
   "metadata": {},
   "source": [
    "### Python dictionary with explicit names for the legend"
   ]
  },
  {
   "cell_type": "code",
   "execution_count": null,
   "metadata": {},
   "outputs": [],
   "source": [
    "# -- It is possible to provide more than one to plot multiple time series\n",
    "# -- Unlike with list, yoiu can provide the same object twice but with different names\n",
    "myplot = ts_plot( dict(ts_dat=ts_dat, ts_dat01=fadd(ts_dat, 0.1) ) ) #ts_dat01=ts_dat\n",
    "iplot(myplot)"
   ]
  },
  {
   "cell_type": "markdown",
   "metadata": {},
   "source": [
    "### CliMAF ensemble"
   ]
  },
  {
   "cell_type": "code",
   "execution_count": null,
   "metadata": {},
   "outputs": [],
   "source": [
    "# -- Same principle as a python dictionary but with a specified order\n",
    "myplot = ts_plot( cens( dict(ts_dat=ts_dat, ts_dat01=fadd(ts_dat, 0.1) ), order=['ts_dat','ts_dat01'] ) )\n",
    "iplot(myplot)"
   ]
  },
  {
   "cell_type": "markdown",
   "metadata": {},
   "source": [
    "### 1.b: Control figure size and plot margins"
   ]
  },
  {
   "cell_type": "markdown",
   "metadata": {},
   "source": [
    "We control the size of the figure and the X/Y ratio with fig_size.\n",
    "\n",
    "By default, fig_size = '15*5', which means 15 inches in length and 5 in height.\n",
    "\n",
    "Let's change it for '15*10'"
   ]
  },
  {
   "cell_type": "code",
   "execution_count": null,
   "metadata": {},
   "outputs": [],
   "source": [
    "myplot = ts_plot(ts_dat,\n",
    "                 fig_size = '15*10',\n",
    "                )\n",
    "iplot(myplot)"
   ]
  },
  {
   "cell_type": "markdown",
   "metadata": {},
   "source": [
    "We control the width of the margins with (left,right,bottom,top)_margin.\n",
    "\n",
    "The value is the position of the axis within the coordinates of the frame, with:\n",
    "\n",
    "for left_margin and right_margin:\n",
    "- left border: 0\n",
    "- right border: 1\n",
    "\n",
    "for bottom_margin and top_margin:\n",
    "- bottom border: 0\n",
    "- top border: 1"
   ]
  },
  {
   "cell_type": "code",
   "execution_count": null,
   "metadata": {},
   "outputs": [],
   "source": [
    "myplot = ts_plot(ts_dat,\n",
    "                 fig_size = '15*10',\n",
    "                 left_margin = 0.1,\n",
    "                 right_margin = 1,\n",
    "                 bottom_margin = 0.01,\n",
    "                 top_margin = 0.8\n",
    "                )\n",
    "iplot(myplot)"
   ]
  },
  {
   "cell_type": "markdown",
   "metadata": {},
   "source": [
    "#  \n",
    "## 2. Customize the plot"
   ]
  },
  {
   "cell_type": "markdown",
   "metadata": {},
   "source": [
    "### 2.a: edit the titles, labels and axis\n",
    "- offset, scale the value of the data\n",
    "- x and y limits of the plot\n",
    "- x and y axis labels\n",
    "- titles"
   ]
  },
  {
   "cell_type": "code",
   "execution_count": null,
   "metadata": {},
   "outputs": [],
   "source": [
    "myplot = ts_plot(ts_dat,\n",
    "                     offset = -273.15,\n",
    "                     # - X and Y limits\n",
    "                     xlim = ['1951-01-01','2006-12-31'],\n",
    "                     ylim = [17.7,18.8],\n",
    "                     # -- X and Y labels\n",
    "                     xlabel = 'Calendar time',\n",
    "                     ylabel = 'Temperature (degC)',\n",
    "                     # -- Title strings\n",
    "                     left_string = 'Sea Surface Temperature',\n",
    "                     right_string = 'model = '+dat.model,\n",
    "                     left_string_fontsize = 30,\n",
    "                     right_string_fontsize = 20\n",
    "                     #center_string = '',\n",
    "                     #center_string_fontsize: Center string size\n",
    "                )\n",
    "iplot(myplot)"
   ]
  },
  {
   "cell_type": "markdown",
   "metadata": {},
   "source": [
    "### 2.b: lines colors, thickness, styles and transparency"
   ]
  },
  {
   "cell_type": "code",
   "execution_count": null,
   "metadata": {},
   "outputs": [],
   "source": [
    "myplot = ts_plot(dict(ts_dat=ts_dat,\n",
    "                      ts_dat01=fadd(ts_dat, 0.1),\n",
    "                      ts_dat02=fadd(ts_dat, 0.2) ),\n",
    "                 offset = -273.15,\n",
    "                 xlim = ['1951-01-01','2006-12-31'],\n",
    "                 ylim = [17.7,18.8],\n",
    "                 xlabel = 'Calendar time',\n",
    "                 ylabel = 'Temperature (degC)',\n",
    "                 left_string = 'Sea Surface Temperature',\n",
    "                 right_string = 'model = '+dat.model,\n",
    "                 left_string_fontsize = 30,\n",
    "                 right_string_fontsize = 20,\n",
    "                     # -- Colors (use python colors: https://python-graph-gallery.com/python-colors/)\n",
    "                     colors = ['red','blue','green'],\n",
    "                     # -- Line widths: default is 1\n",
    "                     lw = [5,2,5],\n",
    "                     # -- Line styles: have a look at this page to see the values you can use to specify the line styles:\n",
    "                     #    https://matplotlib.org/3.1.0/gallery/lines_bars_and_markers/linestyles.html\n",
    "                     #    Note: if you want to use a tuple, like (0,(3,5,1,5)), you should use a string\n",
    "                     #    with values separated with dash, like '0-3-5-1-5'\n",
    "                     linestyles=['solid','dashed','0-3-5-1-5'], #,\n",
    "                     # -- Alphas: line opacity\n",
    "                     #      -> 0 transparent\n",
    "                     #      -> 1 opac\n",
    "                     alphas = [0.2, 1, 1],\n",
    "                )\n",
    "iplot(myplot)"
   ]
  },
  {
   "cell_type": "markdown",
   "metadata": {},
   "source": [
    "### 2.c: highlight a period with a thicker line"
   ]
  },
  {
   "cell_type": "code",
   "execution_count": null,
   "metadata": {},
   "outputs": [],
   "source": [
    "myplot = ts_plot(ts_dat,\n",
    "                 offset = -273.15,\n",
    "                 xlim = ['1951-01-01','2006-12-31'],\n",
    "                 ylim = [17.7,18.8],\n",
    "                 xlabel = 'Calendar time',\n",
    "                 ylabel = 'Temperature (degC)',\n",
    "                 left_string = 'Sea Surface Temperature',\n",
    "                 right_string = 'model = '+dat.model,\n",
    "                 left_string_fontsize = 30,\n",
    "                 right_string_fontsize = 20,\n",
    "                 #center_string = '',\n",
    "                 #center_string_fontsize: Center string size\n",
    "                 colors = 'red',\n",
    "                 lw = 2,\n",
    "                     highlight_period = '1980-2000',\n",
    "                     highlight_period_lw = 8,\n",
    "                )\n",
    "iplot(myplot)"
   ]
  },
  {
   "cell_type": "markdown",
   "metadata": {},
   "source": [
    "## 3. Plot an ensemble\n",
    "In this section we will see some tricks specific to the use of ensembles.\n",
    "\n",
    "### Note that all the time series don't need to be part of the same ensemble, it is just a way to plot all of them at once."
   ]
  },
  {
   "cell_type": "code",
   "execution_count": null,
   "metadata": {},
   "outputs": [],
   "source": [
    "# - Let's start by getting an ensemble\n",
    "ens_req = ds(project='CMIP6',\n",
    "             model='IPSL-CM6A-LR',\n",
    "             experiment='historical',\n",
    "             table='Omon',\n",
    "             period='1900-2010',\n",
    "             variable='tos',\n",
    "             realization='*'\n",
    "            )\n",
    "from natsort import natsorted\n",
    "ens = ens_req.explore('ensemble')\n",
    "ens.order = natsorted(ens.order)\n",
    "\n",
    "# -- Compute annual mean global average\n",
    "ts_ens = ccdo(space_average(ens), operator='yearmean')"
   ]
  },
  {
   "cell_type": "markdown",
   "metadata": {},
   "source": [
    "## 3.a: Trivial plot"
   ]
  },
  {
   "cell_type": "code",
   "execution_count": null,
   "metadata": {},
   "outputs": [],
   "source": [
    "myplot = ts_plot(ts_ens,\n",
    "                 offset = -273.15,\n",
    "                 xlim = ['1951-01-01','2006-12-31'],\n",
    "                 #ylim = [17.7,18.8],\n",
    "                 xlabel = 'Calendar time',\n",
    "                 ylabel = 'Temperature (degC)',\n",
    "                 left_string = 'Sea Surface Temperature',\n",
    "                 right_string = 'IPSL-CM6A-LR historical',\n",
    "                 left_string_fontsize = 30,\n",
    "                 right_string_fontsize = 20,\n",
    "                )\n",
    "iplot(myplot)"
   ]
  },
  {
   "cell_type": "markdown",
   "metadata": {},
   "source": [
    "## 3.b: adding the ensemble mean to the plot\n",
    "We use this example to show how to add a time series to an existing ensemble, and specify line specs to a plut with many lines."
   ]
  },
  {
   "cell_type": "code",
   "execution_count": null,
   "metadata": {},
   "outputs": [],
   "source": [
    "# -- We start by computing the ensemble mean\n",
    "ensmean = ccdo_ens(ts_ens, operator='ensmean')\n",
    "\n",
    "# -- The easiest thing to do is to keep the ensemble (with all the time series),\n",
    "#    and add the ensemble mean.\n",
    "#    HOWEVER, you can't add the ensemble mean of an ensemble to this same ensemble.\n",
    "#    We thus copy the original ensemble to create an ens4plot ensemble for the plot\n",
    "ens4plot = ts_ens.copy()\n",
    "# -- And add the ensemble mean like this\n",
    "ens4plot['ensmean'] = ensmean"
   ]
  },
  {
   "cell_type": "code",
   "execution_count": null,
   "metadata": {},
   "outputs": [],
   "source": [
    "# -- ts_plot will use ens4plot.order to specify the order for the plotting.\n",
    "#    By default, the last element added to the ensemble is at the end of the .order list.\n",
    "ens4plot.order\n",
    "#    Knowing this, you can specify a specific color and line width for the last element of the ensemble\n",
    "#    with the last value of the colors and lw lists:"
   ]
  },
  {
   "cell_type": "code",
   "execution_count": null,
   "metadata": {},
   "outputs": [],
   "source": [
    "myplot = ts_plot(ens4plot,\n",
    "                 offset = -273.15,\n",
    "                 xlim = ['1951-01-01','2006-12-31'],\n",
    "                 #ylim = [17.7,18.8],\n",
    "                 xlabel = 'Calendar time',\n",
    "                 ylabel = 'Temperature (degC)',\n",
    "                 left_string = 'Sea Surface Temperature',\n",
    "                 right_string = 'IPSL-CM6A-LR historical',\n",
    "                 left_string_fontsize = 30,\n",
    "                 right_string_fontsize = 20,\n",
    "                     colors = ['grey']*len(ts_ens) + ['blue'],\n",
    "                     lw = [1]*len(ts_ens) + [4]\n",
    "                )\n",
    "iplot(myplot)"
   ]
  },
  {
   "cell_type": "markdown",
   "metadata": {},
   "source": [
    "## 3.c: customize the legend\n",
    "### It is possible to specify explicitely the legend instead of using the default legend (sometimes too busy):"
   ]
  },
  {
   "cell_type": "code",
   "execution_count": null,
   "metadata": {},
   "outputs": [],
   "source": [
    "myplot = ts_plot(ens4plot,\n",
    "                 offset = -273.15,\n",
    "                 xlim = ['1951-01-01','2006-12-31'],\n",
    "                 #ylim = [17.7,18.8],\n",
    "                 xlabel = 'Calendar time',\n",
    "                 ylabel = 'Temperature (degC)',\n",
    "                 left_string = 'Sea Surface Temperature',\n",
    "                 right_string = 'IPSL-CM6A-LR historical',\n",
    "                 left_string_fontsize = 30,\n",
    "                 right_string_fontsize = 20,\n",
    "                 colors = ['grey']*len(ts_ens) + ['blue'],\n",
    "                 lw = [1]*len(ts_ens) + [4],\n",
    "                     legend_colors = ['grey', 'blue'],\n",
    "                     legend_labels = ['IPSL-CM6A-LR members','Ensemble mean'],\n",
    "                     legend_lw = [1, 4],\n",
    "                     #legend_xy_pos: x,y Position of the corner of the box (by default = upper left corner). Example= “1.02,1”\n",
    "                     #legend_loc: Choose the corner of the legend box to specify the position of the legend box; by default 2 (upper left corner), take values 1, 2, 3 or 4 (see resource loc of pyplot legend)\n",
    "                     #legend_fontsize: Font size in the legend\n",
    "                     #legend_ncol: Number of columns in the legend\n",
    "                     #legend_frame: Draw the box around the legend? True/False\n",
    "                )\n",
    "iplot(myplot)"
   ]
  },
  {
   "cell_type": "markdown",
   "metadata": {},
   "source": [
    "### or change the legend position"
   ]
  },
  {
   "cell_type": "code",
   "execution_count": null,
   "metadata": {},
   "outputs": [],
   "source": [
    "myplot = ts_plot(ens4plot,\n",
    "                 offset = -273.15,\n",
    "                 xlim = ['1951-01-01','2006-12-31'],\n",
    "                 #ylim = [17.7,18.8],\n",
    "                 xlabel = 'Calendar time',\n",
    "                 ylabel = 'Temperature (degC)',\n",
    "                 left_string = 'Sea Surface Temperature',\n",
    "                 right_string = 'IPSL-CM6A-LR historical',\n",
    "                 left_string_fontsize = 30,\n",
    "                 right_string_fontsize = 20,\n",
    "                 colors = ['grey']*len(ts_ens) + ['blue'],\n",
    "                 lw = [1]*len(ts_ens) + [4],\n",
    "                 legend_colors = ['grey', 'blue'],\n",
    "                 legend_labels = ['IPSL-CM6A-LR members','Ensemble mean'],\n",
    "                 legend_lw = [1, 4],\n",
    "                     legend_xy_pos= [0.02,0.94],\n",
    "                     legend_fontsize = 20,\n",
    "                     #legend_ncol: Number of columns in the legend\n",
    "                     #legend_frame: Draw the box around the legend? True/False\n",
    "                 #center_string = '',\n",
    "                 #center_string_fontsize: Center string size\n",
    "                 #colors = 'red',\n",
    "                 #lw = 2,\n",
    "                 #    highlight_period = '1980-2000',\n",
    "                 #    highlight_period_lw = 8,\n",
    "                )\n",
    "iplot(myplot)"
   ]
  },
  {
   "cell_type": "markdown",
   "metadata": {},
   "source": [
    "### (same with 2 columns)"
   ]
  },
  {
   "cell_type": "code",
   "execution_count": null,
   "metadata": {},
   "outputs": [],
   "source": [
    "myplot = ts_plot(ens4plot,\n",
    "                 offset = -273.15,\n",
    "                 xlim = ['1951-01-01','2006-12-31'],\n",
    "                 #ylim = [17.7,18.8],\n",
    "                 xlabel = 'Calendar time',\n",
    "                 ylabel = 'Temperature (degC)',\n",
    "                 left_string = 'Sea Surface Temperature',\n",
    "                 right_string = 'IPSL-CM6A-LR historical',\n",
    "                 left_string_fontsize = 30,\n",
    "                 right_string_fontsize = 20,\n",
    "                 colors = ['grey']*len(ts_ens) + ['blue'],\n",
    "                 lw = [1]*len(ts_ens) + [4],\n",
    "                 legend_colors = ['grey', 'blue'],\n",
    "                 legend_labels = ['IPSL-CM6A-LR members','Ensemble mean'],\n",
    "                 legend_lw = [1, 4],\n",
    "                 legend_xy_pos= [0.02,0.94],\n",
    "                 legend_fontsize = 20,\n",
    "                     legend_ncol = 2,\n",
    "                     legend_frame = True,\n",
    "                 #center_string = '',\n",
    "                 #center_string_fontsize: Center string size\n",
    "                 #colors = 'red',\n",
    "                 #lw = 2,\n",
    "                 #    highlight_period = '1980-2000',\n",
    "                 #    highlight_period_lw = 8,\n",
    "                )\n",
    "iplot(myplot)"
   ]
  },
  {
   "cell_type": "markdown",
   "metadata": {},
   "source": [
    "### 3.d: Last example: highlight one member of an ensemble"
   ]
  },
  {
   "cell_type": "code",
   "execution_count": null,
   "metadata": {},
   "outputs": [],
   "source": [
    "# -- We start by computing the ensemble mean\n",
    "ensmean = ccdo_ens(ts_ens, operator='ensmean')\n",
    "\n",
    "# -- The easiest thing to do is to keep the ensemble (with all the time series),\n",
    "#    and add the ensemble mean.\n",
    "#    HOWEVER, you can't add the ensemble mean of an ensemble to this same ensemble.\n",
    "#    We thus copy the original ensemble to create an ens4plot ensemble for the plot\n",
    "ens4plot = ts_ens.copy()\n",
    "# -- Highlight a specific member: r8i1p1f1 --> move it at the end of the ensemble\n",
    "ens4plot.pop('r8i1p1f1')\n",
    "ens4plot['r8i1p1f1'] = ts_ens['r8i1p1f1']\n",
    "# -- And add the ensemble mean like this\n",
    "ens4plot['ensmean'] = ensmean\n",
    "\n",
    "ens4plot.order"
   ]
  },
  {
   "cell_type": "code",
   "execution_count": null,
   "metadata": {},
   "outputs": [],
   "source": [
    "myplot = ts_plot(ens4plot,\n",
    "                 offset = -273.15,\n",
    "                 xlim = ['1951-01-01','2006-12-31'],\n",
    "                 #ylim = [17.7,18.8],\n",
    "                 xlabel = 'Calendar time',\n",
    "                 ylabel = 'Temperature (degC)',\n",
    "                 left_string = 'Sea Surface Temperature',\n",
    "                 right_string = 'IPSL-CM6A-LR historical',\n",
    "                 left_string_fontsize = 30,\n",
    "                 right_string_fontsize = 20,\n",
    "                 colors = ['grey']*(len(ts_ens)-1) + ['red','blue'],\n",
    "                 lw = [1]*(len(ts_ens)-1) + [2, 4],\n",
    "                 legend_colors = ['grey', 'red', 'blue'],\n",
    "                 legend_labels = ['IPSL-CM6A-LR members', 'r8i1p1f1', 'Ensemble mean'],\n",
    "                 legend_lw = [1, 2, 4],\n",
    "                 legend_xy_pos= [0.02,0.94],\n",
    "                 legend_fontsize = 20,\n",
    "                 legend_ncol = 2,\n",
    "                 legend_frame = True,\n",
    "                )\n",
    "iplot(myplot)"
   ]
  },
  {
   "cell_type": "markdown",
   "metadata": {
    "collapsed": true
   },
   "source": [
    "## Questions?\n",
    "### -> https://climaf.readthedocs.io/en/master/scripts/ensemble_ts_plot.html\n",
    "### -> https://climaf.readthedocs.io/en/master/functions/ts_plot.html\n",
    "### -> climaf@meteo.fr"
   ]
  },
  {
   "cell_type": "code",
   "execution_count": null,
   "metadata": {},
   "outputs": [],
   "source": []
  }
 ],
 "metadata": {
  "kernelspec": {
   "display_name": "Python 2",
   "language": "python",
   "name": "python2"
  },
  "language_info": {
   "codemirror_mode": {
    "name": "ipython",
    "version": 2
   },
   "file_extension": ".py",
   "mimetype": "text/x-python",
   "name": "python",
   "nbconvert_exporter": "python",
   "pygments_lexer": "ipython2",
   "version": "2.7.15"
  }
 },
 "nbformat": 4,
 "nbformat_minor": 1
}
